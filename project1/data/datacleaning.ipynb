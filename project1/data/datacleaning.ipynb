{
 "cells": [
  {
   "cell_type": "code",
   "execution_count": 1,
   "metadata": {},
   "outputs": [],
   "source": [
    "import pandas as pd\n",
    "import numpy as np"
   ]
  },
  {
   "cell_type": "markdown",
   "metadata": {},
   "source": [
    "***\n",
    "# 2017 NSCH Data\n",
    "\n",
    "This data is the National Survey of Children's Health (NSCH) in 2017. This notebook will process and clean the data.\n",
    "\n",
    "### Code book:\n",
    "https://www.census.gov/data-tools/demo/nsch/#/?s_searchvalue=age&s_year=2017&selectedVar=A1_AGE\n",
    "\n",
    "### Guidelines for Data Use\n",
    "According to the 2017 NSCN's [Guidelines for Data Use](https://www.census.gov/content/dam/Census/programs-surveys/nsch/tech-documentation/methodology/2017-NSCH-FAQs.pdf), users can use the data for statistical reporting and analysis. Also, users must not use the data to identify any respondents, inadvertently or otherwise. Finally, prior to releasing any statistics to the public, the Census Bureau conducts reviews to ensure that no information or characteristics can identify any individual.\n",
    "\n",
    "### Citation\n",
    "The United States Census Bureau, Associate Director of Demographic Programs, National Survey of Children’s Health. 2017 National Survey of Children’s Health Frequently Asked Questions. September 2018. Available from: https://www.census.gov/content/dam/Census/programs-surveys/nsch/techdocumentation/methodology/NSCH%202016%20FAQs.pdf\n",
    "***"
   ]
  },
  {
   "cell_type": "code",
   "execution_count": 4,
   "metadata": {},
   "outputs": [
    {
     "data": {
      "text/html": [
       "<div>\n",
       "<style scoped>\n",
       "    .dataframe tbody tr th:only-of-type {\n",
       "        vertical-align: middle;\n",
       "    }\n",
       "\n",
       "    .dataframe tbody tr th {\n",
       "        vertical-align: top;\n",
       "    }\n",
       "\n",
       "    .dataframe thead th {\n",
       "        text-align: right;\n",
       "    }\n",
       "</style>\n",
       "<table border=\"1\" class=\"dataframe\">\n",
       "  <thead>\n",
       "    <tr style=\"text-align: right;\">\n",
       "      <th></th>\n",
       "      <th>fipsst</th>\n",
       "      <th>stratum</th>\n",
       "      <th>hhid</th>\n",
       "      <th>formtype</th>\n",
       "      <th>totkids_r</th>\n",
       "      <th>hhlanguage</th>\n",
       "      <th>sc_age_years</th>\n",
       "      <th>sc_sex</th>\n",
       "      <th>k2q35a_1_years</th>\n",
       "      <th>momage</th>\n",
       "      <th>...</th>\n",
       "      <th>a1_grade_if</th>\n",
       "      <th>bmiclass</th>\n",
       "      <th>hhcount_if</th>\n",
       "      <th>fpl_i1</th>\n",
       "      <th>fpl_i2</th>\n",
       "      <th>fpl_i3</th>\n",
       "      <th>fpl_i4</th>\n",
       "      <th>fpl_i5</th>\n",
       "      <th>fpl_i6</th>\n",
       "      <th>fwc</th>\n",
       "    </tr>\n",
       "  </thead>\n",
       "  <tbody>\n",
       "    <tr>\n",
       "      <th>0</th>\n",
       "      <td>37</td>\n",
       "      <td>1</td>\n",
       "      <td>17000010</td>\n",
       "      <td>T1</td>\n",
       "      <td>3</td>\n",
       "      <td>3.0</td>\n",
       "      <td>0</td>\n",
       "      <td>2</td>\n",
       "      <td>NaN</td>\n",
       "      <td>36.0</td>\n",
       "      <td>...</td>\n",
       "      <td>0</td>\n",
       "      <td>NaN</td>\n",
       "      <td>0</td>\n",
       "      <td>50</td>\n",
       "      <td>50</td>\n",
       "      <td>50</td>\n",
       "      <td>50</td>\n",
       "      <td>50</td>\n",
       "      <td>50</td>\n",
       "      <td>16407.556854</td>\n",
       "    </tr>\n",
       "    <tr>\n",
       "      <th>1</th>\n",
       "      <td>2</td>\n",
       "      <td>2A</td>\n",
       "      <td>17000013</td>\n",
       "      <td>T3</td>\n",
       "      <td>1</td>\n",
       "      <td>1.0</td>\n",
       "      <td>13</td>\n",
       "      <td>2</td>\n",
       "      <td>NaN</td>\n",
       "      <td>30.0</td>\n",
       "      <td>...</td>\n",
       "      <td>0</td>\n",
       "      <td>2.0</td>\n",
       "      <td>0</td>\n",
       "      <td>181</td>\n",
       "      <td>181</td>\n",
       "      <td>181</td>\n",
       "      <td>181</td>\n",
       "      <td>181</td>\n",
       "      <td>181</td>\n",
       "      <td>152.449899</td>\n",
       "    </tr>\n",
       "    <tr>\n",
       "      <th>2</th>\n",
       "      <td>40</td>\n",
       "      <td>1</td>\n",
       "      <td>17000025</td>\n",
       "      <td>T3</td>\n",
       "      <td>1</td>\n",
       "      <td>1.0</td>\n",
       "      <td>15</td>\n",
       "      <td>1</td>\n",
       "      <td>13.0</td>\n",
       "      <td>30.0</td>\n",
       "      <td>...</td>\n",
       "      <td>0</td>\n",
       "      <td>2.0</td>\n",
       "      <td>0</td>\n",
       "      <td>329</td>\n",
       "      <td>329</td>\n",
       "      <td>329</td>\n",
       "      <td>329</td>\n",
       "      <td>329</td>\n",
       "      <td>329</td>\n",
       "      <td>605.780083</td>\n",
       "    </tr>\n",
       "    <tr>\n",
       "      <th>3</th>\n",
       "      <td>13</td>\n",
       "      <td>1</td>\n",
       "      <td>17000031</td>\n",
       "      <td>T2</td>\n",
       "      <td>1</td>\n",
       "      <td>1.0</td>\n",
       "      <td>9</td>\n",
       "      <td>1</td>\n",
       "      <td>NaN</td>\n",
       "      <td>27.0</td>\n",
       "      <td>...</td>\n",
       "      <td>0</td>\n",
       "      <td>NaN</td>\n",
       "      <td>0</td>\n",
       "      <td>347</td>\n",
       "      <td>347</td>\n",
       "      <td>347</td>\n",
       "      <td>347</td>\n",
       "      <td>347</td>\n",
       "      <td>347</td>\n",
       "      <td>1793.169449</td>\n",
       "    </tr>\n",
       "    <tr>\n",
       "      <th>4</th>\n",
       "      <td>31</td>\n",
       "      <td>1</td>\n",
       "      <td>17000034</td>\n",
       "      <td>T2</td>\n",
       "      <td>2</td>\n",
       "      <td>1.0</td>\n",
       "      <td>8</td>\n",
       "      <td>2</td>\n",
       "      <td>NaN</td>\n",
       "      <td>27.0</td>\n",
       "      <td>...</td>\n",
       "      <td>0</td>\n",
       "      <td>NaN</td>\n",
       "      <td>0</td>\n",
       "      <td>400</td>\n",
       "      <td>400</td>\n",
       "      <td>400</td>\n",
       "      <td>400</td>\n",
       "      <td>400</td>\n",
       "      <td>400</td>\n",
       "      <td>688.982814</td>\n",
       "    </tr>\n",
       "  </tbody>\n",
       "</table>\n",
       "<p>5 rows × 431 columns</p>\n",
       "</div>"
      ],
      "text/plain": [
       "   fipsst stratum      hhid formtype  totkids_r  hhlanguage  sc_age_years  \\\n",
       "0      37       1  17000010       T1          3         3.0             0   \n",
       "1       2      2A  17000013       T3          1         1.0            13   \n",
       "2      40       1  17000025       T3          1         1.0            15   \n",
       "3      13       1  17000031       T2          1         1.0             9   \n",
       "4      31       1  17000034       T2          2         1.0             8   \n",
       "\n",
       "   sc_sex  k2q35a_1_years  momage      ...       a1_grade_if  bmiclass  \\\n",
       "0       2             NaN    36.0      ...                 0       NaN   \n",
       "1       2             NaN    30.0      ...                 0       2.0   \n",
       "2       1            13.0    30.0      ...                 0       2.0   \n",
       "3       1             NaN    27.0      ...                 0       NaN   \n",
       "4       2             NaN    27.0      ...                 0       NaN   \n",
       "\n",
       "   hhcount_if  fpl_i1  fpl_i2  fpl_i3  fpl_i4  fpl_i5  fpl_i6           fwc  \n",
       "0           0      50      50      50      50      50      50  16407.556854  \n",
       "1           0     181     181     181     181     181     181    152.449899  \n",
       "2           0     329     329     329     329     329     329    605.780083  \n",
       "3           0     347     347     347     347     347     347   1793.169449  \n",
       "4           0     400     400     400     400     400     400    688.982814  \n",
       "\n",
       "[5 rows x 431 columns]"
      ]
     },
     "execution_count": 4,
     "metadata": {},
     "output_type": "execute_result"
    }
   ],
   "source": [
    "df = pd.read_stata('nsch_2017_topical.dta')\n",
    "df.head()"
   ]
  },
  {
   "cell_type": "markdown",
   "metadata": {},
   "source": [
    "## Data Processing"
   ]
  },
  {
   "cell_type": "markdown",
   "metadata": {},
   "source": [
    "First, I'll create an empty DataFrame that have the same size as the original DataFrame."
   ]
  },
  {
   "cell_type": "code",
   "execution_count": 42,
   "metadata": {},
   "outputs": [],
   "source": [
    "df_clean = pd.DataFrame(index=df.index)"
   ]
  },
  {
   "cell_type": "markdown",
   "metadata": {},
   "source": [
    "The first variable I want to save is the age of the children (from 0 - 17 years old)"
   ]
  },
  {
   "cell_type": "markdown",
   "metadata": {},
   "source": [
    "### Age\n",
    "\n",
    "`sc_age_years`: Age of Selected Child - In Years (0 - 17)"
   ]
  },
  {
   "cell_type": "code",
   "execution_count": 43,
   "metadata": {},
   "outputs": [
    {
     "data": {
      "text/plain": [
       "count    21599.000000\n",
       "mean         9.428585\n",
       "std          5.260100\n",
       "min          0.000000\n",
       "25%          5.000000\n",
       "50%         10.000000\n",
       "75%         14.000000\n",
       "max         17.000000\n",
       "Name: sc_age_years, dtype: float64"
      ]
     },
     "execution_count": 43,
     "metadata": {},
     "output_type": "execute_result"
    }
   ],
   "source": [
    "df.sc_age_years.describe()"
   ]
  },
  {
   "cell_type": "code",
   "execution_count": 44,
   "metadata": {},
   "outputs": [],
   "source": [
    "df_clean['sc_age_years'] = df.sc_age_years.copy()"
   ]
  },
  {
   "cell_type": "markdown",
   "metadata": {},
   "source": [
    "***"
   ]
  },
  {
   "cell_type": "markdown",
   "metadata": {},
   "source": [
    "### Screen time\n",
    "\n",
    "These two variables are the primary ones we will work with. I will subtract the data by 1 so that the response code of 0 means \"Spent zero hours\" and rename the variables to `cmputr_time` and `tv_time`.\n",
    "\n",
    "`k7q91_r`: How Much Time Spent with Computers (renamed to `cmputr_time`)\n",
    "\n",
    "`k7q60_r`: How Much Time Spent Watching TV (renamed to `tv_time`)\n",
    "\n",
    "**Response Codes:**\n",
    "- 1 = None\n",
    "- 2 = Less than 1 hour\n",
    "- 3 = 1 hour\n",
    "- 4 = 2 hours\n",
    "- 5 = 3 hours\n",
    "- 6 = 4 or more hours"
   ]
  },
  {
   "cell_type": "code",
   "execution_count": 45,
   "metadata": {},
   "outputs": [
    {
     "data": {
      "text/plain": [
       "count    21402.000000\n",
       "mean         2.279507\n",
       "std          1.555088\n",
       "min          0.000000\n",
       "25%          1.000000\n",
       "50%          2.000000\n",
       "75%          3.000000\n",
       "max          5.000000\n",
       "Name: cmputr_time, dtype: float64"
      ]
     },
     "execution_count": 45,
     "metadata": {},
     "output_type": "execute_result"
    }
   ],
   "source": [
    "df_clean['cmputr_time'] = df.k7q91_r.copy() - 1\n",
    "df_clean.cmputr_time.describe()"
   ]
  },
  {
   "cell_type": "code",
   "execution_count": 46,
   "metadata": {},
   "outputs": [
    {
     "data": {
      "text/plain": [
       "count    21399.000000\n",
       "mean         2.314547\n",
       "std          1.321909\n",
       "min          0.000000\n",
       "25%          1.000000\n",
       "50%          2.000000\n",
       "75%          3.000000\n",
       "max          5.000000\n",
       "Name: tv_time, dtype: float64"
      ]
     },
     "execution_count": 46,
     "metadata": {},
     "output_type": "execute_result"
    }
   ],
   "source": [
    "df_clean['tv_time'] = df.k7q60_r.copy() - 1\n",
    "df_clean.tv_time.describe()"
   ]
  },
  {
   "cell_type": "markdown",
   "metadata": {},
   "source": [
    "***\n",
    "### Anxiety level\n",
    "\n",
    "These 3 variables are directly related to the **Anxiety Severity Level** of the children. I processed the data so that the final data will indicate the anxiety severity level from Mild (1) to Severe (3) or None (0) or Data not available (NaN)\n",
    "\n",
    "`k2q33a`: Has a doctor or other health care provider EVER told you that (fill with SC_NAME) has...Anxiety Problems? **Yes=1**, **No=2** or **NaN**\n",
    "\n",
    "`k2q33b`: If yes, does (fill with SC_NAME) CURRENTLY have the condition? **Yes=1**, **No=2** or **NaN**\n",
    "\n",
    "`k2q33c`: Anxiety Severity Level.\n",
    "\n",
    "**Response Code:**\n",
    "- 1 = Mild\n",
    "- 2 = Moderate\n",
    "- 3 = Severe\n",
    "\n",
    "**Create a column indicating Anxiety Severity Level:**\n",
    "\n",
    "**Response Code:**\n",
    "- NaN = Did not provide answers to any of these questions\n",
    "- 0 = Did not have anxiety (`k2q33a` is **No** or `k2q33b` is **No**)\n",
    "- 1 = Mild\n",
    "- 2 = Moderate\n",
    "- 3 = Severe"
   ]
  },
  {
   "cell_type": "code",
   "execution_count": 47,
   "metadata": {},
   "outputs": [
    {
     "data": {
      "text/plain": [
       "count    21479.000000\n",
       "mean         0.132269\n",
       "std          0.480712\n",
       "min          0.000000\n",
       "25%          0.000000\n",
       "50%          0.000000\n",
       "75%          0.000000\n",
       "max          3.000000\n",
       "Name: anxiety_lvl, dtype: float64"
      ]
     },
     "execution_count": 47,
     "metadata": {},
     "output_type": "execute_result"
    }
   ],
   "source": [
    "# Cleaning data to make sure NaN will not mess up with 0\n",
    "anxiety_lvl = df.k2q33c.copy()\n",
    "for i in range(len(df['k2q33c'])):\n",
    "    if df['k2q33a'][i] == 2 or df['k2q33b'][i] == 2: # appropriately update NaN to be 0\n",
    "        if np.isnan(anxiety_lvl[i]):\n",
    "            anxiety_lvl[i] = 0\n",
    "df_clean['anxiety_lvl'] = anxiety_lvl\n",
    "df_clean['anxiety_lvl'].describe()"
   ]
  },
  {
   "cell_type": "markdown",
   "metadata": {},
   "source": [
    "***\n",
    "### Depression level\n",
    "\n",
    "These 3 variables are directly related to the **Depression Severity Level** of the children. I processed the data so that the final data will indicate the depression severity level from Mild (1) to Severe (3) or None (0) or Data not available (NaN)\n",
    "\n",
    "`k2q32a`: Has a doctor or other health care provider EVER told you that (fill with SC_NAME) has...Depression Problems? **Yes=1**, **No=2** or **NaN**\n",
    "\n",
    "`k2q32b`: If yes, does (fill with SC_NAME) CURRENTLY have the condition? **Yes=1**, **No=2** or **NaN**\n",
    "\n",
    "`k2q32c`: Depression Severity Level.\n",
    "\n",
    "**Response Code:**\n",
    "- 1 = Mild\n",
    "- 2 = Moderate\n",
    "- 3 = Severe\n",
    "\n",
    "**Create a column indicating Depression Severity Level:**\n",
    "\n",
    "**Response Code:**\n",
    "- NaN = Did not provide answers to any of these questions\n",
    "- 0 = Did not have depression (`k2q32a` is **No** or `k2q32b` is **No**)\n",
    "- 1 = Mild\n",
    "- 2 = Moderate\n",
    "- 3 = Severe"
   ]
  },
  {
   "cell_type": "code",
   "execution_count": 48,
   "metadata": {},
   "outputs": [
    {
     "data": {
      "text/plain": [
       "count    21520.000000\n",
       "mean         0.056691\n",
       "std          0.317323\n",
       "min          0.000000\n",
       "25%          0.000000\n",
       "50%          0.000000\n",
       "75%          0.000000\n",
       "max          3.000000\n",
       "Name: depression_lvl, dtype: float64"
      ]
     },
     "execution_count": 48,
     "metadata": {},
     "output_type": "execute_result"
    }
   ],
   "source": [
    "# Cleaning data to make sure NaN will not mess up with 0\n",
    "depression_lvl = df.k2q32c.copy()\n",
    "for i in range(len(df['k2q32c'])):\n",
    "    if df['k2q32a'][i] == 2 or df['k2q32b'][i] == 2:\n",
    "        if np.isnan(depression_lvl[i]):\n",
    "            depression_lvl[i] = 0\n",
    "df_clean['depression_lvl'] = depression_lvl\n",
    "df_clean['depression_lvl'].describe()"
   ]
  },
  {
   "cell_type": "markdown",
   "metadata": {},
   "source": [
    "***\n",
    "### Need treatment\n",
    "\n",
    "This variable does not directly relate to anxiety and depression level. However, I'll save it just in case we need it.\n",
    "\n",
    "`k4q22_r`: DURING THE PAST 12 MONTHS, has (fill with SC_NAME) received any treatment or counseling from a mental health professional...Mental health professionals include psychiatrists, psychologists, psychiatric nurses, and clinical social workers. The variable will be renamed to `need_treatment`.\n",
    "\n",
    "**Response Code:**\n",
    "- 1 = Yes\n",
    "- 2 = No, but this child needed to see a mental health professional\n",
    "- 3 = No, this child did not need to see a mental health professional"
   ]
  },
  {
   "cell_type": "code",
   "execution_count": 49,
   "metadata": {},
   "outputs": [
    {
     "data": {
      "text/plain": [
       "count    21504.000000\n",
       "mean         2.773484\n",
       "std          0.619546\n",
       "min          1.000000\n",
       "25%          3.000000\n",
       "50%          3.000000\n",
       "75%          3.000000\n",
       "max          3.000000\n",
       "Name: need_treatment, dtype: float64"
      ]
     },
     "execution_count": 49,
     "metadata": {},
     "output_type": "execute_result"
    }
   ],
   "source": [
    "df_clean['need_treatment'] = df.k4q22_r.dropna().copy()\n",
    "df_clean.need_treatment.describe()"
   ]
  },
  {
   "cell_type": "markdown",
   "metadata": {},
   "source": [
    "***\n",
    "### Family meals\n",
    "\n",
    "This is an interesting variable, which will be used in Project 1. Please note that the response code only indicates the level, not the exact number of meals.\n",
    "\n",
    "`k8q11`: DURING THE PAST WEEK, on how many days did all the family members who live in the household eat a meal together? (renamed to `family_meals`)\n",
    "\n",
    "**Response Code:**\n",
    "- 1 = 0 days\n",
    "- 2 = 1-3 days\n",
    "- 3 = 4-6 days\n",
    "- 4 = Every day"
   ]
  },
  {
   "cell_type": "code",
   "execution_count": 50,
   "metadata": {},
   "outputs": [
    {
     "data": {
      "text/plain": [
       "count    21278.000000\n",
       "mean         2.065232\n",
       "std          0.866397\n",
       "min          0.000000\n",
       "25%          1.000000\n",
       "50%          2.000000\n",
       "75%          3.000000\n",
       "max          3.000000\n",
       "Name: family_meals, dtype: float64"
      ]
     },
     "execution_count": 50,
     "metadata": {},
     "output_type": "execute_result"
    }
   ],
   "source": [
    "df_clean['family_meals'] = df.k8q11.dropna().copy() - 1\n",
    "df_clean.family_meals.describe()"
   ]
  },
  {
   "cell_type": "markdown",
   "metadata": {},
   "source": [
    "***\n",
    "### Homework unfinished\n",
    "\n",
    "This variable is not used in my project. However, I'll save it just in case we need it.\n",
    "\n",
    "`k7q83_r`: How well do each of the following phrases describe: Your child does all required homework. (renamed to `homework_unfinished`. Highest value/level indicates that the children do not finish all required homwork.)\n",
    "\n",
    "**Response Code:**\n",
    "- 1 = Definitely true\n",
    "- 2 = Somewhat true\n",
    "- 3 = Not true"
   ]
  },
  {
   "cell_type": "code",
   "execution_count": 51,
   "metadata": {},
   "outputs": [
    {
     "data": {
      "text/plain": [
       "count    15238.000000\n",
       "mean         1.305027\n",
       "std          0.550181\n",
       "min          1.000000\n",
       "25%          1.000000\n",
       "50%          1.000000\n",
       "75%          2.000000\n",
       "max          3.000000\n",
       "Name: homework_unfinished, dtype: float64"
      ]
     },
     "execution_count": 51,
     "metadata": {},
     "output_type": "execute_result"
    }
   ],
   "source": [
    "df_clean['homework_unfinished'] = df.k7q83_r.dropna().copy()\n",
    "df_clean.homework_unfinished.describe()"
   ]
  },
  {
   "cell_type": "markdown",
   "metadata": {},
   "source": [
    "***\n",
    "## Save the DataFrame"
   ]
  },
  {
   "cell_type": "code",
   "execution_count": 53,
   "metadata": {},
   "outputs": [
    {
     "data": {
      "text/html": [
       "<div>\n",
       "<style scoped>\n",
       "    .dataframe tbody tr th:only-of-type {\n",
       "        vertical-align: middle;\n",
       "    }\n",
       "\n",
       "    .dataframe tbody tr th {\n",
       "        vertical-align: top;\n",
       "    }\n",
       "\n",
       "    .dataframe thead th {\n",
       "        text-align: right;\n",
       "    }\n",
       "</style>\n",
       "<table border=\"1\" class=\"dataframe\">\n",
       "  <thead>\n",
       "    <tr style=\"text-align: right;\">\n",
       "      <th></th>\n",
       "      <th>sc_age_years</th>\n",
       "      <th>cmputr_time</th>\n",
       "      <th>tv_time</th>\n",
       "      <th>anxiety_lvl</th>\n",
       "      <th>depression_lvl</th>\n",
       "      <th>need_treatment</th>\n",
       "      <th>family_meals</th>\n",
       "      <th>homework_unfinished</th>\n",
       "    </tr>\n",
       "  </thead>\n",
       "  <tbody>\n",
       "    <tr>\n",
       "      <th>0</th>\n",
       "      <td>0</td>\n",
       "      <td>0.0</td>\n",
       "      <td>0.0</td>\n",
       "      <td>0.0</td>\n",
       "      <td>0.0</td>\n",
       "      <td>3.0</td>\n",
       "      <td>1.0</td>\n",
       "      <td>NaN</td>\n",
       "    </tr>\n",
       "    <tr>\n",
       "      <th>1</th>\n",
       "      <td>13</td>\n",
       "      <td>3.0</td>\n",
       "      <td>2.0</td>\n",
       "      <td>0.0</td>\n",
       "      <td>0.0</td>\n",
       "      <td>3.0</td>\n",
       "      <td>2.0</td>\n",
       "      <td>1.0</td>\n",
       "    </tr>\n",
       "    <tr>\n",
       "      <th>2</th>\n",
       "      <td>15</td>\n",
       "      <td>3.0</td>\n",
       "      <td>1.0</td>\n",
       "      <td>0.0</td>\n",
       "      <td>0.0</td>\n",
       "      <td>3.0</td>\n",
       "      <td>2.0</td>\n",
       "      <td>2.0</td>\n",
       "    </tr>\n",
       "    <tr>\n",
       "      <th>3</th>\n",
       "      <td>9</td>\n",
       "      <td>4.0</td>\n",
       "      <td>4.0</td>\n",
       "      <td>0.0</td>\n",
       "      <td>0.0</td>\n",
       "      <td>3.0</td>\n",
       "      <td>1.0</td>\n",
       "      <td>1.0</td>\n",
       "    </tr>\n",
       "    <tr>\n",
       "      <th>4</th>\n",
       "      <td>8</td>\n",
       "      <td>1.0</td>\n",
       "      <td>2.0</td>\n",
       "      <td>0.0</td>\n",
       "      <td>0.0</td>\n",
       "      <td>3.0</td>\n",
       "      <td>2.0</td>\n",
       "      <td>1.0</td>\n",
       "    </tr>\n",
       "  </tbody>\n",
       "</table>\n",
       "</div>"
      ],
      "text/plain": [
       "   sc_age_years  cmputr_time  tv_time  anxiety_lvl  depression_lvl  \\\n",
       "0             0          0.0      0.0          0.0             0.0   \n",
       "1            13          3.0      2.0          0.0             0.0   \n",
       "2            15          3.0      1.0          0.0             0.0   \n",
       "3             9          4.0      4.0          0.0             0.0   \n",
       "4             8          1.0      2.0          0.0             0.0   \n",
       "\n",
       "   need_treatment  family_meals  homework_unfinished  \n",
       "0             3.0           1.0                  NaN  \n",
       "1             3.0           2.0                  1.0  \n",
       "2             3.0           2.0                  2.0  \n",
       "3             3.0           1.0                  1.0  \n",
       "4             3.0           2.0                  1.0  "
      ]
     },
     "execution_count": 53,
     "metadata": {},
     "output_type": "execute_result"
    }
   ],
   "source": [
    "df_clean.head()"
   ]
  },
  {
   "cell_type": "code",
   "execution_count": 54,
   "metadata": {},
   "outputs": [],
   "source": [
    "df_clean.to_pickle(\"./nsch_2017_topical_clean.pkl\")"
   ]
  }
 ],
 "metadata": {
  "kernelspec": {
   "display_name": "Python 3",
   "language": "python",
   "name": "python3"
  },
  "language_info": {
   "codemirror_mode": {
    "name": "ipython",
    "version": 3
   },
   "file_extension": ".py",
   "mimetype": "text/x-python",
   "name": "python",
   "nbconvert_exporter": "python",
   "pygments_lexer": "ipython3",
   "version": "3.6.8"
  }
 },
 "nbformat": 4,
 "nbformat_minor": 2
}
