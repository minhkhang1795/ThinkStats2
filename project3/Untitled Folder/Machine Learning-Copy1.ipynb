{
 "cells": [
  {
   "cell_type": "code",
   "execution_count": 306,
   "metadata": {},
   "outputs": [],
   "source": [
    "import pandas as pd\n",
    "import numpy as np\n",
    "np.random.seed(1337)\n",
    "import matplotlib.pyplot as plt\n",
    "from sklearn.linear_model import Ridge, LogisticRegression\n",
    "from sklearn.neighbors import KNeighborsClassifier\n",
    "from sklearn.model_selection import GridSearchCV, train_test_split, cross_val_score\n",
    "from sklearn.pipeline import Pipeline\n",
    "from sklearn.preprocessing import StandardScaler\n",
    "from sklearn.metrics import classification_report, roc_curve, roc_auc_score"
   ]
  },
  {
   "cell_type": "code",
   "execution_count": 307,
   "metadata": {},
   "outputs": [],
   "source": [
    "from tensorflow.keras.layers import Dense, Dropout\n",
    "from tensorflow.keras.models import Sequential\n",
    "from tensorflow.keras.utils import to_categorical\n",
    "from tensorflow.keras.callbacks import EarlyStopping\n",
    "from tensorflow.keras import optimizers\n",
    "from tensorflow.keras import regularizers"
   ]
  },
  {
   "cell_type": "code",
   "execution_count": 308,
   "metadata": {},
   "outputs": [],
   "source": [
    "def clean_data(x, y=None, scaler=None):\n",
    "    x = x.drop('patient_id', axis=1)\n",
    "    x = pd.get_dummies(x)\n",
    "    x = x.drop('thal_reversible_defect', axis=1)\n",
    "    if y is not None:\n",
    "        y = y['heart_disease_present']\n",
    "    if scaler is None:\n",
    "        scaler = StandardScaler().fit(x)\n",
    "    x = scaler.transform(x)\n",
    "    return scaler, x, y"
   ]
  },
  {
   "cell_type": "code",
   "execution_count": 309,
   "metadata": {},
   "outputs": [],
   "source": [
    "# serum_cholesterol_mg_per_dl 0.006364026902311748\n",
    "# resting_blood_pressure 0.00616315049709204\n",
    "# fasting_blood_sugar_gt_120_mg_per_dl 1.1418131993679026e-05"
   ]
  },
  {
   "cell_type": "code",
   "execution_count": 310,
   "metadata": {},
   "outputs": [
    {
     "data": {
      "text/html": [
       "<div>\n",
       "<style scoped>\n",
       "    .dataframe tbody tr th:only-of-type {\n",
       "        vertical-align: middle;\n",
       "    }\n",
       "\n",
       "    .dataframe tbody tr th {\n",
       "        vertical-align: top;\n",
       "    }\n",
       "\n",
       "    .dataframe thead th {\n",
       "        text-align: right;\n",
       "    }\n",
       "</style>\n",
       "<table border=\"1\" class=\"dataframe\">\n",
       "  <thead>\n",
       "    <tr style=\"text-align: right;\">\n",
       "      <th></th>\n",
       "      <th>slope_of_peak_exercise_st_segment</th>\n",
       "      <th>thal</th>\n",
       "      <th>chest_pain_type</th>\n",
       "      <th>num_major_vessels</th>\n",
       "      <th>resting_ekg_results</th>\n",
       "      <th>oldpeak_eq_st_depression</th>\n",
       "      <th>sex</th>\n",
       "      <th>age</th>\n",
       "      <th>max_heart_rate_achieved</th>\n",
       "      <th>exercise_induced_angina</th>\n",
       "    </tr>\n",
       "  </thead>\n",
       "  <tbody>\n",
       "    <tr>\n",
       "      <th>0</th>\n",
       "      <td>1</td>\n",
       "      <td>normal</td>\n",
       "      <td>2</td>\n",
       "      <td>0</td>\n",
       "      <td>2</td>\n",
       "      <td>0.0</td>\n",
       "      <td>1</td>\n",
       "      <td>45</td>\n",
       "      <td>170</td>\n",
       "      <td>0</td>\n",
       "    </tr>\n",
       "    <tr>\n",
       "      <th>1</th>\n",
       "      <td>2</td>\n",
       "      <td>normal</td>\n",
       "      <td>3</td>\n",
       "      <td>0</td>\n",
       "      <td>0</td>\n",
       "      <td>1.6</td>\n",
       "      <td>0</td>\n",
       "      <td>54</td>\n",
       "      <td>158</td>\n",
       "      <td>0</td>\n",
       "    </tr>\n",
       "    <tr>\n",
       "      <th>2</th>\n",
       "      <td>1</td>\n",
       "      <td>normal</td>\n",
       "      <td>4</td>\n",
       "      <td>3</td>\n",
       "      <td>2</td>\n",
       "      <td>0.0</td>\n",
       "      <td>1</td>\n",
       "      <td>77</td>\n",
       "      <td>162</td>\n",
       "      <td>1</td>\n",
       "    </tr>\n",
       "    <tr>\n",
       "      <th>3</th>\n",
       "      <td>1</td>\n",
       "      <td>reversible_defect</td>\n",
       "      <td>4</td>\n",
       "      <td>0</td>\n",
       "      <td>0</td>\n",
       "      <td>0.0</td>\n",
       "      <td>1</td>\n",
       "      <td>40</td>\n",
       "      <td>181</td>\n",
       "      <td>0</td>\n",
       "    </tr>\n",
       "    <tr>\n",
       "      <th>4</th>\n",
       "      <td>3</td>\n",
       "      <td>reversible_defect</td>\n",
       "      <td>1</td>\n",
       "      <td>0</td>\n",
       "      <td>2</td>\n",
       "      <td>4.2</td>\n",
       "      <td>1</td>\n",
       "      <td>59</td>\n",
       "      <td>145</td>\n",
       "      <td>0</td>\n",
       "    </tr>\n",
       "  </tbody>\n",
       "</table>\n",
       "</div>"
      ],
      "text/plain": [
       "   slope_of_peak_exercise_st_segment               thal  chest_pain_type  \\\n",
       "0                                  1             normal                2   \n",
       "1                                  2             normal                3   \n",
       "2                                  1             normal                4   \n",
       "3                                  1  reversible_defect                4   \n",
       "4                                  3  reversible_defect                1   \n",
       "\n",
       "   num_major_vessels  resting_ekg_results  oldpeak_eq_st_depression  sex  age  \\\n",
       "0                  0                    2                       0.0    1   45   \n",
       "1                  0                    0                       1.6    0   54   \n",
       "2                  3                    2                       0.0    1   77   \n",
       "3                  0                    0                       0.0    1   40   \n",
       "4                  0                    2                       4.2    1   59   \n",
       "\n",
       "   max_heart_rate_achieved  exercise_induced_angina  \n",
       "0                      170                        0  \n",
       "1                      158                        0  \n",
       "2                      162                        1  \n",
       "3                      181                        0  \n",
       "4                      145                        0  "
      ]
     },
     "execution_count": 310,
     "metadata": {},
     "output_type": "execute_result"
    }
   ],
   "source": [
    "x = pd.read_csv('../../Data/train_values.csv')\n",
    "y = pd.read_csv('../../Data/train_labels.csv')\n",
    "x_test = pd.read_csv('../../Data/test_values.csv')\n",
    "patient_id_test = x_test['patient_id']\n",
    "\n",
    "x_test = x_test.drop('patient_id', axis=1)\n",
    "x_test = x_test.drop('serum_cholesterol_mg_per_dl', axis=1)\n",
    "x_test = x_test.drop('resting_blood_pressure', axis=1)\n",
    "x_test = x_test.drop('fasting_blood_sugar_gt_120_mg_per_dl', axis=1)\n",
    "\n",
    "x = x.drop('patient_id', axis=1)\n",
    "x = x.drop('serum_cholesterol_mg_per_dl', axis=1)\n",
    "x = x.drop('resting_blood_pressure', axis=1)\n",
    "x = x.drop('fasting_blood_sugar_gt_120_mg_per_dl', axis=1)\n",
    "y = y['heart_disease_present']\n",
    "x.head()"
   ]
  },
  {
   "cell_type": "code",
   "execution_count": 311,
   "metadata": {},
   "outputs": [
    {
     "data": {
      "text/html": [
       "<div>\n",
       "<style scoped>\n",
       "    .dataframe tbody tr th:only-of-type {\n",
       "        vertical-align: middle;\n",
       "    }\n",
       "\n",
       "    .dataframe tbody tr th {\n",
       "        vertical-align: top;\n",
       "    }\n",
       "\n",
       "    .dataframe thead th {\n",
       "        text-align: right;\n",
       "    }\n",
       "</style>\n",
       "<table border=\"1\" class=\"dataframe\">\n",
       "  <thead>\n",
       "    <tr style=\"text-align: right;\">\n",
       "      <th></th>\n",
       "      <th>slope_of_peak_exercise_st_segment</th>\n",
       "      <th>num_major_vessels</th>\n",
       "      <th>resting_ekg_results</th>\n",
       "      <th>oldpeak_eq_st_depression</th>\n",
       "      <th>sex</th>\n",
       "      <th>age</th>\n",
       "      <th>max_heart_rate_achieved</th>\n",
       "      <th>exercise_induced_angina</th>\n",
       "      <th>thal_fixed_defect</th>\n",
       "      <th>thal_reversible_defect</th>\n",
       "      <th>chest_pain_type_2</th>\n",
       "      <th>chest_pain_type_3</th>\n",
       "      <th>chest_pain_type_4</th>\n",
       "    </tr>\n",
       "  </thead>\n",
       "  <tbody>\n",
       "    <tr>\n",
       "      <th>0</th>\n",
       "      <td>-0.888762</td>\n",
       "      <td>-0.716404</td>\n",
       "      <td>0.951196</td>\n",
       "      <td>-0.900694</td>\n",
       "      <td>0.670152</td>\n",
       "      <td>-1.051032</td>\n",
       "      <td>0.929891</td>\n",
       "      <td>-0.678852</td>\n",
       "      <td>0</td>\n",
       "      <td>0</td>\n",
       "      <td>1</td>\n",
       "      <td>0</td>\n",
       "      <td>0</td>\n",
       "    </tr>\n",
       "    <tr>\n",
       "      <th>1</th>\n",
       "      <td>0.727169</td>\n",
       "      <td>-0.716404</td>\n",
       "      <td>-1.051322</td>\n",
       "      <td>0.526148</td>\n",
       "      <td>-1.483908</td>\n",
       "      <td>-0.086892</td>\n",
       "      <td>0.386007</td>\n",
       "      <td>-0.678852</td>\n",
       "      <td>0</td>\n",
       "      <td>0</td>\n",
       "      <td>0</td>\n",
       "      <td>1</td>\n",
       "      <td>0</td>\n",
       "    </tr>\n",
       "    <tr>\n",
       "      <th>2</th>\n",
       "      <td>-0.888762</td>\n",
       "      <td>2.378462</td>\n",
       "      <td>0.951196</td>\n",
       "      <td>-0.900694</td>\n",
       "      <td>0.670152</td>\n",
       "      <td>2.377024</td>\n",
       "      <td>0.567302</td>\n",
       "      <td>1.464891</td>\n",
       "      <td>0</td>\n",
       "      <td>0</td>\n",
       "      <td>0</td>\n",
       "      <td>0</td>\n",
       "      <td>1</td>\n",
       "    </tr>\n",
       "    <tr>\n",
       "      <th>3</th>\n",
       "      <td>-0.888762</td>\n",
       "      <td>-0.716404</td>\n",
       "      <td>-1.051322</td>\n",
       "      <td>-0.900694</td>\n",
       "      <td>0.670152</td>\n",
       "      <td>-1.586666</td>\n",
       "      <td>1.428452</td>\n",
       "      <td>-0.678852</td>\n",
       "      <td>0</td>\n",
       "      <td>1</td>\n",
       "      <td>0</td>\n",
       "      <td>0</td>\n",
       "      <td>1</td>\n",
       "    </tr>\n",
       "    <tr>\n",
       "      <th>4</th>\n",
       "      <td>2.343100</td>\n",
       "      <td>-0.716404</td>\n",
       "      <td>0.951196</td>\n",
       "      <td>2.844768</td>\n",
       "      <td>0.670152</td>\n",
       "      <td>0.448742</td>\n",
       "      <td>-0.203201</td>\n",
       "      <td>-0.678852</td>\n",
       "      <td>0</td>\n",
       "      <td>1</td>\n",
       "      <td>0</td>\n",
       "      <td>0</td>\n",
       "      <td>0</td>\n",
       "    </tr>\n",
       "  </tbody>\n",
       "</table>\n",
       "</div>"
      ],
      "text/plain": [
       "   slope_of_peak_exercise_st_segment  num_major_vessels  resting_ekg_results  \\\n",
       "0                          -0.888762          -0.716404             0.951196   \n",
       "1                           0.727169          -0.716404            -1.051322   \n",
       "2                          -0.888762           2.378462             0.951196   \n",
       "3                          -0.888762          -0.716404            -1.051322   \n",
       "4                           2.343100          -0.716404             0.951196   \n",
       "\n",
       "   oldpeak_eq_st_depression       sex       age  max_heart_rate_achieved  \\\n",
       "0                 -0.900694  0.670152 -1.051032                 0.929891   \n",
       "1                  0.526148 -1.483908 -0.086892                 0.386007   \n",
       "2                 -0.900694  0.670152  2.377024                 0.567302   \n",
       "3                 -0.900694  0.670152 -1.586666                 1.428452   \n",
       "4                  2.844768  0.670152  0.448742                -0.203201   \n",
       "\n",
       "   exercise_induced_angina  thal_fixed_defect  thal_reversible_defect  \\\n",
       "0                -0.678852                  0                       0   \n",
       "1                -0.678852                  0                       0   \n",
       "2                 1.464891                  0                       0   \n",
       "3                -0.678852                  0                       1   \n",
       "4                -0.678852                  0                       1   \n",
       "\n",
       "   chest_pain_type_2  chest_pain_type_3  chest_pain_type_4  \n",
       "0                  1                  0                  0  \n",
       "1                  0                  1                  0  \n",
       "2                  0                  0                  1  \n",
       "3                  0                  0                  1  \n",
       "4                  0                  0                  0  "
      ]
     },
     "execution_count": 311,
     "metadata": {},
     "output_type": "execute_result"
    }
   ],
   "source": [
    "categorical_vars= ['thal', 'chest_pain_type']\n",
    "for col in x.columns:\n",
    "    if col not in categorical_vars:\n",
    "        mean = x[col].mean()\n",
    "        std = x[col].std()\n",
    "        x[col] = (x[col] - mean)/std\n",
    "        \n",
    "x = pd.get_dummies(x, columns=categorical_vars)\n",
    "\n",
    "x = x.drop('chest_pain_type_1', axis=1)\n",
    "x = x.drop('thal_normal', axis=1)\n",
    "# x = x.drop('fasting_blood_sugar_gt_120_mg_per_dl_1', axis=1)\n",
    "\n",
    "x.head()\n",
    "# if scaler is None:\n",
    "#     scaler = StandardScaler().fit(x)\n",
    "# x = scaler.transform(x)"
   ]
  },
  {
   "cell_type": "code",
   "execution_count": 312,
   "metadata": {},
   "outputs": [],
   "source": [
    "for col in x_test.columns:\n",
    "    if col not in categorical_vars:\n",
    "        mean = x_test[col].mean()\n",
    "        std = x_test[col].std()\n",
    "        x_test[col] = (x_test[col] - mean)/std\n",
    "        \n",
    "x_test = pd.get_dummies(x_test, columns=categorical_vars)\n",
    "\n",
    "x_test = x_test.drop('chest_pain_type_1', axis=1)\n",
    "x_test = x_test.drop('thal_normal', axis=1)"
   ]
  },
  {
   "cell_type": "code",
   "execution_count": 313,
   "metadata": {},
   "outputs": [],
   "source": [
    "# patient_id_test = x_test['patient_id']\n",
    "# scaler, x, y = clean_data(x, y)\n",
    "# _, x_test, _ = clean_data(x_test, None, scaler)"
   ]
  },
  {
   "cell_type": "code",
   "execution_count": 314,
   "metadata": {},
   "outputs": [],
   "source": [
    "x_train, x_val, y_train, y_val = train_test_split(x, y, test_size=0.2, random_state=42)"
   ]
  },
  {
   "cell_type": "markdown",
   "metadata": {},
   "source": [
    "## Logistic Regression"
   ]
  },
  {
   "cell_type": "code",
   "execution_count": 315,
   "metadata": {},
   "outputs": [],
   "source": [
    "steps = [('scaler', StandardScaler()), ('classifier', LogisticRegression())]\n",
    "pipeline = Pipeline(steps)"
   ]
  },
  {
   "cell_type": "code",
   "execution_count": 316,
   "metadata": {},
   "outputs": [
    {
     "data": {
      "text/plain": [
       "Pipeline(memory=None,\n",
       "     steps=[('scaler', StandardScaler(copy=True, with_mean=True, with_std=True)), ('classifier', LogisticRegression(C=1.0, class_weight=None, dual=False, fit_intercept=True,\n",
       "          intercept_scaling=1, max_iter=100, multi_class='ovr', n_jobs=1,\n",
       "          penalty='l2', random_state=None, solver='liblinear', tol=0.0001,\n",
       "          verbose=0, warm_start=False))])"
      ]
     },
     "execution_count": 316,
     "metadata": {},
     "output_type": "execute_result"
    }
   ],
   "source": [
    "pipeline.fit(x_train, y_train)"
   ]
  },
  {
   "cell_type": "code",
   "execution_count": 317,
   "metadata": {},
   "outputs": [
    {
     "name": "stdout",
     "output_type": "stream",
     "text": [
      "0.8611111111111112\n"
     ]
    }
   ],
   "source": [
    "print(pipeline.score(x_val, y_val))"
   ]
  },
  {
   "cell_type": "code",
   "execution_count": 318,
   "metadata": {},
   "outputs": [
    {
     "data": {
      "text/plain": [
       "0.9124999999999999"
      ]
     },
     "execution_count": 318,
     "metadata": {},
     "output_type": "execute_result"
    }
   ],
   "source": [
    "y_pred_prob = pipeline.predict_proba(x_val)[:,1]\n",
    "fpr, tpr, thresholds = roc_curve(y_val, y_pred_prob)\n",
    "roc_auc_score(y_val, y_pred_prob)"
   ]
  },
  {
   "cell_type": "code",
   "execution_count": 319,
   "metadata": {},
   "outputs": [
    {
     "name": "stdout",
     "output_type": "stream",
     "text": [
      "0.0 \t 0.5555555555555556\n",
      "0.05 \t 0.5833333333333334\n",
      "0.1 \t 0.7777777777777778\n",
      "0.15 \t 0.8055555555555556\n",
      "0.2 \t 0.7777777777777778\n",
      "0.25 \t 0.8055555555555556\n",
      "0.3 \t 0.8888888888888888\n",
      "0.35 \t 0.8888888888888888\n",
      "0.4 \t 0.8611111111111112\n",
      "0.45 \t 0.8611111111111112\n",
      "0.5 \t 0.8611111111111112\n",
      "0.55 \t 0.8611111111111112\n",
      "0.6 \t 0.8611111111111112\n",
      "0.65 \t 0.8611111111111112\n",
      "0.7 \t 0.8055555555555556\n",
      "0.75 \t 0.7777777777777778\n",
      "0.8 \t 0.75\n",
      "0.85 \t 0.75\n",
      "0.9 \t 0.75\n",
      "0.95 \t 0.6111111111111112\n"
     ]
    }
   ],
   "source": [
    "thresholds = np.arange(0, 1, 0.05)\n",
    "for threshold in thresholds:\n",
    "    y_pred = [0 if y_prob < threshold else 1 for y_prob in y_pred_prob]\n",
    "    print(np.round(threshold,2), '\\t', (y_pred == y_val).mean())"
   ]
  },
  {
   "cell_type": "code",
   "execution_count": 320,
   "metadata": {},
   "outputs": [
    {
     "data": {
      "image/png": "[encoded data removed]",
      "text/plain": [
       "<Figure size 432x288 with 1 Axes>"
      ]
     },
     "metadata": {
      "needs_background": "light"
     },
     "output_type": "display_data"
    }
   ],
   "source": [
    "plt.plot([0, 1], [0, 1], 'k--')\n",
    "plt.plot(fpr, tpr, label='Logistic Regression')\n",
    "plt.xlabel('False Positive Rate')\n",
    "plt.ylabel('True Positive Rate')\n",
    "plt.title('Logistic Regression ROC Curve')\n",
    "plt.show();"
   ]
  },
  {
   "cell_type": "code",
   "execution_count": 321,
   "metadata": {},
   "outputs": [
    {
     "data": {
      "text/plain": [
       "array([0.81875 , 0.921875, 0.996875, 0.815625, 0.846875])"
      ]
     },
     "execution_count": 321,
     "metadata": {},
     "output_type": "execute_result"
    }
   ],
   "source": [
    "cv_scores = cross_val_score(pipeline, x, y, cv=5, scoring='roc_auc')\n",
    "cv_scores"
   ]
  },
  {
   "cell_type": "markdown",
   "metadata": {},
   "source": [
    "## K-Neighbors"
   ]
  },
  {
   "cell_type": "code",
   "execution_count": 322,
   "metadata": {},
   "outputs": [],
   "source": [
    "steps = [('scaler', StandardScaler()), ('classifier', KNeighborsClassifier())]\n",
    "pipeline = Pipeline(steps)\n",
    "parameters = {'classifier__n_neighbors':np.arange(1, 50)}"
   ]
  },
  {
   "cell_type": "code",
   "execution_count": 323,
   "metadata": {},
   "outputs": [
    {
     "data": {
      "text/plain": [
       "GridSearchCV(cv=None, error_score='raise',\n",
       "       estimator=Pipeline(memory=None,\n",
       "     steps=[('scaler', StandardScaler(copy=True, with_mean=True, with_std=True)), ('classifier', KNeighborsClassifier(algorithm='auto', leaf_size=30, metric='minkowski',\n",
       "           metric_params=None, n_jobs=1, n_neighbors=5, p=2,\n",
       "           weights='uniform'))]),\n",
       "       fit_params=None, iid=True, n_jobs=1,\n",
       "       param_grid={'classifier__n_neighbors': array([ 1,  2,  3,  4,  5,  6,  7,  8,  9, 10, 11, 12, 13, 14, 15, 16, 17,\n",
       "       18, 19, 20, 21, 22, 23, 24, 25, 26, 27, 28, 29, 30, 31, 32, 33, 34,\n",
       "       35, 36, 37, 38, 39, 40, 41, 42, 43, 44, 45, 46, 47, 48, 49])},\n",
       "       pre_dispatch='2*n_jobs', refit=True, return_train_score=True,\n",
       "       scoring=None, verbose=0)"
      ]
     },
     "execution_count": 323,
     "metadata": {},
     "output_type": "execute_result"
    }
   ],
   "source": [
    "cv = GridSearchCV(pipeline, param_grid=parameters)\n",
    "cv.fit(x_train, y_train)"
   ]
  },
  {
   "cell_type": "code",
   "execution_count": null,
   "metadata": {},
   "outputs": [],
   "source": [
    "y_pred = cv.predict(x_val)"
   ]
  },
  {
   "cell_type": "code",
   "execution_count": null,
   "metadata": {},
   "outputs": [
    {
     "name": "stdout",
     "output_type": "stream",
     "text": [
      "{'classifier__n_neighbors': 24}\n"
     ]
    }
   ],
   "source": [
    "print(cv.best_params_)"
   ]
  },
  {
   "cell_type": "code",
   "execution_count": null,
   "metadata": {},
   "outputs": [
    {
     "name": "stdout",
     "output_type": "stream",
     "text": [
      "0.7777777777777778\n"
     ]
    }
   ],
   "source": [
    "print(cv.score(x_val, y_val))"
   ]
  },
  {
   "cell_type": "code",
   "execution_count": null,
   "metadata": {},
   "outputs": [
    {
     "name": "stdout",
     "output_type": "stream",
     "text": [
      "             precision    recall  f1-score   support\n",
      "\n",
      "          0       0.67      1.00      0.80        16\n",
      "          1       1.00      0.60      0.75        20\n",
      "\n",
      "avg / total       0.85      0.78      0.77        36\n",
      "\n"
     ]
    }
   ],
   "source": [
    "print(classification_report(y_val, y_pred))"
   ]
  },
  {
   "cell_type": "markdown",
   "metadata": {},
   "source": [
    "## Deep Learning"
   ]
  },
  {
   "cell_type": "code",
   "execution_count": null,
   "metadata": {},
   "outputs": [],
   "source": [
    "def to_string(model):\n",
    "    stringlist = []\n",
    "    model.summary(print_fn=lambda x: stringlist.append(x))\n",
    "    short_model_summary = \"\\n\".join(stringlist)\n",
    "    return short_model_summary"
   ]
  },
  {
   "cell_type": "code",
   "execution_count": null,
   "metadata": {},
   "outputs": [],
   "source": [
    "n_cols = x.shape[1]\n",
    "target = y\n",
    "# target = to_categorical(y)\n",
    "early_stopping_monitor = EarlyStopping(patience=2)\n",
    "# n_nodes = range(n_cols)\n",
    "n_nodes = range(n_cols//2, n_cols*3//2, 2)\n",
    "\n",
    "best_model = None\n",
    "best_history = None\n",
    "max_acc = -1\n",
    "\n",
    "history_lst = []\n",
    "for _ in range(50):\n",
    "    model = Sequential()\n",
    "    model.add(Dense(n_cols//2, activation='relu', input_shape=(n_cols,), use_bias=True))\n",
    "    model.add(Dense(n_cols, activation='relu', use_bias=True))\n",
    "    model.add(Dense(n_cols*2, activation='relu', use_bias=True))\n",
    "    model.add(Dense(1, activation='sigmoid', use_bias=True))\n",
    "    optim = optimizers.SGD(lr=0.008)\n",
    "    model.compile(optimizer=optim, loss='mean_squared_error', metrics=['accuracy'])\n",
    "    history = model.fit(x, target, validation_split=0.20, epochs=500, callbacks = [early_stopping_monitor], verbose=False)\n",
    "    history_lst.append(history.history['val_accuracy'][-1])\n",
    "    if history.history['val_accuracy'][-1] > max_acc:\n",
    "        max_acc = history.history['val_accuracy'][-1]\n",
    "        best_history = history\n",
    "        best_model = model\n",
    "    \n",
    "accuracy = np.mean(history_lst)\n",
    "std = np.std(history_lst)\n",
    "maxx = np.max(history_lst)\n",
    "median = np.median(history_lst)\n",
    "\n",
    "\n",
    "print('accuracy', accuracy, 'std', std, 'max', maxx, 'median', median)\n",
    "\n",
    "#  \"Accuracy\"\n",
    "plt.plot(best_history.history['accuracy'])\n",
    "plt.plot(best_history.history['val_accuracy'])\n",
    "plt.title('model accuracy')\n",
    "plt.ylabel('accuracy')\n",
    "plt.xlabel('epoch')\n",
    "plt.legend(['train', 'validation'], loc='upper left')\n",
    "plt.show()\n",
    "# \"Loss\"\n",
    "plt.plot(best_history.history['loss'])\n",
    "plt.plot(best_history.history['val_loss'])\n",
    "plt.title('model loss')\n",
    "plt.ylabel('loss')\n",
    "plt.xlabel('epoch')\n",
    "plt.legend(['train', 'validation'], loc='upper left')\n",
    "plt.show()"
   ]
  },
  {
   "cell_type": "code",
   "execution_count": null,
   "metadata": {},
   "outputs": [],
   "source": [
    "# model = best_model\n",
    "history = model.fit(x, target, epochs=10, callbacks = [early_stopping_monitor], verbose=False)"
   ]
  },
  {
   "cell_type": "code",
   "execution_count": null,
   "metadata": {},
   "outputs": [],
   "source": [
    "#  \"Accuracy\"\n",
    "plt.plot(history.history['accuracy'])\n",
    "plt.plot(history.history['val_accuracy'])\n",
    "plt.title('model accuracy')\n",
    "plt.ylabel('accuracy')\n",
    "plt.xlabel('epoch')\n",
    "plt.legend(['train', 'validation'], loc='upper left')\n",
    "plt.show()\n",
    "# \"Loss\"\n",
    "plt.plot(history.history['loss'])\n",
    "plt.plot(history.history['val_loss'])\n",
    "plt.title('model loss')\n",
    "plt.ylabel('loss')\n",
    "plt.xlabel('epoch')\n",
    "plt.legend(['train', 'validation'], loc='upper left')\n",
    "plt.show()"
   ]
  },
  {
   "cell_type": "code",
   "execution_count": null,
   "metadata": {},
   "outputs": [],
   "source": [
    "predictions = model.predict(x_test)\n",
    "predictions = predictions.reshape(90)\n",
    "predictions"
   ]
  },
  {
   "cell_type": "code",
   "execution_count": null,
   "metadata": {},
   "outputs": [],
   "source": [
    "def save_result(predictions, file_name='results.csv'):\n",
    "    results = pd.DataFrame()\n",
    "    results['patient_id'] = patient_id_test\n",
    "    results['heart_disease_present'] = predictions\n",
    "    results.to_csv('results.csv', index=False)\n",
    "    return results"
   ]
  },
  {
   "cell_type": "code",
   "execution_count": null,
   "metadata": {},
   "outputs": [],
   "source": [
    "results = save_result(predictions)\n",
    "results"
   ]
  }
 ],
 "metadata": {
  "kernelspec": {
   "display_name": "Python 3",
   "language": "python",
   "name": "python3"
  },
  "language_info": {
   "codemirror_mode": {
    "name": "ipython",
    "version": 3
   },
   "file_extension": ".py",
   "mimetype": "text/x-python",
   "name": "python",
   "nbconvert_exporter": "python",
   "pygments_lexer": "ipython3",
   "version": "3.6.8"
  }
 },
 "nbformat": 4,
 "nbformat_minor": 2
}
