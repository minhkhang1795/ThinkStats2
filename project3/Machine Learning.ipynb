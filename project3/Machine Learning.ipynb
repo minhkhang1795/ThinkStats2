{
 "cells": [
  {
   "cell_type": "code",
   "execution_count": 55,
   "metadata": {},
   "outputs": [],
   "source": [
    "import pandas as pd\n",
    "import numpy as np\n",
    "np.random.seed(1337)\n",
    "import matplotlib.pyplot as plt\n",
    "from sklearn.linear_model import Ridge, LogisticRegression\n",
    "from sklearn.neighbors import KNeighborsClassifier\n",
    "from sklearn.model_selection import GridSearchCV, train_test_split, cross_val_score\n",
    "from sklearn.pipeline import Pipeline\n",
    "from sklearn.preprocessing import StandardScaler\n",
    "from sklearn.metrics import classification_report, roc_curve, roc_auc_score"
   ]
  },
  {
   "cell_type": "code",
   "execution_count": 56,
   "metadata": {},
   "outputs": [],
   "source": [
    "from tensorflow.keras.layers import Dense, Dropout\n",
    "from tensorflow.keras.models import Sequential\n",
    "from tensorflow.keras.utils import to_categorical\n",
    "from tensorflow.keras.callbacks import EarlyStopping\n",
    "from tensorflow.keras import optimizers\n",
    "from tensorflow.keras import regularizers"
   ]
  },
  {
   "cell_type": "code",
   "execution_count": 57,
   "metadata": {},
   "outputs": [],
   "source": [
    "def clean_data(x, y=None, scaler=None):\n",
    "    x = x.drop('patient_id', axis=1)\n",
    "    x = pd.get_dummies(x)\n",
    "    x = x.drop('thal_reversible_defect', axis=1)\n",
    "    if y is not None:\n",
    "        y = y['heart_disease_present']\n",
    "    if scaler is None:\n",
    "        scaler = StandardScaler().fit(x)\n",
    "    x = scaler.transform(x)\n",
    "    return scaler, x, y"
   ]
  },
  {
   "cell_type": "code",
   "execution_count": 58,
   "metadata": {},
   "outputs": [],
   "source": [
    "x = pd.read_csv('../Data/train_values.csv')\n",
    "y = pd.read_csv('../Data/train_labels.csv')\n",
    "x_test = pd.read_csv('../Data/test_values.csv')\n",
    "patient_id_test = x_test['patient_id']\n",
    "x = x.drop('patient_id', axis=1)\n",
    "x_test = x_test.drop('patient_id', axis=1)\n",
    "y = y['heart_disease_present']"
   ]
  },
  {
   "cell_type": "code",
   "execution_count": 59,
   "metadata": {},
   "outputs": [
    {
     "data": {
      "text/html": [
       "<div>\n",
       "<style scoped>\n",
       "    .dataframe tbody tr th:only-of-type {\n",
       "        vertical-align: middle;\n",
       "    }\n",
       "\n",
       "    .dataframe tbody tr th {\n",
       "        vertical-align: top;\n",
       "    }\n",
       "\n",
       "    .dataframe thead th {\n",
       "        text-align: right;\n",
       "    }\n",
       "</style>\n",
       "<table border=\"1\" class=\"dataframe\">\n",
       "  <thead>\n",
       "    <tr style=\"text-align: right;\">\n",
       "      <th></th>\n",
       "      <th>slope_of_peak_exercise_st_segment</th>\n",
       "      <th>resting_blood_pressure</th>\n",
       "      <th>num_major_vessels</th>\n",
       "      <th>resting_ekg_results</th>\n",
       "      <th>serum_cholesterol_mg_per_dl</th>\n",
       "      <th>oldpeak_eq_st_depression</th>\n",
       "      <th>age</th>\n",
       "      <th>max_heart_rate_achieved</th>\n",
       "      <th>thal_fixed_defect</th>\n",
       "      <th>thal_normal</th>\n",
       "      <th>...</th>\n",
       "      <th>chest_pain_type_1</th>\n",
       "      <th>chest_pain_type_2</th>\n",
       "      <th>chest_pain_type_3</th>\n",
       "      <th>chest_pain_type_4</th>\n",
       "      <th>fasting_blood_sugar_gt_120_mg_per_dl_0</th>\n",
       "      <th>fasting_blood_sugar_gt_120_mg_per_dl_1</th>\n",
       "      <th>sex_0</th>\n",
       "      <th>sex_1</th>\n",
       "      <th>exercise_induced_angina_0</th>\n",
       "      <th>exercise_induced_angina_1</th>\n",
       "    </tr>\n",
       "  </thead>\n",
       "  <tbody>\n",
       "    <tr>\n",
       "      <th>0</th>\n",
       "      <td>-0.888762</td>\n",
       "      <td>-0.194652</td>\n",
       "      <td>-0.716404</td>\n",
       "      <td>0.951196</td>\n",
       "      <td>1.115158</td>\n",
       "      <td>-0.900694</td>\n",
       "      <td>-1.051032</td>\n",
       "      <td>0.929891</td>\n",
       "      <td>0</td>\n",
       "      <td>1</td>\n",
       "      <td>...</td>\n",
       "      <td>0</td>\n",
       "      <td>1</td>\n",
       "      <td>0</td>\n",
       "      <td>0</td>\n",
       "      <td>1</td>\n",
       "      <td>0</td>\n",
       "      <td>0</td>\n",
       "      <td>1</td>\n",
       "      <td>1</td>\n",
       "      <td>0</td>\n",
       "    </tr>\n",
       "    <tr>\n",
       "      <th>1</th>\n",
       "      <td>0.727169</td>\n",
       "      <td>-1.252825</td>\n",
       "      <td>-0.716404</td>\n",
       "      <td>-1.051322</td>\n",
       "      <td>-0.667915</td>\n",
       "      <td>0.526148</td>\n",
       "      <td>-0.086892</td>\n",
       "      <td>0.386007</td>\n",
       "      <td>0</td>\n",
       "      <td>1</td>\n",
       "      <td>...</td>\n",
       "      <td>0</td>\n",
       "      <td>0</td>\n",
       "      <td>1</td>\n",
       "      <td>0</td>\n",
       "      <td>1</td>\n",
       "      <td>0</td>\n",
       "      <td>1</td>\n",
       "      <td>0</td>\n",
       "      <td>1</td>\n",
       "      <td>0</td>\n",
       "    </tr>\n",
       "    <tr>\n",
       "      <th>2</th>\n",
       "      <td>-0.888762</td>\n",
       "      <td>-0.371014</td>\n",
       "      <td>2.378462</td>\n",
       "      <td>0.951196</td>\n",
       "      <td>1.039283</td>\n",
       "      <td>-0.900694</td>\n",
       "      <td>2.377024</td>\n",
       "      <td>0.567302</td>\n",
       "      <td>0</td>\n",
       "      <td>1</td>\n",
       "      <td>...</td>\n",
       "      <td>0</td>\n",
       "      <td>0</td>\n",
       "      <td>0</td>\n",
       "      <td>1</td>\n",
       "      <td>1</td>\n",
       "      <td>0</td>\n",
       "      <td>0</td>\n",
       "      <td>1</td>\n",
       "      <td>0</td>\n",
       "      <td>1</td>\n",
       "    </tr>\n",
       "    <tr>\n",
       "      <th>3</th>\n",
       "      <td>-0.888762</td>\n",
       "      <td>1.216246</td>\n",
       "      <td>-0.716404</td>\n",
       "      <td>-1.051322</td>\n",
       "      <td>-0.497195</td>\n",
       "      <td>-0.900694</td>\n",
       "      <td>-1.586666</td>\n",
       "      <td>1.428452</td>\n",
       "      <td>0</td>\n",
       "      <td>0</td>\n",
       "      <td>...</td>\n",
       "      <td>0</td>\n",
       "      <td>0</td>\n",
       "      <td>0</td>\n",
       "      <td>1</td>\n",
       "      <td>1</td>\n",
       "      <td>0</td>\n",
       "      <td>0</td>\n",
       "      <td>1</td>\n",
       "      <td>1</td>\n",
       "      <td>0</td>\n",
       "    </tr>\n",
       "    <tr>\n",
       "      <th>4</th>\n",
       "      <td>2.343100</td>\n",
       "      <td>2.744719</td>\n",
       "      <td>-0.716404</td>\n",
       "      <td>0.951196</td>\n",
       "      <td>0.394342</td>\n",
       "      <td>2.844768</td>\n",
       "      <td>0.448742</td>\n",
       "      <td>-0.203201</td>\n",
       "      <td>0</td>\n",
       "      <td>0</td>\n",
       "      <td>...</td>\n",
       "      <td>1</td>\n",
       "      <td>0</td>\n",
       "      <td>0</td>\n",
       "      <td>0</td>\n",
       "      <td>1</td>\n",
       "      <td>0</td>\n",
       "      <td>0</td>\n",
       "      <td>1</td>\n",
       "      <td>1</td>\n",
       "      <td>0</td>\n",
       "    </tr>\n",
       "  </tbody>\n",
       "</table>\n",
       "<p>5 rows × 21 columns</p>\n",
       "</div>"
      ],
      "text/plain": [
       "   slope_of_peak_exercise_st_segment  resting_blood_pressure  \\\n",
       "0                          -0.888762               -0.194652   \n",
       "1                           0.727169               -1.252825   \n",
       "2                          -0.888762               -0.371014   \n",
       "3                          -0.888762                1.216246   \n",
       "4                           2.343100                2.744719   \n",
       "\n",
       "   num_major_vessels  resting_ekg_results  serum_cholesterol_mg_per_dl  \\\n",
       "0          -0.716404             0.951196                     1.115158   \n",
       "1          -0.716404            -1.051322                    -0.667915   \n",
       "2           2.378462             0.951196                     1.039283   \n",
       "3          -0.716404            -1.051322                    -0.497195   \n",
       "4          -0.716404             0.951196                     0.394342   \n",
       "\n",
       "   oldpeak_eq_st_depression       age  max_heart_rate_achieved  \\\n",
       "0                 -0.900694 -1.051032                 0.929891   \n",
       "1                  0.526148 -0.086892                 0.386007   \n",
       "2                 -0.900694  2.377024                 0.567302   \n",
       "3                 -0.900694 -1.586666                 1.428452   \n",
       "4                  2.844768  0.448742                -0.203201   \n",
       "\n",
       "   thal_fixed_defect  thal_normal  ...  chest_pain_type_1  chest_pain_type_2  \\\n",
       "0                  0            1  ...                  0                  1   \n",
       "1                  0            1  ...                  0                  0   \n",
       "2                  0            1  ...                  0                  0   \n",
       "3                  0            0  ...                  0                  0   \n",
       "4                  0            0  ...                  1                  0   \n",
       "\n",
       "   chest_pain_type_3  chest_pain_type_4  \\\n",
       "0                  0                  0   \n",
       "1                  1                  0   \n",
       "2                  0                  1   \n",
       "3                  0                  1   \n",
       "4                  0                  0   \n",
       "\n",
       "   fasting_blood_sugar_gt_120_mg_per_dl_0  \\\n",
       "0                                       1   \n",
       "1                                       1   \n",
       "2                                       1   \n",
       "3                                       1   \n",
       "4                                       1   \n",
       "\n",
       "   fasting_blood_sugar_gt_120_mg_per_dl_1  sex_0  sex_1  \\\n",
       "0                                       0      0      1   \n",
       "1                                       0      1      0   \n",
       "2                                       0      0      1   \n",
       "3                                       0      0      1   \n",
       "4                                       0      0      1   \n",
       "\n",
       "   exercise_induced_angina_0  exercise_induced_angina_1  \n",
       "0                          1                          0  \n",
       "1                          1                          0  \n",
       "2                          0                          1  \n",
       "3                          1                          0  \n",
       "4                          1                          0  \n",
       "\n",
       "[5 rows x 21 columns]"
      ]
     },
     "execution_count": 59,
     "metadata": {},
     "output_type": "execute_result"
    }
   ],
   "source": [
    "categorical_vars= ['thal', 'chest_pain_type', 'fasting_blood_sugar_gt_120_mg_per_dl', 'sex', 'exercise_induced_angina']\n",
    "for col in x.columns:\n",
    "    if col not in categorical_vars:\n",
    "        mean = x[col].mean()\n",
    "        std = x[col].std()\n",
    "        x[col] = (x[col] - mean)/std\n",
    "        \n",
    "x = pd.get_dummies(x, columns=categorical_vars)\n",
    "\n",
    "for col in x_test.columns:\n",
    "    if col not in categorical_vars:\n",
    "        mean = x_test[col].mean()\n",
    "        std = x_test[col].std()\n",
    "        x_test[col] = (x_test[col] - mean)/std\n",
    "        \n",
    "x_test = pd.get_dummies(x_test, columns=categorical_vars)\n",
    "\n",
    "\n",
    "x.head()"
   ]
  },
  {
   "cell_type": "code",
   "execution_count": 60,
   "metadata": {},
   "outputs": [],
   "source": [
    "# patient_id_test = x_test['patient_id']\n",
    "# scaler, x, y = clean_data(x, y)\n",
    "# _, x_test, _ = clean_data(x_test, None, scaler)"
   ]
  },
  {
   "cell_type": "code",
   "execution_count": 61,
   "metadata": {},
   "outputs": [],
   "source": [
    "x_train, x_val, y_train, y_val = train_test_split(x, y, test_size=0.2, random_state=42)"
   ]
  },
  {
   "cell_type": "markdown",
   "metadata": {},
   "source": [
    "## Logistic Regression"
   ]
  },
  {
   "cell_type": "code",
   "execution_count": 62,
   "metadata": {},
   "outputs": [],
   "source": [
    "steps = [('scaler', StandardScaler()), ('classifier', LogisticRegression())]\n",
    "pipeline = Pipeline(steps)\n",
    "parameters = {'classifier__threshold':np.arange(0, 1)}"
   ]
  },
  {
   "cell_type": "code",
   "execution_count": 63,
   "metadata": {},
   "outputs": [
    {
     "data": {
      "text/plain": [
       "Pipeline(memory=None,\n",
       "     steps=[('scaler', StandardScaler(copy=True, with_mean=True, with_std=True)), ('classifier', LogisticRegression(C=1.0, class_weight=None, dual=False, fit_intercept=True,\n",
       "          intercept_scaling=1, max_iter=100, multi_class='ovr', n_jobs=1,\n",
       "          penalty='l2', random_state=None, solver='liblinear', tol=0.0001,\n",
       "          verbose=0, warm_start=False))])"
      ]
     },
     "execution_count": 63,
     "metadata": {},
     "output_type": "execute_result"
    }
   ],
   "source": [
    "pipeline.fit(x_train, y_train)"
   ]
  },
  {
   "cell_type": "code",
   "execution_count": 64,
   "metadata": {},
   "outputs": [],
   "source": [
    "y_pred_prob = pipeline.predict_proba(x_val)[:,1]\n",
    "fpr, tpr, thresholds = roc_curve(y_val, y_pred_prob)"
   ]
  },
  {
   "cell_type": "code",
   "execution_count": 65,
   "metadata": {},
   "outputs": [
    {
     "data": {
      "image/png": "[encoded data removed]",
      "text/plain": [
       "<Figure size 432x288 with 1 Axes>"
      ]
     },
     "metadata": {
      "needs_background": "light"
     },
     "output_type": "display_data"
    }
   ],
   "source": [
    "plt.plot([0, 1], [0, 1], 'k--')\n",
    "plt.plot(fpr, tpr, label='Logistic Regression')\n",
    "plt.xlabel('False Positive Rate')\n",
    "plt.ylabel('True Positive Rate')\n",
    "plt.title('Logistic Regression ROC Curve')\n",
    "plt.show();"
   ]
  },
  {
   "cell_type": "code",
   "execution_count": 66,
   "metadata": {
    "scrolled": true
   },
   "outputs": [
    {
     "data": {
      "text/plain": [
       "0.896875"
      ]
     },
     "execution_count": 66,
     "metadata": {},
     "output_type": "execute_result"
    }
   ],
   "source": [
    "y_pred_prob = pipeline.predict_proba(x_val)[:,1]\n",
    "roc_auc_score(y_val, y_pred_prob)"
   ]
  },
  {
   "cell_type": "code",
   "execution_count": 67,
   "metadata": {},
   "outputs": [
    {
     "data": {
      "text/plain": [
       "array([0.828125, 0.903125, 0.99375 , 0.821875, 0.859375])"
      ]
     },
     "execution_count": 67,
     "metadata": {},
     "output_type": "execute_result"
    }
   ],
   "source": [
    "cv_scores = cross_val_score(pipeline, x, y, cv=5, scoring='roc_auc')\n",
    "cv_scores"
   ]
  },
  {
   "cell_type": "markdown",
   "metadata": {},
   "source": [
    "## K-Neighbors"
   ]
  },
  {
   "cell_type": "code",
   "execution_count": 68,
   "metadata": {},
   "outputs": [],
   "source": [
    "steps = [('scaler', StandardScaler()), ('classifier', KNeighborsClassifier())]\n",
    "pipeline = Pipeline(steps)\n",
    "parameters = {'classifier__n_neighbors':np.arange(1, 50)}"
   ]
  },
  {
   "cell_type": "code",
   "execution_count": 69,
   "metadata": {},
   "outputs": [
    {
     "data": {
      "text/plain": [
       "GridSearchCV(cv=None, error_score='raise',\n",
       "       estimator=Pipeline(memory=None,\n",
       "     steps=[('scaler', StandardScaler(copy=True, with_mean=True, with_std=True)), ('classifier', KNeighborsClassifier(algorithm='auto', leaf_size=30, metric='minkowski',\n",
       "           metric_params=None, n_jobs=1, n_neighbors=5, p=2,\n",
       "           weights='uniform'))]),\n",
       "       fit_params=None, iid=True, n_jobs=1,\n",
       "       param_grid={'classifier__n_neighbors': array([ 1,  2,  3,  4,  5,  6,  7,  8,  9, 10, 11, 12, 13, 14, 15, 16, 17,\n",
       "       18, 19, 20, 21, 22, 23, 24, 25, 26, 27, 28, 29, 30, 31, 32, 33, 34,\n",
       "       35, 36, 37, 38, 39, 40, 41, 42, 43, 44, 45, 46, 47, 48, 49])},\n",
       "       pre_dispatch='2*n_jobs', refit=True, return_train_score=True,\n",
       "       scoring=None, verbose=0)"
      ]
     },
     "execution_count": 69,
     "metadata": {},
     "output_type": "execute_result"
    }
   ],
   "source": [
    "cv = GridSearchCV(pipeline, param_grid=parameters)\n",
    "cv.fit(x_train, y_train)"
   ]
  },
  {
   "cell_type": "code",
   "execution_count": 70,
   "metadata": {},
   "outputs": [],
   "source": [
    "y_pred = cv.predict(x_val)"
   ]
  },
  {
   "cell_type": "code",
   "execution_count": 71,
   "metadata": {},
   "outputs": [
    {
     "name": "stdout",
     "output_type": "stream",
     "text": [
      "{'classifier__n_neighbors': 7}\n"
     ]
    }
   ],
   "source": [
    "print(cv.best_params_)"
   ]
  },
  {
   "cell_type": "code",
   "execution_count": 72,
   "metadata": {},
   "outputs": [
    {
     "name": "stdout",
     "output_type": "stream",
     "text": [
      "0.8611111111111112\n"
     ]
    }
   ],
   "source": [
    "print(cv.score(x_val, y_val))"
   ]
  },
  {
   "cell_type": "code",
   "execution_count": 73,
   "metadata": {},
   "outputs": [
    {
     "name": "stdout",
     "output_type": "stream",
     "text": [
      "             precision    recall  f1-score   support\n",
      "\n",
      "          0       0.76      1.00      0.86        16\n",
      "          1       1.00      0.75      0.86        20\n",
      "\n",
      "avg / total       0.89      0.86      0.86        36\n",
      "\n"
     ]
    }
   ],
   "source": [
    "print(classification_report(y_val, y_pred))"
   ]
  },
  {
   "cell_type": "markdown",
   "metadata": {},
   "source": [
    "## Deep Learning"
   ]
  },
  {
   "cell_type": "code",
   "execution_count": 74,
   "metadata": {},
   "outputs": [],
   "source": [
    "def to_string(model):\n",
    "    stringlist = []\n",
    "    model.summary(print_fn=lambda x: stringlist.append(x))\n",
    "    short_model_summary = \"\\n\".join(stringlist)\n",
    "    return short_model_summary"
   ]
  },
  {
   "cell_type": "code",
   "execution_count": 75,
   "metadata": {},
   "outputs": [],
   "source": [
    "# n_cols = x.shape[1]\n",
    "# # target = y\n",
    "# target = to_categorical(y)\n",
    "# early_stopping_monitor = EarlyStopping(patience=2)\n",
    "# # n_nodes = range(n_cols)\n",
    "# n_nodes = range(n_cols//2, n_cols*3//2, 2)\n",
    "# model_lst = []\n",
    "\n",
    "# max_acc = -1\n",
    "# max_median_acc = -1\n",
    "# max_max_acc = -1\n",
    "# for i in n_nodes:\n",
    "#     for j in n_nodes:\n",
    "#         for k in n_nodes:\n",
    "#             history_lst = []\n",
    "#             for _ in range(10):\n",
    "#                 model = Sequential()\n",
    "#                 model.add(Dense(i, activation='relu', input_shape=(n_cols,), use_bias=True))\n",
    "#                 model.add(Dense(j, activation='relu', use_bias=True))\n",
    "#                 model.add(Dense(k, activation='relu', use_bias=True))\n",
    "#                 model.add(Dense(2, activation='softmax', use_bias=True))\n",
    "#                 optim = optimizers.SGD(lr=0.008)\n",
    "#                 model.compile(optimizer=optim, loss='categorical_crossentropy', metrics=['accuracy'])\n",
    "#                 history = model.fit(x, target, shuffle=False, validation_split=0.20, epochs=500, callbacks = [early_stopping_monitor], verbose=False)\n",
    "#                 history_lst.append(history.history['val_accuracy'][-1])\n",
    "\n",
    "#             accuracy = np.mean(history_lst)\n",
    "#             std = np.std(history_lst)\n",
    "#             maxx = np.max(history_lst)\n",
    "#             median = np.median(history_lst)\n",
    "            \n",
    "#             if accuracy > max_acc:\n",
    "#                 print(i,' ',j,' ',k, ' accuracy', accuracy, 'std', std, 'max', maxx, 'median', median,'-- MAX MEAN')\n",
    "#                 model.save('model_file_mean.h5')\n",
    "#                 max_acc = accuracy\n",
    "#                 model_lst.append({'model': to_string(model), 'accuracy': accuracy, 'std': std, 'max': maxx, 'median': median})\n",
    "            \n",
    "#             if maxx > max_max_acc:\n",
    "#                 print(i,' ',j,' ',k, ' accuracy', accuracy, 'std', std, 'max', maxx, 'median', median,'-- MAX MAX')\n",
    "#                 model.save('model_file_max.h5')\n",
    "#                 max_max_acc = maxx\n",
    "#                 model_lst.append({'model': to_string(model), 'accuracy': accuracy, 'std': std, 'max': maxx, 'median': median})\n",
    "                \n",
    "#             if median > max_median_acc:\n",
    "#                 print(i,' ',j,' ',k, ' accuracy', accuracy, 'std', std, 'max', maxx, 'median', median,'-- MAX MEDIAN')\n",
    "#                 model.save('model_file_median.h5')\n",
    "#                 max_median_acc = median\n",
    "#                 model_lst.append({'model': to_string(model), 'accuracy': accuracy, 'std': std, 'max': maxx, 'median': median})"
   ]
  },
  {
   "cell_type": "code",
   "execution_count": 76,
   "metadata": {},
   "outputs": [],
   "source": [
    "best_history_saved = best_history\n",
    "best_model_saved = best_model\n",
    "# best_model_saved.save('model_min_loss.h5')"
   ]
  },
  {
   "cell_type": "code",
   "execution_count": 77,
   "metadata": {},
   "outputs": [],
   "source": [
    "max_acc = -1\n",
    "min_loss = np.inf\n",
    "best_history = None\n",
    "best_model = None"
   ]
  },
  {
   "cell_type": "code",
   "execution_count": 78,
   "metadata": {},
   "outputs": [
    {
     "name": "stdout",
     "output_type": "stream",
     "text": [
      "better model found\n",
      "better model found\n",
      "better model found\n",
      "better model found\n",
      "better model found\n",
      "better model found\n"
     ]
    }
   ],
   "source": [
    "n_cols = x.shape[1]\n",
    "# target = y\n",
    "target = to_categorical(y)\n",
    "early_stopping_monitor = EarlyStopping(patience=2)\n",
    "\n",
    "\n",
    "history_lst = []\n",
    "for _ in range(50):\n",
    "    model = Sequential()\n",
    "    model.add(Dense(25, activation='relu', input_shape=(n_cols,), use_bias=True, kernel_regularizer=regularizers.l2(0.0001)))\n",
    "    model.add(Dense(25, activation='relu', use_bias=True, kernel_regularizer=regularizers.l2(0.0001)))\n",
    "    model.add(Dense(25, activation='relu', use_bias=True, kernel_regularizer=regularizers.l2(0.0001)))\n",
    "    model.add(Dense(2, activation='softmax', use_bias=True, kernel_regularizer=regularizers.l2(0.0001)))\n",
    "    optim = optimizers.SGD(lr=0.008)\n",
    "    model.compile(optimizer=optim, loss='categorical_crossentropy', metrics=['accuracy'])\n",
    "    history = model.fit(x, target, shuffle=False, validation_split=0.20, epochs=500, callbacks = [early_stopping_monitor], verbose=False)\n",
    "    history_lst.append(history.history['val_loss'][-1])\n",
    "    if history.history['val_loss'][-1] < min_loss:\n",
    "        min_loss = history.history['val_loss'][-1]\n",
    "        best_history = history\n",
    "        best_model = model\n",
    "        print(\"better model found\")"
   ]
  },
  {
   "cell_type": "code",
   "execution_count": 79,
   "metadata": {},
   "outputs": [
    {
     "data": {
      "image/png": "[encoded data removed]",
      "text/plain": [
       "<Figure size 432x288 with 1 Axes>"
      ]
     },
     "metadata": {
      "needs_background": "light"
     },
     "output_type": "display_data"
    },
    {
     "data": {
      "image/png": "[encoded data removed]",
      "text/plain": [
       "<Figure size 432x288 with 1 Axes>"
      ]
     },
     "metadata": {
      "needs_background": "light"
     },
     "output_type": "display_data"
    }
   ],
   "source": [
    "#  \"Accuracy\"\n",
    "plt.plot(best_history.history['accuracy'])\n",
    "plt.plot(best_history.history['val_accuracy'])\n",
    "plt.title('model accuracy')\n",
    "plt.ylabel('accuracy')\n",
    "plt.xlabel('epoch')\n",
    "plt.legend(['train', 'validation'], loc='upper left')\n",
    "plt.show()\n",
    "# \"Loss\"\n",
    "plt.plot(best_history.history['loss'])\n",
    "plt.plot(best_history.history['val_loss'])\n",
    "plt.title('model loss')\n",
    "plt.ylabel('loss')\n",
    "plt.xlabel('epoch')\n",
    "plt.legend(['train', 'validation'], loc='upper left')\n",
    "plt.show()"
   ]
  },
  {
   "cell_type": "code",
   "execution_count": 80,
   "metadata": {},
   "outputs": [
    {
     "data": {
      "text/plain": [
       "0.7777778"
      ]
     },
     "execution_count": 80,
     "metadata": {},
     "output_type": "execute_result"
    }
   ],
   "source": [
    "best_history.history['val_accuracy'][-1]"
   ]
  },
  {
   "cell_type": "code",
   "execution_count": 81,
   "metadata": {},
   "outputs": [],
   "source": [
    "predictions = best_model.predict(x_test)\n",
    "predictions = [i[1] for i in predictions]"
   ]
  },
  {
   "cell_type": "code",
   "execution_count": 82,
   "metadata": {},
   "outputs": [],
   "source": [
    "def save_result(predictions, file_name='results.csv'):\n",
    "    results = pd.DataFrame()\n",
    "    results['patient_id'] = patient_id_test\n",
    "    results['heart_disease_present'] = predictions\n",
    "    results.to_csv('results.csv', index=False)\n",
    "    return results"
   ]
  },
  {
   "cell_type": "code",
   "execution_count": 83,
   "metadata": {},
   "outputs": [
    {
     "data": {
      "text/html": [
       "<div>\n",
       "<style scoped>\n",
       "    .dataframe tbody tr th:only-of-type {\n",
       "        vertical-align: middle;\n",
       "    }\n",
       "\n",
       "    .dataframe tbody tr th {\n",
       "        vertical-align: top;\n",
       "    }\n",
       "\n",
       "    .dataframe thead th {\n",
       "        text-align: right;\n",
       "    }\n",
       "</style>\n",
       "<table border=\"1\" class=\"dataframe\">\n",
       "  <thead>\n",
       "    <tr style=\"text-align: right;\">\n",
       "      <th></th>\n",
       "      <th>patient_id</th>\n",
       "      <th>heart_disease_present</th>\n",
       "    </tr>\n",
       "  </thead>\n",
       "  <tbody>\n",
       "    <tr>\n",
       "      <th>0</th>\n",
       "      <td>olalu7</td>\n",
       "      <td>0.633123</td>\n",
       "    </tr>\n",
       "    <tr>\n",
       "      <th>1</th>\n",
       "      <td>z9n6mx</td>\n",
       "      <td>0.084140</td>\n",
       "    </tr>\n",
       "    <tr>\n",
       "      <th>2</th>\n",
       "      <td>5k4413</td>\n",
       "      <td>0.891190</td>\n",
       "    </tr>\n",
       "    <tr>\n",
       "      <th>3</th>\n",
       "      <td>mrg7q5</td>\n",
       "      <td>0.153654</td>\n",
       "    </tr>\n",
       "    <tr>\n",
       "      <th>4</th>\n",
       "      <td>uki4do</td>\n",
       "      <td>0.921744</td>\n",
       "    </tr>\n",
       "  </tbody>\n",
       "</table>\n",
       "</div>"
      ],
      "text/plain": [
       "  patient_id  heart_disease_present\n",
       "0     olalu7               0.633123\n",
       "1     z9n6mx               0.084140\n",
       "2     5k4413               0.891190\n",
       "3     mrg7q5               0.153654\n",
       "4     uki4do               0.921744"
      ]
     },
     "execution_count": 83,
     "metadata": {},
     "output_type": "execute_result"
    }
   ],
   "source": [
    "results = save_result(predictions)\n",
    "results.head()"
   ]
  },
  {
   "cell_type": "code",
   "execution_count": 84,
   "metadata": {},
   "outputs": [
    {
     "data": {
      "text/plain": [
       "90"
      ]
     },
     "execution_count": 84,
     "metadata": {},
     "output_type": "execute_result"
    }
   ],
   "source": [
    "len(results)"
   ]
  }
 ],
 "metadata": {
  "kernelspec": {
   "display_name": "Python 3",
   "language": "python",
   "name": "python3"
  },
  "language_info": {
   "codemirror_mode": {
    "name": "ipython",
    "version": 3
   },
   "file_extension": ".py",
   "mimetype": "text/x-python",
   "name": "python",
   "nbconvert_exporter": "python",
   "pygments_lexer": "ipython3",
   "version": "3.6.8"
  }
 },
 "nbformat": 4,
 "nbformat_minor": 2
}
