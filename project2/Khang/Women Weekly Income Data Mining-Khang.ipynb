{
 "cells": [
  {
   "cell_type": "markdown",
   "metadata": {},
   "source": [
    "### Data mining"
   ]
  },
  {
   "cell_type": "code",
   "execution_count": 42,
   "metadata": {},
   "outputs": [
    {
     "data": {
      "image/png": "[encoded data removed]",
      "text/plain": [
       "<Figure size 432x288 with 1 Axes>"
      ]
     },
     "metadata": {
      "needs_background": "light"
     },
     "output_type": "display_data"
    }
   ],
   "source": [
    "import pandas as pd\n",
    "import thinkplot\n",
    "import thinkstats2\n",
    "import numpy as np\n",
    "import statsmodels.formula.api as smf\n",
    "import matplotlib.pyplot as plt\n",
    "import seaborn as sns\n",
    "\n",
    "import paygap"
   ]
  },
  {
   "cell_type": "markdown",
   "metadata": {},
   "source": [
    "Read in data"
   ]
  },
  {
   "cell_type": "code",
   "execution_count": 67,
   "metadata": {},
   "outputs": [
    {
     "data": {
      "text/html": [
       "<div>\n",
       "<style scoped>\n",
       "    .dataframe tbody tr th:only-of-type {\n",
       "        vertical-align: middle;\n",
       "    }\n",
       "\n",
       "    .dataframe tbody tr th {\n",
       "        vertical-align: top;\n",
       "    }\n",
       "\n",
       "    .dataframe thead th {\n",
       "        text-align: right;\n",
       "    }\n",
       "</style>\n",
       "<table border=\"1\" class=\"dataframe\">\n",
       "  <thead>\n",
       "    <tr style=\"text-align: right;\">\n",
       "      <th></th>\n",
       "      <th>HHWT\tREGION\tSTATEFIP\tCOUNTYFIP\tMETRO\tMET2013\tCITY\tCITYERR\tPUMA\tCPUMA0010\tHOMELAND\tCNTRY\tFARM\tNFAMS\tPERWT\tNCHILD\tNCHLT5\tELDCH\tYNGCH\tRELATE\tSEX\tAGE\tMARST\tYRMARR\tRACE\tHISPAN\tCITIZEN\tYRSUSA1\tSPEAKENG\tSCHOOL\tEDUC\tGRADEATT\tSCHLTYPE\tDEGFIELD\tEMPSTAT\tEMPSTATD\tLABFORCE\tOCC2010\tIND1990\tCLASSWKR\tWKSWORK2\tUHRSWORK\tWORKEDYR\tFTOTINC\tINCWAGE\tVETDISAB\tDIFFREM\tDIFFPHYS\tDIFFMOB\tDIFFCARE\tDIFFSENS\tDIFFEYE\tDIFFHEAR\tPWSTATE2\tPWCOUNTY\tPWMET13\tPWTYPE\tPWPUMA00\tTRANWORK\tTRANTIME\tDEPARTS\tARRIVES</th>\n",
       "    </tr>\n",
       "  </thead>\n",
       "  <tbody>\n",
       "    <tr>\n",
       "      <th>0</th>\n",
       "      <td>1\\t45\\t32\\t1\\t0\\t0\\t0\\t0\\t0\\t1800\\t13\\t1\\t840\\...</td>\n",
       "    </tr>\n",
       "    <tr>\n",
       "      <th>1</th>\n",
       "      <td>2\\t136\\t32\\t1\\t0\\t0\\t0\\t0\\t0\\t2400\\t16\\t2\\t840...</td>\n",
       "    </tr>\n",
       "    <tr>\n",
       "      <th>2</th>\n",
       "      <td>5\\t19\\t32\\t1\\t0\\t0\\t0\\t0\\t0\\t2500\\t16\\t2\\t840\\...</td>\n",
       "    </tr>\n",
       "    <tr>\n",
       "      <th>3</th>\n",
       "      <td>10\\t21\\t32\\t1\\t0\\t0\\t0\\t0\\t0\\t500\\t2\\t2\\t840\\t...</td>\n",
       "    </tr>\n",
       "    <tr>\n",
       "      <th>4</th>\n",
       "      <td>11\\t21\\t32\\t1\\t0\\t0\\t0\\t0\\t0\\t500\\t2\\t2\\t840\\t...</td>\n",
       "    </tr>\n",
       "  </tbody>\n",
       "</table>\n",
       "</div>"
      ],
      "text/plain": [
       "  \\tHHWT\\tREGION\\tSTATEFIP\\tCOUNTYFIP\\tMETRO\\tMET2013\\tCITY\\tCITYERR\\tPUMA\\tCPUMA0010\\tHOMELAND\\tCNTRY\\tFARM\\tNFAMS\\tPERWT\\tNCHILD\\tNCHLT5\\tELDCH\\tYNGCH\\tRELATE\\tSEX\\tAGE\\tMARST\\tYRMARR\\tRACE\\tHISPAN\\tCITIZEN\\tYRSUSA1\\tSPEAKENG\\tSCHOOL\\tEDUC\\tGRADEATT\\tSCHLTYPE\\tDEGFIELD\\tEMPSTAT\\tEMPSTATD\\tLABFORCE\\tOCC2010\\tIND1990\\tCLASSWKR\\tWKSWORK2\\tUHRSWORK\\tWORKEDYR\\tFTOTINC\\tINCWAGE\\tVETDISAB\\tDIFFREM\\tDIFFPHYS\\tDIFFMOB\\tDIFFCARE\\tDIFFSENS\\tDIFFEYE\\tDIFFHEAR\\tPWSTATE2\\tPWCOUNTY\\tPWMET13\\tPWTYPE\\tPWPUMA00\\tTRANWORK\\tTRANTIME\\tDEPARTS\\tARRIVES\n",
       "0  1\\t45\\t32\\t1\\t0\\t0\\t0\\t0\\t0\\t1800\\t13\\t1\\t840\\...                                                                                                                                                                                                                                                                                                                                                                                                                                                                                                      \n",
       "1  2\\t136\\t32\\t1\\t0\\t0\\t0\\t0\\t0\\t2400\\t16\\t2\\t840...                                                                                                                                                                                                                                                                                                                                                                                                                                                                                                      \n",
       "2  5\\t19\\t32\\t1\\t0\\t0\\t0\\t0\\t0\\t2500\\t16\\t2\\t840\\...                                                                                                                                                                                                                                                                                                                                                                                                                                                                                                      \n",
       "3  10\\t21\\t32\\t1\\t0\\t0\\t0\\t0\\t0\\t500\\t2\\t2\\t840\\t...                                                                                                                                                                                                                                                                                                                                                                                                                                                                                                      \n",
       "4  11\\t21\\t32\\t1\\t0\\t0\\t0\\t0\\t0\\t500\\t2\\t2\\t840\\t...                                                                                                                                                                                                                                                                                                                                                                                                                                                                                                      "
      ]
     },
     "execution_count": 67,
     "metadata": {},
     "output_type": "execute_result"
    }
   ],
   "source": [
    "df_raw = pd.read_csv('../Data/ipums_2017.csv')\n",
    "df_raw.head()"
   ]
  },
  {
   "cell_type": "code",
   "execution_count": 9,
   "metadata": {},
   "outputs": [],
   "source": [
    "work_force = df_raw[df_raw.EMPSTAT == 1] # Consider all employed people"
   ]
  },
  {
   "cell_type": "markdown",
   "metadata": {},
   "source": [
    "Remove NaNs"
   ]
  },
  {
   "cell_type": "code",
   "execution_count": 10,
   "metadata": {
    "scrolled": true
   },
   "outputs": [
    {
     "data": {
      "text/html": [
       "<div>\n",
       "<style scoped>\n",
       "    .dataframe tbody tr th:only-of-type {\n",
       "        vertical-align: middle;\n",
       "    }\n",
       "\n",
       "    .dataframe tbody tr th {\n",
       "        vertical-align: top;\n",
       "    }\n",
       "\n",
       "    .dataframe thead th {\n",
       "        text-align: right;\n",
       "    }\n",
       "</style>\n",
       "<table border=\"1\" class=\"dataframe\">\n",
       "  <thead>\n",
       "    <tr style=\"text-align: right;\">\n",
       "      <th></th>\n",
       "      <th>YEAR</th>\n",
       "      <th>DATANUM</th>\n",
       "      <th>SERIAL</th>\n",
       "      <th>CBSERIAL</th>\n",
       "      <th>HHWT</th>\n",
       "      <th>REGION</th>\n",
       "      <th>STATEICP</th>\n",
       "      <th>STATEFIP</th>\n",
       "      <th>COUNTYICP</th>\n",
       "      <th>COUNTYFIP</th>\n",
       "      <th>...</th>\n",
       "      <th>DIFFHEAR</th>\n",
       "      <th>PWSTATE2</th>\n",
       "      <th>PWCOUNTY</th>\n",
       "      <th>PWMET13</th>\n",
       "      <th>PWTYPE</th>\n",
       "      <th>PWPUMA00</th>\n",
       "      <th>TRANWORK</th>\n",
       "      <th>TRANTIME</th>\n",
       "      <th>DEPARTS</th>\n",
       "      <th>ARRIVES</th>\n",
       "    </tr>\n",
       "  </thead>\n",
       "  <tbody>\n",
       "    <tr>\n",
       "      <th>1</th>\n",
       "      <td>2017</td>\n",
       "      <td>1</td>\n",
       "      <td>2</td>\n",
       "      <td>2017000000031</td>\n",
       "      <td>45</td>\n",
       "      <td>32</td>\n",
       "      <td>41</td>\n",
       "      <td>1</td>\n",
       "      <td>0</td>\n",
       "      <td>0</td>\n",
       "      <td>...</td>\n",
       "      <td>1</td>\n",
       "      <td>1</td>\n",
       "      <td>117</td>\n",
       "      <td>13820</td>\n",
       "      <td>5</td>\n",
       "      <td>1200</td>\n",
       "      <td>10</td>\n",
       "      <td>50</td>\n",
       "      <td>642</td>\n",
       "      <td>734</td>\n",
       "    </tr>\n",
       "    <tr>\n",
       "      <th>2</th>\n",
       "      <td>2017</td>\n",
       "      <td>1</td>\n",
       "      <td>3</td>\n",
       "      <td>2017000000061</td>\n",
       "      <td>136</td>\n",
       "      <td>32</td>\n",
       "      <td>41</td>\n",
       "      <td>1</td>\n",
       "      <td>0</td>\n",
       "      <td>0</td>\n",
       "      <td>...</td>\n",
       "      <td>1</td>\n",
       "      <td>13</td>\n",
       "      <td>0</td>\n",
       "      <td>0</td>\n",
       "      <td>5</td>\n",
       "      <td>1700</td>\n",
       "      <td>10</td>\n",
       "      <td>45</td>\n",
       "      <td>1805</td>\n",
       "      <td>1849</td>\n",
       "    </tr>\n",
       "    <tr>\n",
       "      <th>5</th>\n",
       "      <td>2017</td>\n",
       "      <td>1</td>\n",
       "      <td>4</td>\n",
       "      <td>2017000000158</td>\n",
       "      <td>19</td>\n",
       "      <td>32</td>\n",
       "      <td>41</td>\n",
       "      <td>1</td>\n",
       "      <td>0</td>\n",
       "      <td>0</td>\n",
       "      <td>...</td>\n",
       "      <td>1</td>\n",
       "      <td>1</td>\n",
       "      <td>0</td>\n",
       "      <td>0</td>\n",
       "      <td>9</td>\n",
       "      <td>2500</td>\n",
       "      <td>10</td>\n",
       "      <td>25</td>\n",
       "      <td>717</td>\n",
       "      <td>744</td>\n",
       "    </tr>\n",
       "    <tr>\n",
       "      <th>10</th>\n",
       "      <td>2017</td>\n",
       "      <td>1</td>\n",
       "      <td>5</td>\n",
       "      <td>2017000000159</td>\n",
       "      <td>21</td>\n",
       "      <td>32</td>\n",
       "      <td>41</td>\n",
       "      <td>1</td>\n",
       "      <td>0</td>\n",
       "      <td>0</td>\n",
       "      <td>...</td>\n",
       "      <td>1</td>\n",
       "      <td>1</td>\n",
       "      <td>0</td>\n",
       "      <td>0</td>\n",
       "      <td>9</td>\n",
       "      <td>290</td>\n",
       "      <td>10</td>\n",
       "      <td>60</td>\n",
       "      <td>602</td>\n",
       "      <td>704</td>\n",
       "    </tr>\n",
       "    <tr>\n",
       "      <th>11</th>\n",
       "      <td>2017</td>\n",
       "      <td>1</td>\n",
       "      <td>5</td>\n",
       "      <td>2017000000159</td>\n",
       "      <td>21</td>\n",
       "      <td>32</td>\n",
       "      <td>41</td>\n",
       "      <td>1</td>\n",
       "      <td>0</td>\n",
       "      <td>0</td>\n",
       "      <td>...</td>\n",
       "      <td>1</td>\n",
       "      <td>1</td>\n",
       "      <td>0</td>\n",
       "      <td>0</td>\n",
       "      <td>9</td>\n",
       "      <td>290</td>\n",
       "      <td>10</td>\n",
       "      <td>85</td>\n",
       "      <td>702</td>\n",
       "      <td>829</td>\n",
       "    </tr>\n",
       "  </tbody>\n",
       "</table>\n",
       "<p>5 rows × 90 columns</p>\n",
       "</div>"
      ],
      "text/plain": [
       "    YEAR  DATANUM  SERIAL       CBSERIAL  HHWT  REGION  STATEICP  STATEFIP  \\\n",
       "1   2017        1       2  2017000000031    45      32        41         1   \n",
       "2   2017        1       3  2017000000061   136      32        41         1   \n",
       "5   2017        1       4  2017000000158    19      32        41         1   \n",
       "10  2017        1       5  2017000000159    21      32        41         1   \n",
       "11  2017        1       5  2017000000159    21      32        41         1   \n",
       "\n",
       "    COUNTYICP  COUNTYFIP  ...  DIFFHEAR  PWSTATE2  PWCOUNTY  PWMET13  PWTYPE  \\\n",
       "1           0          0  ...         1         1       117    13820       5   \n",
       "2           0          0  ...         1        13         0        0       5   \n",
       "5           0          0  ...         1         1         0        0       9   \n",
       "10          0          0  ...         1         1         0        0       9   \n",
       "11          0          0  ...         1         1         0        0       9   \n",
       "\n",
       "    PWPUMA00  TRANWORK  TRANTIME  DEPARTS  ARRIVES  \n",
       "1       1200        10        50      642      734  \n",
       "2       1700        10        45     1805     1849  \n",
       "5       2500        10        25      717      744  \n",
       "10       290        10        60      602      704  \n",
       "11       290        10        85      702      829  \n",
       "\n",
       "[5 rows x 90 columns]"
      ]
     },
     "execution_count": 10,
     "metadata": {},
     "output_type": "execute_result"
    }
   ],
   "source": [
    "work_force = work_force.dropna()\n",
    "work_force.head()"
   ]
  },
  {
   "cell_type": "markdown",
   "metadata": {},
   "source": [
    "Recode `SEX` to be 0 for female and 1 for male."
   ]
  },
  {
   "cell_type": "code",
   "execution_count": 11,
   "metadata": {},
   "outputs": [
    {
     "data": {
      "text/plain": [
       "1    775971\n",
       "0    713015\n",
       "Name: SEX, dtype: int64"
      ]
     },
     "execution_count": 11,
     "metadata": {},
     "output_type": "execute_result"
    }
   ],
   "source": [
    "work_force['SEX'].replace(2, 0, inplace=True)\n",
    "work_force['SEX'].value_counts()"
   ]
  },
  {
   "cell_type": "code",
   "execution_count": 12,
   "metadata": {},
   "outputs": [],
   "source": [
    "diff_vars = ['DIFFHEAR', 'DIFFPHYS', 'DIFFEYE', 'DIFFCARE', 'DIFFREM', 'DIFFMOB']"
   ]
  },
  {
   "cell_type": "code",
   "execution_count": 13,
   "metadata": {},
   "outputs": [],
   "source": [
    "work_force['DIFFHEAR'].replace(1, 0, inplace=True)\n",
    "work_force['DIFFPHYS'].replace(1, 0, inplace=True)\n",
    "work_force['DIFFEYE'].replace(1, 0, inplace=True)\n",
    "work_force['DIFFCARE'].replace(1, 0, inplace=True)\n",
    "work_force['DIFFREM'].replace(1, 0, inplace=True)\n",
    "work_force['DIFFMOB'].replace(1, 0, inplace=True)"
   ]
  },
  {
   "cell_type": "code",
   "execution_count": 14,
   "metadata": {},
   "outputs": [],
   "source": [
    "work_force['DIFFHEAR'].replace(2, 1, inplace=True)\n",
    "work_force['DIFFPHYS'].replace(2, 1, inplace=True)\n",
    "work_force['DIFFEYE'].replace(2, 1, inplace=True)\n",
    "work_force['DIFFCARE'].replace(2, 1, inplace=True)\n",
    "work_force['DIFFREM'].replace(2, 1, inplace=True)\n",
    "work_force['DIFFMOB'].replace(2, 1, inplace=True)"
   ]
  },
  {
   "cell_type": "code",
   "execution_count": 17,
   "metadata": {},
   "outputs": [],
   "source": [
    "work_force = work_force.drop([\"INCEARN\", \"INCTOT\", \"OCCSCORE\", \"SEI\", \"EDUCD\", \"DEGFIELDD\", \"OCC\", \"OCC1950\", \"BIRTHYR\", \"RELATED\", \"PERNUM\", \"FERTYR\", \"DEGFIELD2D\", \"DEGFIELD2\", \"HISPAND\", \"GRADEATTD\", \"CLASSWKRD\", \"MET2013ERR\", \"GQ\", \"RACED\", \"IND\", \"CITYPOP\", 'YEAR', 'DATANUM', 'SERIAL', 'CBSERIAL', 'COUNTYICP','STATEICP'], axis=1)"
   ]
  },
  {
   "cell_type": "code",
   "execution_count": 16,
   "metadata": {},
   "outputs": [
    {
     "data": {
      "text/plain": [
       "Index(['YEAR', 'DATANUM', 'SERIAL', 'CBSERIAL', 'HHWT', 'REGION', 'STATEICP',\n",
       "       'STATEFIP', 'COUNTYICP', 'COUNTYFIP', 'METRO', 'MET2013', 'MET2013ERR',\n",
       "       'CITY', 'CITYERR', 'CITYPOP', 'PUMA', 'CPUMA0010', 'HOMELAND', 'CNTRY',\n",
       "       'GQ', 'FARM', 'NFAMS', 'PERNUM', 'PERWT', 'NCHILD', 'NCHLT5', 'ELDCH',\n",
       "       'YNGCH', 'RELATE', 'RELATED', 'SEX', 'AGE', 'MARST', 'BIRTHYR',\n",
       "       'YRMARR', 'FERTYR', 'RACE', 'RACED', 'HISPAN', 'HISPAND', 'CITIZEN',\n",
       "       'YRSUSA1', 'SPEAKENG', 'SCHOOL', 'EDUC', 'EDUCD', 'GRADEATT',\n",
       "       'GRADEATTD', 'SCHLTYPE', 'DEGFIELD', 'DEGFIELDD', 'DEGFIELD2',\n",
       "       'DEGFIELD2D', 'EMPSTAT', 'EMPSTATD', 'LABFORCE', 'OCC', 'OCC1950',\n",
       "       'OCC2010', 'IND', 'IND1990', 'CLASSWKR', 'CLASSWKRD', 'WKSWORK2',\n",
       "       'UHRSWORK', 'WORKEDYR', 'INCTOT', 'FTOTINC', 'INCWAGE', 'INCEARN',\n",
       "       'OCCSCORE', 'SEI', 'VETDISAB', 'DIFFREM', 'DIFFPHYS', 'DIFFMOB',\n",
       "       'DIFFCARE', 'DIFFSENS', 'DIFFEYE', 'DIFFHEAR', 'PWSTATE2', 'PWCOUNTY',\n",
       "       'PWMET13', 'PWTYPE', 'PWPUMA00', 'TRANWORK', 'TRANTIME', 'DEPARTS',\n",
       "       'ARRIVES'],\n",
       "      dtype='object')"
      ]
     },
     "execution_count": 16,
     "metadata": {},
     "output_type": "execute_result"
    }
   ],
   "source": [
    "work_force.columns"
   ]
  },
  {
   "cell_type": "code",
   "execution_count": 18,
   "metadata": {},
   "outputs": [],
   "source": [
    "work_force.to_csv(\"ipums_2017.csv\", sep='\\t', encoding='utf-8')"
   ]
  },
  {
   "cell_type": "markdown",
   "metadata": {},
   "source": [
    "Find hourly income using `UHRSWORK`, Usual hours worked per week, and `WKSWORK2`, Weeks worked last year (intervalled)."
   ]
  },
  {
   "cell_type": "code",
   "execution_count": 22,
   "metadata": {},
   "outputs": [],
   "source": [
    "work_force = work_force[work_force['UHRSWORK'] >= 30] # Usual hours worked per week\n",
    "work_force = work_force[work_force['WKSWORK2'] >= 3] # Weeks worked last year (level)"
   ]
  },
  {
   "cell_type": "code",
   "execution_count": 23,
   "metadata": {},
   "outputs": [],
   "source": [
    "work_force['UHRSWORK'].replace([0], np.nan, inplace=True)\n",
    "work_force['WKSWORK'] = work_force['WKSWORK2'].replace([0, 1, 2, 3, 4, 5, 6], [np.nan, 7, 20, 33, 43.5, 48.5, 51.5], inplace=False)\n",
    "work_force['INCWAGE'].replace([0, 999999, 999998], np.nan, inplace=True)"
   ]
  },
  {
   "cell_type": "code",
   "execution_count": 24,
   "metadata": {},
   "outputs": [],
   "source": [
    "work_force['HRLY_INCWAGE'] = work_force['INCWAGE']/(work_force['UHRSWORK'] * work_force['WKSWORK'])\n",
    "work_force = work_force[work_force['HRLY_INCWAGE'] > 2] # Only consider those who earn > $2.0 hourly"
   ]
  },
  {
   "cell_type": "code",
   "execution_count": null,
   "metadata": {},
   "outputs": [],
   "source": [
    "work_force = work_force.dropna()"
   ]
  },
  {
   "cell_type": "code",
   "execution_count": 25,
   "metadata": {},
   "outputs": [
    {
     "data": {
      "text/plain": [
       "1     38500.0\n",
       "2     72000.0\n",
       "5     18000.0\n",
       "10    65000.0\n",
       "11    57000.0\n",
       "Name: INCWAGE, dtype: float64"
      ]
     },
     "execution_count": 25,
     "metadata": {},
     "output_type": "execute_result"
    }
   ],
   "source": [
    "work_force['INCWAGE'].head()"
   ]
  },
  {
   "cell_type": "markdown",
   "metadata": {},
   "source": [
    "### Predictive powers\n",
    "\n",
    "#### Find variables that impact income the most"
   ]
  },
  {
   "cell_type": "code",
   "execution_count": 26,
   "metadata": {},
   "outputs": [],
   "source": [
    "t = []\n",
    "for name in work_force.columns:\n",
    "    try:\n",
    "        if work_force[name].var() < 1e-7:\n",
    "            continue\n",
    "        \n",
    "        formula = 'HRLY_INCWAGE ~ ' + name\n",
    "        model = smf.ols(formula, data=work_force)\n",
    "        if model.nobs < len(work_force)/2:\n",
    "            print(model.nobs)\n",
    "            continue\n",
    "            \n",
    "        results = model.fit()\n",
    "    except (ValueError, TypeError):\n",
    "        continue\n",
    "        \n",
    "    t.append((results.rsquared, name))"
   ]
  },
  {
   "cell_type": "code",
   "execution_count": 27,
   "metadata": {
    "scrolled": true
   },
   "outputs": [
    {
     "name": "stdout",
     "output_type": "stream",
     "text": [
      "HRLY_INCWAGE 1.0\n",
      "INCWAGE 0.9261158455252794\n",
      "EDUC 0.11627210702436874\n",
      "DEGFIELD 0.0951023297375887\n",
      "OCC2010 0.07549323581942147\n",
      "MARST 0.03760606125612209\n",
      "AGE 0.033228751535220535\n",
      "YRMARR 0.029945658063642355\n",
      "RELATE 0.020329427202418704\n",
      "SEX 0.015630218428316134\n",
      "PWTYPE 0.01251682703960788\n",
      "MET2013 0.011530645300390496\n",
      "PWMET13 0.009299384416518786\n",
      "METRO 0.008828651596018644\n",
      "UHRSWORK 0.00791208831388257\n",
      "CLASSWKR 0.007129525815958382\n",
      "ELDCH 0.006770865948471982\n",
      "YNGCH 0.0065225018143909574\n",
      "HISPAN 0.006148494141895777\n",
      "SCHOOL 0.005137271811117117\n",
      "NCHILD 0.005116032233183243\n",
      "TRANTIME 0.004794247453699718\n",
      "TRANWORK 0.004597630200731451\n",
      "GRADEATT 0.004542730040963949\n",
      "DEPARTS 0.00403277062846652\n",
      "SCHLTYPE 0.003703717214444957\n",
      "NFAMS 0.003657922426603011\n",
      "PERWT 0.0030467392110153924\n",
      "HOMELAND 0.0029909009135372644\n",
      "ARRIVES 0.002971371832194536\n",
      "WKSWORK 0.0024869686302712024\n",
      "WKSWORK2 0.0024848584828224274\n",
      "SPEAKENG 0.0024389720995459108\n",
      "IND1990 0.0019898863965676084\n",
      "DIFFREM 0.0013794232516962657\n",
      "EMPSTATD 0.0012864844072280057\n",
      "RACE 0.0008863243941279464\n",
      "HHWT 0.0008666138586755912\n",
      "YRSUSA1 0.0007024775568369446\n",
      "PWCOUNTY 0.0007005637219213989\n",
      "DIFFPHYS 0.0006797730590903939\n",
      "FTOTINC 0.0006329191188705341\n",
      "DIFFMOB 0.0006085984068475714\n",
      "COUNTYFIP 0.000551893387178759\n",
      "PUMA 0.0005465725739888239\n",
      "CITY 0.0005105457268013147\n",
      "CPUMA0010 0.0004996765404149395\n",
      "STATEFIP 0.0004499067554845082\n",
      "NCHLT5 0.00044715297741915183\n",
      "DIFFEYE 0.00043414488194226664\n",
      "PWPUMA00 0.0004048618226490941\n",
      "PWSTATE2 0.0003188673450154056\n",
      "DIFFSENS 0.0002989311096452951\n",
      "VETDISAB 0.00023028814741843373\n",
      "REGION 0.00021157003320981804\n",
      "DIFFCARE 0.0001422410675100405\n",
      "FARM 7.338117123367738e-05\n",
      "DIFFHEAR 5.086936333709158e-05\n",
      "CITIZEN 4.084680560234588e-05\n"
     ]
    }
   ],
   "source": [
    "t.sort(reverse=True)\n",
    "for r2, name in t[:-1]:\n",
    "    print(name, r2)"
   ]
  },
  {
   "cell_type": "markdown",
   "metadata": {},
   "source": [
    "Variables that affect income the most are: education, field of degree, occupation, marital status, age, year of marriage and gender.\n",
    "\n",
    "#### Income ~ variables"
   ]
  },
  {
   "cell_type": "code",
   "execution_count": 28,
   "metadata": {},
   "outputs": [],
   "source": [
    "# Build formula\n",
    "formula = 'HRLY_INCWAGE ~ '\n",
    "ignores = ['HRLY_INCWAGE', 'SEX', 'UHRSWORK', 'WKSWORK2', 'WKSWORK', 'INCWAGE', 'INCEARN', 'INCTOT', 'OCCSCORE', 'SEI', 'SERIAL', 'CBSERIAL', 'GQ', 'PERNUM', 'PERWT', 'HHWT', 'RACE', 'HISPAN', 'EDUC', 'DEGFIELD2', 'EMPSTATD', 'HRLY_INCWAGE']\n",
    "for col in work_force.columns:\n",
    "    try:\n",
    "        if col in ignores:\n",
    "            continue\n",
    "\n",
    "        formula += col + ' + '\n",
    "\n",
    "    except (ValueError, TypeError):\n",
    "        continue"
   ]
  },
  {
   "cell_type": "code",
   "execution_count": 29,
   "metadata": {},
   "outputs": [
    {
     "data": {
      "text/plain": [
       "'HRLY_INCWAGE ~ REGION + STATEFIP + COUNTYFIP + METRO + MET2013 + CITY + CITYERR + PUMA + CPUMA0010 + HOMELAND + CNTRY + FARM + NFAMS + NCHILD + NCHLT5 + ELDCH + YNGCH + RELATE + AGE + MARST + YRMARR + CITIZEN + YRSUSA1 + SPEAKENG + SCHOOL + GRADEATT + SCHLTYPE + DEGFIELD + EMPSTAT + LABFORCE + OCC2010 + IND1990 + CLASSWKR + WORKEDYR + FTOTINC + VETDISAB + DIFFREM + DIFFPHYS + DIFFMOB + DIFFCARE + DIFFSENS + DIFFEYE + DIFFHEAR + PWSTATE2 + PWCOUNTY + PWMET13 + PWTYPE + PWPUMA00 + TRANWORK + TRANTIME + DEPARTS + ARRIVES'"
      ]
     },
     "execution_count": 29,
     "metadata": {},
     "output_type": "execute_result"
    }
   ],
   "source": [
    "formula = formula[:-3]\n",
    "formula"
   ]
  },
  {
   "cell_type": "code",
   "execution_count": 30,
   "metadata": {},
   "outputs": [
    {
     "data": {
      "text/plain": [
       "0.19682939603279337"
      ]
     },
     "execution_count": 30,
     "metadata": {},
     "output_type": "execute_result"
    }
   ],
   "source": [
    "model = smf.ols(formula, data=work_force)\n",
    "results = model.fit()\n",
    "results.rsquared"
   ]
  },
  {
   "cell_type": "markdown",
   "metadata": {},
   "source": [
    "#### Income ~ variables + sex"
   ]
  },
  {
   "cell_type": "code",
   "execution_count": 31,
   "metadata": {},
   "outputs": [],
   "source": [
    "formula_sex = formula + ' + SEX'"
   ]
  },
  {
   "cell_type": "code",
   "execution_count": 32,
   "metadata": {},
   "outputs": [
    {
     "data": {
      "text/plain": [
       "0.21588012228552778"
      ]
     },
     "execution_count": 32,
     "metadata": {},
     "output_type": "execute_result"
    }
   ],
   "source": [
    "model = smf.ols(formula_sex, data=work_force)\n",
    "results = model.fit()\n",
    "results.rsquared"
   ]
  },
  {
   "cell_type": "markdown",
   "metadata": {},
   "source": [
    "Men earns $8 more hourly than women on average."
   ]
  },
  {
   "cell_type": "code",
   "execution_count": 33,
   "metadata": {},
   "outputs": [
    {
     "data": {
      "text/plain": [
       "8.288933169565901"
      ]
     },
     "execution_count": 33,
     "metadata": {},
     "output_type": "execute_result"
    }
   ],
   "source": [
    "results.params['SEX']"
   ]
  },
  {
   "cell_type": "markdown",
   "metadata": {},
   "source": [
    "### Analysis into some variables\n",
    "\n",
    "As an example, we explore the relationship between age and mean hourly income. First, we group the respondents by age and find the mean income in each age group. Then, we run regression on the results and use the regression model to compute the male and female hourly income when controlling for age."
   ]
  },
  {
   "cell_type": "code",
   "execution_count": 34,
   "metadata": {},
   "outputs": [],
   "source": [
    "# Group by AGE and compute the mean income\n",
    "grouped = work_force.groupby('AGE')\n",
    "mean_income_by_group = grouped['HRLY_INCWAGE'].mean()"
   ]
  },
  {
   "cell_type": "code",
   "execution_count": 35,
   "metadata": {},
   "outputs": [
    {
     "data": {
      "text/plain": [
       "[Text(0, 0.5, 'Mean hourly wage'), Text(0.5, 0, 'Age')]"
      ]
     },
     "execution_count": 35,
     "metadata": {},
     "output_type": "execute_result"
    },
    {
     "data": {
      "image/png": "[encoded data removed]",
      "text/plain": [
       "<Figure size 432x288 with 1 Axes>"
      ]
     },
     "metadata": {
      "needs_background": "light"
     },
     "output_type": "display_data"
    }
   ],
   "source": [
    "# Plot the result\n",
    "fig, ax = plt.subplots()\n",
    "ax.plot(mean_income_by_group, 'o', alpha=0.5)\n",
    "ax.set(ylabel='Mean hourly wage', xlabel='Age')"
   ]
  },
  {
   "cell_type": "markdown",
   "metadata": {},
   "source": [
    "Because this relationship, as well as other relationships we explore later, is non-linear, we use the quartic function to build our regression model."
   ]
  },
  {
   "cell_type": "code",
   "execution_count": 36,
   "metadata": {},
   "outputs": [],
   "source": [
    "# Build the regression model\n",
    "col = 'AGE'\n",
    "work_force_pow4 = work_force.copy()\n",
    "work_force_pow4[col+'2'] = work_force[col]**2\n",
    "work_force_pow4[col+'3'] = work_force[col]**3\n",
    "work_force_pow4[col+'4'] = work_force[col]**4\n",
    "\n",
    "formula = 'HRLY_INCWAGE ~ C(SEX) + AGE + AGE2 + AGE3 + AGE4'\n",
    "model = smf.ols(formula, data=work_force_pow4)\n",
    "results = model.fit()"
   ]
  },
  {
   "cell_type": "code",
   "execution_count": 37,
   "metadata": {},
   "outputs": [],
   "source": [
    "# Create a new data frame and predict male and female income when controlling for age\n",
    "df = pd.DataFrame()\n",
    "df[col] = np.linspace(work_force_pow4[col].min(), work_force_pow4[col].max(), len(work_force_pow4[col]))\n",
    "df[col+'2'] = df[col]**2\n",
    "df[col+'3'] = df[col]**3\n",
    "df[col+'4'] = df[col]**4\n",
    "\n",
    "df['SEX'] = 1\n",
    "pred_male = results.predict(df)\n",
    "\n",
    "df['SEX'] = 0\n",
    "pred_female = results.predict(df) "
   ]
  },
  {
   "cell_type": "code",
   "execution_count": 38,
   "metadata": {},
   "outputs": [
    {
     "data": {
      "text/plain": [
       "<matplotlib.legend.Legend at 0x250aa192cc0>"
      ]
     },
     "execution_count": 38,
     "metadata": {},
     "output_type": "execute_result"
    },
    {
     "data": {
      "image/png": "[encoded data removed]",
      "text/plain": [
       "<Figure size 432x288 with 1 Axes>"
      ]
     },
     "metadata": {
      "needs_background": "light"
     },
     "output_type": "display_data"
    }
   ],
   "source": [
    "# Plot the result\n",
    "fig, ax = plt.subplots()\n",
    "ax.plot(mean_income_by_group, 'o', alpha=0.5, label='data')\n",
    "ax.set(ylabel='Mean hourly wage', xlabel='Age')\n",
    "ax.plot(df[col], pred_male, label='male')\n",
    "ax.plot(df[col], pred_female, label='female')\n",
    "ax.legend()"
   ]
  },
  {
   "cell_type": "markdown",
   "metadata": {},
   "source": [
    "Female hourly income is lower than male hourly income for different ages. The pay gap is wider for middle-aged and older people.\n",
    "\n",
    "Using the same approach, we look into other variables and pick some that seem to have interesting relationships."
   ]
  },
  {
   "cell_type": "code",
   "execution_count": 39,
   "metadata": {},
   "outputs": [],
   "source": [
    "variables = ['AGE', 'EDUC', 'ELDCH','NCHILD', 'UHRSWORK', 'WKSWORK', 'YRSUSA1', 'TRANTIME', 'DEPARTS']\n",
    "variables_describe = ['Age', 'Education', 'Age of eldest child', 'Number of children', 'Usual hours worked per week', 'Weeks worked last year (approximate)', 'Years in the US', 'Travel time to work', 'Time of departure for work']"
   ]
  },
  {
   "cell_type": "code",
   "execution_count": 40,
   "metadata": {},
   "outputs": [],
   "source": [
    "work_force_pow4 = work_force.copy()\n",
    "for var in variables:\n",
    "    for power in '234':\n",
    "        work_force_pow4[var+power] = work_force_pow4[var]**int(power)"
   ]
  },
  {
   "cell_type": "code",
   "execution_count": 44,
   "metadata": {},
   "outputs": [
    {
     "data": {
      "image/png": "[encoded data removed]",
      "text/plain": [
       "<Figure size 1008x720 with 9 Axes>"
      ]
     },
     "metadata": {
      "needs_background": "light"
     },
     "output_type": "display_data"
    }
   ],
   "source": [
    "fig, axarr = plt.subplots(3, 3, figsize=(14,10))\n",
    "for i in range(3):\n",
    "    for j in range(3):\n",
    "        paygap.PlotDataWithRegression(ax=axarr[i, j], work_force=work_force_pow4, col=variables[i*3+j], col_describe=variables_describe[i*3+j])"
   ]
  },
  {
   "cell_type": "markdown",
   "metadata": {},
   "source": [
    "Analysissss"
   ]
  },
  {
   "cell_type": "markdown",
   "metadata": {},
   "source": [
    "## People with Disabilities"
   ]
  },
  {
   "cell_type": "markdown",
   "metadata": {},
   "source": [
    "Here are variables for people with disabilities:\n",
    "- `DIFFHEAR`: 'Hearing difficulty'\n",
    "- `DIFFPHYS`: 'Ambulatory difficulty'\n",
    "- `DIFFEYE`: 'Vision difficulty'\n",
    "- `DIFFCARE`: 'Self-care difficulty'\n",
    "- `DIFFREM`: 'Cognitive difficulty'\n",
    "- `DIFFMOB`: 'Independent living difficulty'\n",
    "\n",
    "Response code:\n",
    "- 1 = Does not have a disability\n",
    "- 2 = Have a disability"
   ]
  },
  {
   "cell_type": "code",
   "execution_count": 90,
   "metadata": {},
   "outputs": [],
   "source": [
    "diff_vars = ['DIFFHEAR', 'DIFFPHYS', 'DIFFEYE', 'DIFFCARE', 'DIFFREM', 'DIFFMOB']\n",
    "diff_vars_describe = ['Hearing difficulty', 'Ambulatory difficulty', 'Vision difficulty', 'Self-care difficulty', 'Cognitive difficulty', 'Independent living difficulty']\n",
    "is_disabled = (work_force[\"DIFFHEAR\"] == 1) | (work_force[\"DIFFEYE\"] == 1) | (work_force[\"DIFFPHYS\"] == 1) | (work_force[\"DIFFCARE\"] == 1) | (work_force[\"DIFFMOB\"] == 1) | (work_force[\"DIFFREM\"] == 1)"
   ]
  },
  {
   "cell_type": "markdown",
   "metadata": {},
   "source": [
    "First, we create a DataFrame for those respondents who do not have any disability. We also include the `HRLY_INCWAGE` column in this DataFrame."
   ]
  },
  {
   "cell_type": "code",
   "execution_count": 91,
   "metadata": {},
   "outputs": [
    {
     "data": {
      "text/html": [
       "<div>\n",
       "<style scoped>\n",
       "    .dataframe tbody tr th:only-of-type {\n",
       "        vertical-align: middle;\n",
       "    }\n",
       "\n",
       "    .dataframe tbody tr th {\n",
       "        vertical-align: top;\n",
       "    }\n",
       "\n",
       "    .dataframe thead th {\n",
       "        text-align: right;\n",
       "    }\n",
       "</style>\n",
       "<table border=\"1\" class=\"dataframe\">\n",
       "  <thead>\n",
       "    <tr style=\"text-align: right;\">\n",
       "      <th></th>\n",
       "      <th>HRLY_INCWAGE</th>\n",
       "      <th>DIFFHEAR</th>\n",
       "      <th>DIFFPHYS</th>\n",
       "      <th>DIFFEYE</th>\n",
       "      <th>DIFFCARE</th>\n",
       "      <th>DIFFREM</th>\n",
       "      <th>DIFFMOB</th>\n",
       "    </tr>\n",
       "  </thead>\n",
       "  <tbody>\n",
       "    <tr>\n",
       "      <th>1</th>\n",
       "      <td>17.799353</td>\n",
       "      <td>0</td>\n",
       "      <td>0</td>\n",
       "      <td>0</td>\n",
       "      <td>0</td>\n",
       "      <td>0</td>\n",
       "      <td>0</td>\n",
       "    </tr>\n",
       "    <tr>\n",
       "      <th>2</th>\n",
       "      <td>33.287101</td>\n",
       "      <td>0</td>\n",
       "      <td>0</td>\n",
       "      <td>0</td>\n",
       "      <td>0</td>\n",
       "      <td>0</td>\n",
       "      <td>0</td>\n",
       "    </tr>\n",
       "    <tr>\n",
       "      <th>5</th>\n",
       "      <td>11.650485</td>\n",
       "      <td>0</td>\n",
       "      <td>0</td>\n",
       "      <td>0</td>\n",
       "      <td>0</td>\n",
       "      <td>0</td>\n",
       "      <td>0</td>\n",
       "    </tr>\n",
       "    <tr>\n",
       "      <th>10</th>\n",
       "      <td>21.035599</td>\n",
       "      <td>0</td>\n",
       "      <td>0</td>\n",
       "      <td>0</td>\n",
       "      <td>0</td>\n",
       "      <td>0</td>\n",
       "      <td>0</td>\n",
       "    </tr>\n",
       "    <tr>\n",
       "      <th>11</th>\n",
       "      <td>27.669903</td>\n",
       "      <td>0</td>\n",
       "      <td>0</td>\n",
       "      <td>0</td>\n",
       "      <td>0</td>\n",
       "      <td>0</td>\n",
       "      <td>0</td>\n",
       "    </tr>\n",
       "  </tbody>\n",
       "</table>\n",
       "</div>"
      ],
      "text/plain": [
       "    HRLY_INCWAGE  DIFFHEAR  DIFFPHYS  DIFFEYE  DIFFCARE  DIFFREM  DIFFMOB\n",
       "1      17.799353         0         0        0         0        0        0\n",
       "2      33.287101         0         0        0         0        0        0\n",
       "5      11.650485         0         0        0         0        0        0\n",
       "10     21.035599         0         0        0         0        0        0\n",
       "11     27.669903         0         0        0         0        0        0"
      ]
     },
     "execution_count": 91,
     "metadata": {},
     "output_type": "execute_result"
    }
   ],
   "source": [
    "non_disabled = work_force[[\"HRLY_INCWAGE\"] + diff_vars].copy()\n",
    "non_disabled = non_disabled[~is_disabled]\n",
    "\n",
    "non_disabled.head()"
   ]
  },
  {
   "cell_type": "markdown",
   "metadata": {},
   "source": [
    "Next, we create a DataFrame to store the hourly income, `HRLY_INCWAGE`, of non-disabled people."
   ]
  },
  {
   "cell_type": "code",
   "execution_count": 92,
   "metadata": {},
   "outputs": [],
   "source": [
    "diff_df = work_force[[\"SEX\"]].copy() # SEX is a dummy variable to keep the index column\n",
    "diff_df[\"No difficulties\"] = non_disabled[\"HRLY_INCWAGE\"]"
   ]
  },
  {
   "cell_type": "markdown",
   "metadata": {},
   "source": [
    "Similarly, we also create a DataFrame for each group of disabled people and add them to `diff_df`."
   ]
  },
  {
   "cell_type": "code",
   "execution_count": 93,
   "metadata": {},
   "outputs": [
    {
     "data": {
      "text/html": [
       "<div>\n",
       "<style scoped>\n",
       "    .dataframe tbody tr th:only-of-type {\n",
       "        vertical-align: middle;\n",
       "    }\n",
       "\n",
       "    .dataframe tbody tr th {\n",
       "        vertical-align: top;\n",
       "    }\n",
       "\n",
       "    .dataframe thead th {\n",
       "        text-align: right;\n",
       "    }\n",
       "</style>\n",
       "<table border=\"1\" class=\"dataframe\">\n",
       "  <thead>\n",
       "    <tr style=\"text-align: right;\">\n",
       "      <th></th>\n",
       "      <th>SEX</th>\n",
       "      <th>No difficulties</th>\n",
       "      <th>Hearing difficulty</th>\n",
       "      <th>Ambulatory difficulty</th>\n",
       "      <th>Vision difficulty</th>\n",
       "      <th>Self-care difficulty</th>\n",
       "      <th>Cognitive difficulty</th>\n",
       "      <th>Independent living difficulty</th>\n",
       "    </tr>\n",
       "  </thead>\n",
       "  <tbody>\n",
       "    <tr>\n",
       "      <th>count</th>\n",
       "      <td>1.158958e+06</td>\n",
       "      <td>1.096557e+06</td>\n",
       "      <td>21083.000000</td>\n",
       "      <td>20983.000000</td>\n",
       "      <td>13942.000000</td>\n",
       "      <td>4169.000000</td>\n",
       "      <td>14999.000000</td>\n",
       "      <td>8292.000000</td>\n",
       "    </tr>\n",
       "    <tr>\n",
       "      <th>mean</th>\n",
       "      <td>5.447652e-01</td>\n",
       "      <td>2.829058e+01</td>\n",
       "      <td>26.576556</td>\n",
       "      <td>22.716021</td>\n",
       "      <td>22.803967</td>\n",
       "      <td>22.536601</td>\n",
       "      <td>19.056181</td>\n",
       "      <td>19.989366</td>\n",
       "    </tr>\n",
       "    <tr>\n",
       "      <th>std</th>\n",
       "      <td>4.979923e-01</td>\n",
       "      <td>2.785562e+01</td>\n",
       "      <td>25.428707</td>\n",
       "      <td>22.604345</td>\n",
       "      <td>23.032487</td>\n",
       "      <td>27.578427</td>\n",
       "      <td>19.539960</td>\n",
       "      <td>23.675311</td>\n",
       "    </tr>\n",
       "    <tr>\n",
       "      <th>min</th>\n",
       "      <td>0.000000e+00</td>\n",
       "      <td>2.003390e+00</td>\n",
       "      <td>2.020202</td>\n",
       "      <td>2.019417</td>\n",
       "      <td>2.020202</td>\n",
       "      <td>2.019417</td>\n",
       "      <td>2.012357</td>\n",
       "      <td>2.012357</td>\n",
       "    </tr>\n",
       "    <tr>\n",
       "      <th>25%</th>\n",
       "      <td>0.000000e+00</td>\n",
       "      <td>1.359223e+01</td>\n",
       "      <td>13.106796</td>\n",
       "      <td>11.650485</td>\n",
       "      <td>11.165049</td>\n",
       "      <td>10.614887</td>\n",
       "      <td>9.708738</td>\n",
       "      <td>9.514563</td>\n",
       "    </tr>\n",
       "    <tr>\n",
       "      <th>50%</th>\n",
       "      <td>1.000000e+00</td>\n",
       "      <td>2.097087e+01</td>\n",
       "      <td>20.226537</td>\n",
       "      <td>17.475728</td>\n",
       "      <td>16.990291</td>\n",
       "      <td>16.396980</td>\n",
       "      <td>14.563107</td>\n",
       "      <td>14.563107</td>\n",
       "    </tr>\n",
       "    <tr>\n",
       "      <th>75%</th>\n",
       "      <td>1.000000e+00</td>\n",
       "      <td>3.378641e+01</td>\n",
       "      <td>31.553398</td>\n",
       "      <td>26.699029</td>\n",
       "      <td>27.184466</td>\n",
       "      <td>25.757576</td>\n",
       "      <td>22.863307</td>\n",
       "      <td>23.300971</td>\n",
       "    </tr>\n",
       "    <tr>\n",
       "      <th>max</th>\n",
       "      <td>1.000000e+00</td>\n",
       "      <td>7.171717e+02</td>\n",
       "      <td>488.888889</td>\n",
       "      <td>488.888889</td>\n",
       "      <td>368.582375</td>\n",
       "      <td>488.888889</td>\n",
       "      <td>436.363636</td>\n",
       "      <td>488.888889</td>\n",
       "    </tr>\n",
       "  </tbody>\n",
       "</table>\n",
       "</div>"
      ],
      "text/plain": [
       "                SEX  No difficulties  Hearing difficulty  \\\n",
       "count  1.158958e+06     1.096557e+06        21083.000000   \n",
       "mean   5.447652e-01     2.829058e+01           26.576556   \n",
       "std    4.979923e-01     2.785562e+01           25.428707   \n",
       "min    0.000000e+00     2.003390e+00            2.020202   \n",
       "25%    0.000000e+00     1.359223e+01           13.106796   \n",
       "50%    1.000000e+00     2.097087e+01           20.226537   \n",
       "75%    1.000000e+00     3.378641e+01           31.553398   \n",
       "max    1.000000e+00     7.171717e+02          488.888889   \n",
       "\n",
       "       Ambulatory difficulty  Vision difficulty  Self-care difficulty  \\\n",
       "count           20983.000000       13942.000000           4169.000000   \n",
       "mean               22.716021          22.803967             22.536601   \n",
       "std                22.604345          23.032487             27.578427   \n",
       "min                 2.019417           2.020202              2.019417   \n",
       "25%                11.650485          11.165049             10.614887   \n",
       "50%                17.475728          16.990291             16.396980   \n",
       "75%                26.699029          27.184466             25.757576   \n",
       "max               488.888889         368.582375            488.888889   \n",
       "\n",
       "       Cognitive difficulty  Independent living difficulty  \n",
       "count          14999.000000                    8292.000000  \n",
       "mean              19.056181                      19.989366  \n",
       "std               19.539960                      23.675311  \n",
       "min                2.012357                       2.012357  \n",
       "25%                9.708738                       9.514563  \n",
       "50%               14.563107                      14.563107  \n",
       "75%               22.863307                      23.300971  \n",
       "max              436.363636                     488.888889  "
      ]
     },
     "execution_count": 93,
     "metadata": {},
     "output_type": "execute_result"
    }
   ],
   "source": [
    "for i, col in enumerate(diff_vars):\n",
    "    disabled = work_force.copy()\n",
    "    disabled = disabled[disabled[col] == 1]\n",
    "    # Add a column to diff_df\n",
    "    diff_df[diff_vars_describe[i]] = disabled[\"HRLY_INCWAGE\"]\n",
    "    \n",
    "# Drop the dummy variable\n",
    "diff_df.describe()"
   ]
  },
  {
   "cell_type": "markdown",
   "metadata": {},
   "source": [
    "Finally, we plot the result using Box Plot."
   ]
  },
  {
   "cell_type": "code",
   "execution_count": 95,
   "metadata": {},
   "outputs": [
    {
     "data": {
      "text/plain": [
       "[Text(0.5, 0, 'Hourly income')]"
      ]
     },
     "execution_count": 95,
     "metadata": {},
     "output_type": "execute_result"
    },
    {
     "data": {
      "image/png": "[encoded data removed]",
      "text/plain": [
       "<Figure size 1008x504 with 1 Axes>"
      ]
     },
     "metadata": {
      "needs_background": "light"
     },
     "output_type": "display_data"
    }
   ],
   "source": [
    "fig, ax = plt.subplots(figsize=(14,7))\n",
    "ax = sns.boxplot(data=diff_df.drop(['SEX'], axis=1), orient=\"h\", palette=\"Set2\", showfliers=False)\n",
    "ax.set(xlabel=\"Hourly income\")"
   ]
  },
  {
   "cell_type": "markdown",
   "metadata": {},
   "source": [
    "### Comparing incomes between men and women in non-disabled and disabled groups"
   ]
  },
  {
   "cell_type": "markdown",
   "metadata": {},
   "source": [
    "We create a similar `non_disabled` DataFrame as above. This time, we also include the `SEX` column."
   ]
  },
  {
   "cell_type": "code",
   "execution_count": 96,
   "metadata": {},
   "outputs": [
    {
     "data": {
      "text/html": [
       "<div>\n",
       "<style scoped>\n",
       "    .dataframe tbody tr th:only-of-type {\n",
       "        vertical-align: middle;\n",
       "    }\n",
       "\n",
       "    .dataframe tbody tr th {\n",
       "        vertical-align: top;\n",
       "    }\n",
       "\n",
       "    .dataframe thead th {\n",
       "        text-align: right;\n",
       "    }\n",
       "</style>\n",
       "<table border=\"1\" class=\"dataframe\">\n",
       "  <thead>\n",
       "    <tr style=\"text-align: right;\">\n",
       "      <th></th>\n",
       "      <th>HRLY_INCWAGE</th>\n",
       "      <th>SEX</th>\n",
       "      <th>DIFFTOTAL</th>\n",
       "    </tr>\n",
       "  </thead>\n",
       "  <tbody>\n",
       "    <tr>\n",
       "      <th>1</th>\n",
       "      <td>17.799353</td>\n",
       "      <td>0</td>\n",
       "      <td>False</td>\n",
       "    </tr>\n",
       "    <tr>\n",
       "      <th>2</th>\n",
       "      <td>33.287101</td>\n",
       "      <td>1</td>\n",
       "      <td>False</td>\n",
       "    </tr>\n",
       "    <tr>\n",
       "      <th>5</th>\n",
       "      <td>11.650485</td>\n",
       "      <td>0</td>\n",
       "      <td>False</td>\n",
       "    </tr>\n",
       "    <tr>\n",
       "      <th>10</th>\n",
       "      <td>21.035599</td>\n",
       "      <td>1</td>\n",
       "      <td>False</td>\n",
       "    </tr>\n",
       "    <tr>\n",
       "      <th>11</th>\n",
       "      <td>27.669903</td>\n",
       "      <td>0</td>\n",
       "      <td>False</td>\n",
       "    </tr>\n",
       "  </tbody>\n",
       "</table>\n",
       "</div>"
      ],
      "text/plain": [
       "    HRLY_INCWAGE  SEX  DIFFTOTAL\n",
       "1      17.799353    0      False\n",
       "2      33.287101    1      False\n",
       "5      11.650485    0      False\n",
       "10     21.035599    1      False\n",
       "11     27.669903    0      False"
      ]
     },
     "execution_count": 96,
     "metadata": {},
     "output_type": "execute_result"
    }
   ],
   "source": [
    "work_force[\"DIFFTOTAL\"] = is_disabled\n",
    "non_disabled = work_force[[\"HRLY_INCWAGE\", \"SEX\", \"DIFFTOTAL\"]]\n",
    "non_disabled = non_disabled[~is_disabled]\n",
    "    \n",
    "non_disabled.head()"
   ]
  },
  {
   "cell_type": "markdown",
   "metadata": {},
   "source": [
    "Next, we select people with at least one disability and keep two columns, `HRLY_INCWAGE` and `SEX`."
   ]
  },
  {
   "cell_type": "code",
   "execution_count": 97,
   "metadata": {},
   "outputs": [
    {
     "data": {
      "text/html": [
       "<div>\n",
       "<style scoped>\n",
       "    .dataframe tbody tr th:only-of-type {\n",
       "        vertical-align: middle;\n",
       "    }\n",
       "\n",
       "    .dataframe tbody tr th {\n",
       "        vertical-align: top;\n",
       "    }\n",
       "\n",
       "    .dataframe thead th {\n",
       "        text-align: right;\n",
       "    }\n",
       "</style>\n",
       "<table border=\"1\" class=\"dataframe\">\n",
       "  <thead>\n",
       "    <tr style=\"text-align: right;\">\n",
       "      <th></th>\n",
       "      <th>HRLY_INCWAGE</th>\n",
       "      <th>SEX</th>\n",
       "      <th>DIFFTOTAL</th>\n",
       "    </tr>\n",
       "  </thead>\n",
       "  <tbody>\n",
       "    <tr>\n",
       "      <th>45</th>\n",
       "      <td>2.718447</td>\n",
       "      <td>1</td>\n",
       "      <td>True</td>\n",
       "    </tr>\n",
       "    <tr>\n",
       "      <th>109</th>\n",
       "      <td>7.216495</td>\n",
       "      <td>0</td>\n",
       "      <td>True</td>\n",
       "    </tr>\n",
       "    <tr>\n",
       "      <th>167</th>\n",
       "      <td>14.147018</td>\n",
       "      <td>0</td>\n",
       "      <td>True</td>\n",
       "    </tr>\n",
       "    <tr>\n",
       "      <th>168</th>\n",
       "      <td>11.067961</td>\n",
       "      <td>1</td>\n",
       "      <td>True</td>\n",
       "    </tr>\n",
       "    <tr>\n",
       "      <th>303</th>\n",
       "      <td>4.854369</td>\n",
       "      <td>1</td>\n",
       "      <td>True</td>\n",
       "    </tr>\n",
       "  </tbody>\n",
       "</table>\n",
       "</div>"
      ],
      "text/plain": [
       "     HRLY_INCWAGE  SEX  DIFFTOTAL\n",
       "45       2.718447    1       True\n",
       "109      7.216495    0       True\n",
       "167     14.147018    0       True\n",
       "168     11.067961    1       True\n",
       "303      4.854369    1       True"
      ]
     },
     "execution_count": 97,
     "metadata": {},
     "output_type": "execute_result"
    }
   ],
   "source": [
    "disabled = work_force[[\"HRLY_INCWAGE\", \"SEX\", \"DIFFTOTAL\"]]\n",
    "disabled = disabled[is_disabled]\n",
    "disabled.head()"
   ]
  },
  {
   "cell_type": "markdown",
   "metadata": {},
   "source": [
    "First, let's look at the distribution of hourly income of the `non_disabled` group."
   ]
  },
  {
   "cell_type": "code",
   "execution_count": 98,
   "metadata": {},
   "outputs": [
    {
     "data": {
      "image/png": "[encoded data removed]",
      "text/plain": [
       "<Figure size 432x288 with 1 Axes>"
      ]
     },
     "metadata": {
      "needs_background": "light"
     },
     "output_type": "display_data"
    }
   ],
   "source": [
    "hist_non_disabled = thinkstats2.Hist(np.round(non_disabled[\"HRLY_INCWAGE\"]), label='non-disabled')\n",
    "thinkplot.hist(hist_non_disabled)\n",
    "thinkplot.Config(xlim=(0, 100), xlabel=\"Hourly income\", ylabel=\"Count\")"
   ]
  },
  {
   "cell_type": "markdown",
   "metadata": {},
   "source": [
    "The distribution is highly skews, so we will use median income to compute the pay gap in each group, which we will use to analyze the effect of disability on pay gap."
   ]
  },
  {
   "cell_type": "markdown",
   "metadata": {},
   "source": [
    "For `non_disabled` group, we can compute the difference between median hourly income of men and of women as follows:"
   ]
  },
  {
   "cell_type": "code",
   "execution_count": 99,
   "metadata": {},
   "outputs": [
    {
     "name": "stdout",
     "output_type": "stream",
     "text": [
      "Male median hourly income\t 22.94792586054722\n",
      "Female median hourly income\t 19.41747572815534\n",
      "Pay gap (Non-disabled)\t\t 3.5304501323918807\n"
     ]
    }
   ],
   "source": [
    "male_median_non_disabled = non_disabled[non_disabled.SEX == 1][\"HRLY_INCWAGE\"].median()\n",
    "female_median_non_disabled = non_disabled[non_disabled.SEX == 0][\"HRLY_INCWAGE\"].median()\n",
    "pay_gap_non_disabled = male_median_non_disabled - female_median_non_disabled\n",
    "print(\"Male median hourly income\\t\", male_median_non_disabled)\n",
    "print(\"Female median hourly income\\t\", female_median_non_disabled)\n",
    "print(\"Pay gap (Non-disabled)\\t\\t\", pay_gap_non_disabled)"
   ]
  },
  {
   "cell_type": "markdown",
   "metadata": {},
   "source": [
    "For `disabled` group:"
   ]
  },
  {
   "cell_type": "code",
   "execution_count": 100,
   "metadata": {},
   "outputs": [
    {
     "name": "stdout",
     "output_type": "stream",
     "text": [
      "Male median hourly income\t 19.41747572815534\n",
      "Female median hourly income\t 15.782828282828282\n",
      "Pay gap (Disabled)\t\t 3.6346474453270563\n"
     ]
    }
   ],
   "source": [
    "male_median_disabled = disabled[disabled.SEX == 1][\"HRLY_INCWAGE\"].median()\n",
    "female_median_disabled = disabled[disabled.SEX == 0][\"HRLY_INCWAGE\"].median()\n",
    "pay_gap_disabled = male_median_disabled - female_median_disabled\n",
    "print(\"Male median hourly income\\t\", male_median_disabled)\n",
    "print(\"Female median hourly income\\t\", female_median_disabled)\n",
    "print(\"Pay gap (Disabled)\\t\\t\", pay_gap_disabled)"
   ]
  },
  {
   "cell_type": "markdown",
   "metadata": {},
   "source": [
    "Analysissss"
   ]
  },
  {
   "cell_type": "code",
   "execution_count": 101,
   "metadata": {},
   "outputs": [
    {
     "data": {
      "text/plain": [
       "-0.029513888888888496"
      ]
     },
     "execution_count": 101,
     "metadata": {},
     "output_type": "execute_result"
    }
   ],
   "source": [
    "(pay_gap_non_disabled - pay_gap_disabled)/pay_gap_non_disabled"
   ]
  },
  {
   "cell_type": "markdown",
   "metadata": {},
   "source": [
    "Compute CI....."
   ]
  },
  {
   "cell_type": "code",
   "execution_count": 102,
   "metadata": {},
   "outputs": [],
   "source": [
    "def computePayGap(df):\n",
    "        male_median = df[df.SEX == 1][\"HRLY_INCWAGE\"].median()\n",
    "        female_median = df[df.SEX == 0][\"HRLY_INCWAGE\"].median()\n",
    "        return male_median - female_median\n",
    "    \n",
    "def computeStatistic(df):\n",
    "    df = df[[\"HRLY_INCWAGE\", \"SEX\", \"DIFFTOTAL\"]]\n",
    "    is_disabled = df[\"DIFFTOTAL\"]\n",
    "    \n",
    "    non_disabled = df[~is_disabled]\n",
    "    disabled = df[is_disabled]\n",
    "\n",
    "    pay_gap_non_disabled = computePayGap(non_disabled)\n",
    "    pay_gap_disabled = computePayGap(disabled)\n",
    "\n",
    "    return (pay_gap_non_disabled - pay_gap_disabled)/pay_gap_non_disabled\n",
    "    \n",
    "def computeCI(work_force, iter=201):\n",
    "    stats = []\n",
    "    \n",
    "    for i in range(iter):\n",
    "        df = thinkstats2.ResampleRows(work_force)\n",
    "        stat = computeStatistic(df)\n",
    "        stats.append(stat)\n",
    "    \n",
    "    cdf = thinkstats2.Cdf(stats)\n",
    "    ci = cdf.Percentile(5), cdf.Percentile(95)\n",
    "    return ci"
   ]
  },
  {
   "cell_type": "code",
   "execution_count": 103,
   "metadata": {},
   "outputs": [
    {
     "data": {
      "text/plain": [
       "(-0.0999999999999993, 0.037500000000000366)"
      ]
     },
     "execution_count": 103,
     "metadata": {},
     "output_type": "execute_result"
    }
   ],
   "source": [
    "computeCI(work_force)"
   ]
  },
  {
   "cell_type": "markdown",
   "metadata": {},
   "source": [
    "Compute P value"
   ]
  },
  {
   "cell_type": "code",
   "execution_count": 104,
   "metadata": {},
   "outputs": [],
   "source": [
    "class ProportionalTest():\n",
    "    def __init__(self, data):\n",
    "        self.data = data\n",
    "        self.actual = self.TestStatistic(data)\n",
    "        \n",
    "    def PValue(self, iters=101):\n",
    "        self.test_stats = [self.TestStatistic(self.RunModel()) for _ in range(iters)]\n",
    "        count = sum(1 for x in self.test_stats if x >= self.actual)\n",
    "        return 100 * count / iters\n",
    "        \n",
    "    def TestStatistic(self, data):\n",
    "        return computeStatistic(data)\n",
    "\n",
    "    def RunModel(self):\n",
    "        # Copy the data frame\n",
    "        shuffled_data = self.data.copy()\n",
    "        # Permutate the rows of the DIFFTOTAL column on the copy\n",
    "        shuffled_data[\"DIFFTOTAL\"] = np.random.permutation(shuffled_data[\"DIFFTOTAL\"]) \n",
    "        \n",
    "        return shuffled_data"
   ]
  },
  {
   "cell_type": "code",
   "execution_count": 105,
   "metadata": {},
   "outputs": [
    {
     "data": {
      "text/plain": [
       "65.34653465346534"
      ]
     },
     "execution_count": 105,
     "metadata": {},
     "output_type": "execute_result"
    }
   ],
   "source": [
    "ProportionalTest(work_force).PValue()"
   ]
  },
  {
   "cell_type": "markdown",
   "metadata": {},
   "source": [
    "The P value is very high, which shows that this effect is statistically insignificant."
   ]
  }
 ],
 "metadata": {
  "kernelspec": {
   "display_name": "Python 3",
   "language": "python",
   "name": "python3"
  },
  "language_info": {
   "codemirror_mode": {
    "name": "ipython",
    "version": 3
   },
   "file_extension": ".py",
   "mimetype": "text/x-python",
   "name": "python",
   "nbconvert_exporter": "python",
   "pygments_lexer": "ipython3",
   "version": "3.6.8"
  }
 },
 "nbformat": 4,
 "nbformat_minor": 2
}
