{
 "cells": [
  {
   "cell_type": "markdown",
   "metadata": {},
   "source": [
    "### Data mining"
   ]
  },
  {
   "cell_type": "code",
   "execution_count": 1,
   "metadata": {},
   "outputs": [],
   "source": [
    "import pandas as pd\n",
    "import thinkplot\n",
    "import numpy as np\n",
    "import statsmodels.formula.api as smf"
   ]
  },
  {
   "cell_type": "markdown",
   "metadata": {},
   "source": [
    "Read in data"
   ]
  },
  {
   "cell_type": "code",
   "execution_count": 2,
   "metadata": {},
   "outputs": [],
   "source": [
    "df_raw = pd.read_csv('../../Data/usa_00002.csv')"
   ]
  },
  {
   "cell_type": "code",
   "execution_count": 3,
   "metadata": {},
   "outputs": [
    {
     "data": {
      "text/html": [
       "<div>\n",
       "<style scoped>\n",
       "    .dataframe tbody tr th:only-of-type {\n",
       "        vertical-align: middle;\n",
       "    }\n",
       "\n",
       "    .dataframe tbody tr th {\n",
       "        vertical-align: top;\n",
       "    }\n",
       "\n",
       "    .dataframe thead th {\n",
       "        text-align: right;\n",
       "    }\n",
       "</style>\n",
       "<table border=\"1\" class=\"dataframe\">\n",
       "  <thead>\n",
       "    <tr style=\"text-align: right;\">\n",
       "      <th></th>\n",
       "      <th>YEAR</th>\n",
       "      <th>DATANUM</th>\n",
       "      <th>SERIAL</th>\n",
       "      <th>CBSERIAL</th>\n",
       "      <th>HHWT</th>\n",
       "      <th>REGION</th>\n",
       "      <th>STATEICP</th>\n",
       "      <th>STATEFIP</th>\n",
       "      <th>COUNTYICP</th>\n",
       "      <th>COUNTYFIP</th>\n",
       "      <th>...</th>\n",
       "      <th>DIFFHEAR</th>\n",
       "      <th>PWSTATE2</th>\n",
       "      <th>PWCOUNTY</th>\n",
       "      <th>PWMET13</th>\n",
       "      <th>PWTYPE</th>\n",
       "      <th>PWPUMA00</th>\n",
       "      <th>TRANWORK</th>\n",
       "      <th>TRANTIME</th>\n",
       "      <th>DEPARTS</th>\n",
       "      <th>ARRIVES</th>\n",
       "    </tr>\n",
       "  </thead>\n",
       "  <tbody>\n",
       "    <tr>\n",
       "      <th>0</th>\n",
       "      <td>2017</td>\n",
       "      <td>1</td>\n",
       "      <td>1</td>\n",
       "      <td>2017000000016</td>\n",
       "      <td>206</td>\n",
       "      <td>32</td>\n",
       "      <td>41</td>\n",
       "      <td>1</td>\n",
       "      <td>0</td>\n",
       "      <td>0</td>\n",
       "      <td>...</td>\n",
       "      <td>1</td>\n",
       "      <td>0</td>\n",
       "      <td>0</td>\n",
       "      <td>0</td>\n",
       "      <td>0</td>\n",
       "      <td>0</td>\n",
       "      <td>0</td>\n",
       "      <td>0</td>\n",
       "      <td>0</td>\n",
       "      <td>0</td>\n",
       "    </tr>\n",
       "    <tr>\n",
       "      <th>1</th>\n",
       "      <td>2017</td>\n",
       "      <td>1</td>\n",
       "      <td>2</td>\n",
       "      <td>2017000000031</td>\n",
       "      <td>45</td>\n",
       "      <td>32</td>\n",
       "      <td>41</td>\n",
       "      <td>1</td>\n",
       "      <td>0</td>\n",
       "      <td>0</td>\n",
       "      <td>...</td>\n",
       "      <td>1</td>\n",
       "      <td>1</td>\n",
       "      <td>117</td>\n",
       "      <td>13820</td>\n",
       "      <td>5</td>\n",
       "      <td>1200</td>\n",
       "      <td>10</td>\n",
       "      <td>50</td>\n",
       "      <td>642</td>\n",
       "      <td>734</td>\n",
       "    </tr>\n",
       "    <tr>\n",
       "      <th>2</th>\n",
       "      <td>2017</td>\n",
       "      <td>1</td>\n",
       "      <td>3</td>\n",
       "      <td>2017000000061</td>\n",
       "      <td>136</td>\n",
       "      <td>32</td>\n",
       "      <td>41</td>\n",
       "      <td>1</td>\n",
       "      <td>0</td>\n",
       "      <td>0</td>\n",
       "      <td>...</td>\n",
       "      <td>1</td>\n",
       "      <td>13</td>\n",
       "      <td>0</td>\n",
       "      <td>0</td>\n",
       "      <td>5</td>\n",
       "      <td>1700</td>\n",
       "      <td>10</td>\n",
       "      <td>45</td>\n",
       "      <td>1805</td>\n",
       "      <td>1849</td>\n",
       "    </tr>\n",
       "    <tr>\n",
       "      <th>3</th>\n",
       "      <td>2017</td>\n",
       "      <td>1</td>\n",
       "      <td>3</td>\n",
       "      <td>2017000000061</td>\n",
       "      <td>136</td>\n",
       "      <td>32</td>\n",
       "      <td>41</td>\n",
       "      <td>1</td>\n",
       "      <td>0</td>\n",
       "      <td>0</td>\n",
       "      <td>...</td>\n",
       "      <td>1</td>\n",
       "      <td>0</td>\n",
       "      <td>0</td>\n",
       "      <td>0</td>\n",
       "      <td>0</td>\n",
       "      <td>0</td>\n",
       "      <td>0</td>\n",
       "      <td>0</td>\n",
       "      <td>0</td>\n",
       "      <td>0</td>\n",
       "    </tr>\n",
       "    <tr>\n",
       "      <th>4</th>\n",
       "      <td>2017</td>\n",
       "      <td>1</td>\n",
       "      <td>3</td>\n",
       "      <td>2017000000061</td>\n",
       "      <td>136</td>\n",
       "      <td>32</td>\n",
       "      <td>41</td>\n",
       "      <td>1</td>\n",
       "      <td>0</td>\n",
       "      <td>0</td>\n",
       "      <td>...</td>\n",
       "      <td>1</td>\n",
       "      <td>0</td>\n",
       "      <td>0</td>\n",
       "      <td>0</td>\n",
       "      <td>0</td>\n",
       "      <td>0</td>\n",
       "      <td>0</td>\n",
       "      <td>0</td>\n",
       "      <td>0</td>\n",
       "      <td>0</td>\n",
       "    </tr>\n",
       "  </tbody>\n",
       "</table>\n",
       "<p>5 rows × 90 columns</p>\n",
       "</div>"
      ],
      "text/plain": [
       "   YEAR  DATANUM  SERIAL       CBSERIAL  HHWT  REGION  STATEICP  STATEFIP  \\\n",
       "0  2017        1       1  2017000000016   206      32        41         1   \n",
       "1  2017        1       2  2017000000031    45      32        41         1   \n",
       "2  2017        1       3  2017000000061   136      32        41         1   \n",
       "3  2017        1       3  2017000000061   136      32        41         1   \n",
       "4  2017        1       3  2017000000061   136      32        41         1   \n",
       "\n",
       "   COUNTYICP  COUNTYFIP  ...  DIFFHEAR  PWSTATE2  PWCOUNTY  PWMET13  PWTYPE  \\\n",
       "0          0          0  ...         1         0         0        0       0   \n",
       "1          0          0  ...         1         1       117    13820       5   \n",
       "2          0          0  ...         1        13         0        0       5   \n",
       "3          0          0  ...         1         0         0        0       0   \n",
       "4          0          0  ...         1         0         0        0       0   \n",
       "\n",
       "   PWPUMA00  TRANWORK  TRANTIME  DEPARTS  ARRIVES  \n",
       "0         0         0         0        0        0  \n",
       "1      1200        10        50      642      734  \n",
       "2      1700        10        45     1805     1849  \n",
       "3         0         0         0        0        0  \n",
       "4         0         0         0        0        0  \n",
       "\n",
       "[5 rows x 90 columns]"
      ]
     },
     "execution_count": 3,
     "metadata": {},
     "output_type": "execute_result"
    }
   ],
   "source": [
    "df_raw.head()"
   ]
  },
  {
   "cell_type": "code",
   "execution_count": 4,
   "metadata": {},
   "outputs": [],
   "source": [
    "work_force = df_raw[df_raw.EMPSTAT == 1] # Consider all employed people"
   ]
  },
  {
   "cell_type": "markdown",
   "metadata": {},
   "source": [
    "Remove NaNs"
   ]
  },
  {
   "cell_type": "code",
   "execution_count": 5,
   "metadata": {},
   "outputs": [
    {
     "data": {
      "text/html": [
       "<div>\n",
       "<style scoped>\n",
       "    .dataframe tbody tr th:only-of-type {\n",
       "        vertical-align: middle;\n",
       "    }\n",
       "\n",
       "    .dataframe tbody tr th {\n",
       "        vertical-align: top;\n",
       "    }\n",
       "\n",
       "    .dataframe thead th {\n",
       "        text-align: right;\n",
       "    }\n",
       "</style>\n",
       "<table border=\"1\" class=\"dataframe\">\n",
       "  <thead>\n",
       "    <tr style=\"text-align: right;\">\n",
       "      <th></th>\n",
       "      <th>YEAR</th>\n",
       "      <th>DATANUM</th>\n",
       "      <th>SERIAL</th>\n",
       "      <th>CBSERIAL</th>\n",
       "      <th>HHWT</th>\n",
       "      <th>REGION</th>\n",
       "      <th>STATEICP</th>\n",
       "      <th>STATEFIP</th>\n",
       "      <th>COUNTYICP</th>\n",
       "      <th>COUNTYFIP</th>\n",
       "      <th>...</th>\n",
       "      <th>DIFFHEAR</th>\n",
       "      <th>PWSTATE2</th>\n",
       "      <th>PWCOUNTY</th>\n",
       "      <th>PWMET13</th>\n",
       "      <th>PWTYPE</th>\n",
       "      <th>PWPUMA00</th>\n",
       "      <th>TRANWORK</th>\n",
       "      <th>TRANTIME</th>\n",
       "      <th>DEPARTS</th>\n",
       "      <th>ARRIVES</th>\n",
       "    </tr>\n",
       "  </thead>\n",
       "  <tbody>\n",
       "    <tr>\n",
       "      <th>1</th>\n",
       "      <td>2017</td>\n",
       "      <td>1</td>\n",
       "      <td>2</td>\n",
       "      <td>2017000000031</td>\n",
       "      <td>45</td>\n",
       "      <td>32</td>\n",
       "      <td>41</td>\n",
       "      <td>1</td>\n",
       "      <td>0</td>\n",
       "      <td>0</td>\n",
       "      <td>...</td>\n",
       "      <td>1</td>\n",
       "      <td>1</td>\n",
       "      <td>117</td>\n",
       "      <td>13820</td>\n",
       "      <td>5</td>\n",
       "      <td>1200</td>\n",
       "      <td>10</td>\n",
       "      <td>50</td>\n",
       "      <td>642</td>\n",
       "      <td>734</td>\n",
       "    </tr>\n",
       "    <tr>\n",
       "      <th>2</th>\n",
       "      <td>2017</td>\n",
       "      <td>1</td>\n",
       "      <td>3</td>\n",
       "      <td>2017000000061</td>\n",
       "      <td>136</td>\n",
       "      <td>32</td>\n",
       "      <td>41</td>\n",
       "      <td>1</td>\n",
       "      <td>0</td>\n",
       "      <td>0</td>\n",
       "      <td>...</td>\n",
       "      <td>1</td>\n",
       "      <td>13</td>\n",
       "      <td>0</td>\n",
       "      <td>0</td>\n",
       "      <td>5</td>\n",
       "      <td>1700</td>\n",
       "      <td>10</td>\n",
       "      <td>45</td>\n",
       "      <td>1805</td>\n",
       "      <td>1849</td>\n",
       "    </tr>\n",
       "    <tr>\n",
       "      <th>5</th>\n",
       "      <td>2017</td>\n",
       "      <td>1</td>\n",
       "      <td>4</td>\n",
       "      <td>2017000000158</td>\n",
       "      <td>19</td>\n",
       "      <td>32</td>\n",
       "      <td>41</td>\n",
       "      <td>1</td>\n",
       "      <td>0</td>\n",
       "      <td>0</td>\n",
       "      <td>...</td>\n",
       "      <td>1</td>\n",
       "      <td>1</td>\n",
       "      <td>0</td>\n",
       "      <td>0</td>\n",
       "      <td>9</td>\n",
       "      <td>2500</td>\n",
       "      <td>10</td>\n",
       "      <td>25</td>\n",
       "      <td>717</td>\n",
       "      <td>744</td>\n",
       "    </tr>\n",
       "    <tr>\n",
       "      <th>10</th>\n",
       "      <td>2017</td>\n",
       "      <td>1</td>\n",
       "      <td>5</td>\n",
       "      <td>2017000000159</td>\n",
       "      <td>21</td>\n",
       "      <td>32</td>\n",
       "      <td>41</td>\n",
       "      <td>1</td>\n",
       "      <td>0</td>\n",
       "      <td>0</td>\n",
       "      <td>...</td>\n",
       "      <td>1</td>\n",
       "      <td>1</td>\n",
       "      <td>0</td>\n",
       "      <td>0</td>\n",
       "      <td>9</td>\n",
       "      <td>290</td>\n",
       "      <td>10</td>\n",
       "      <td>60</td>\n",
       "      <td>602</td>\n",
       "      <td>704</td>\n",
       "    </tr>\n",
       "    <tr>\n",
       "      <th>11</th>\n",
       "      <td>2017</td>\n",
       "      <td>1</td>\n",
       "      <td>5</td>\n",
       "      <td>2017000000159</td>\n",
       "      <td>21</td>\n",
       "      <td>32</td>\n",
       "      <td>41</td>\n",
       "      <td>1</td>\n",
       "      <td>0</td>\n",
       "      <td>0</td>\n",
       "      <td>...</td>\n",
       "      <td>1</td>\n",
       "      <td>1</td>\n",
       "      <td>0</td>\n",
       "      <td>0</td>\n",
       "      <td>9</td>\n",
       "      <td>290</td>\n",
       "      <td>10</td>\n",
       "      <td>85</td>\n",
       "      <td>702</td>\n",
       "      <td>829</td>\n",
       "    </tr>\n",
       "  </tbody>\n",
       "</table>\n",
       "<p>5 rows × 90 columns</p>\n",
       "</div>"
      ],
      "text/plain": [
       "    YEAR  DATANUM  SERIAL       CBSERIAL  HHWT  REGION  STATEICP  STATEFIP  \\\n",
       "1   2017        1       2  2017000000031    45      32        41         1   \n",
       "2   2017        1       3  2017000000061   136      32        41         1   \n",
       "5   2017        1       4  2017000000158    19      32        41         1   \n",
       "10  2017        1       5  2017000000159    21      32        41         1   \n",
       "11  2017        1       5  2017000000159    21      32        41         1   \n",
       "\n",
       "    COUNTYICP  COUNTYFIP  ...  DIFFHEAR  PWSTATE2  PWCOUNTY  PWMET13  PWTYPE  \\\n",
       "1           0          0  ...         1         1       117    13820       5   \n",
       "2           0          0  ...         1        13         0        0       5   \n",
       "5           0          0  ...         1         1         0        0       9   \n",
       "10          0          0  ...         1         1         0        0       9   \n",
       "11          0          0  ...         1         1         0        0       9   \n",
       "\n",
       "    PWPUMA00  TRANWORK  TRANTIME  DEPARTS  ARRIVES  \n",
       "1       1200        10        50      642      734  \n",
       "2       1700        10        45     1805     1849  \n",
       "5       2500        10        25      717      744  \n",
       "10       290        10        60      602      704  \n",
       "11       290        10        85      702      829  \n",
       "\n",
       "[5 rows x 90 columns]"
      ]
     },
     "execution_count": 5,
     "metadata": {},
     "output_type": "execute_result"
    }
   ],
   "source": [
    "work_force = work_force.dropna()\n",
    "work_force.head()"
   ]
  },
  {
   "cell_type": "markdown",
   "metadata": {},
   "source": [
    "### Predictive powers"
   ]
  },
  {
   "cell_type": "code",
   "execution_count": 6,
   "metadata": {},
   "outputs": [],
   "source": [
    "t = []\n",
    "for name in work_force.columns:\n",
    "    try:\n",
    "        if work_force[name].var() < 1e-7:\n",
    "            continue\n",
    "        \n",
    "        formula = 'INCWAGE ~ ' + name\n",
    "        model = smf.ols(formula, data=work_force)\n",
    "        if model.nobs < len(work_force)/2:\n",
    "            continue\n",
    "            \n",
    "        results = model.fit()\n",
    "    except (ValueError, TypeError):\n",
    "        continue\n",
    "        \n",
    "    t.append((results.rsquared, name))"
   ]
  },
  {
   "cell_type": "code",
   "execution_count": 7,
   "metadata": {
    "scrolled": true
   },
   "outputs": [
    {
     "name": "stdout",
     "output_type": "stream",
     "text": [
      "INCWAGE 1.0\n",
      "INCEARN 0.893082765421639\n",
      "INCTOT 0.8287993208838135\n",
      "OCCSCORE 0.16741703416287168\n",
      "SEI 0.11296051232322724\n",
      "UHRSWORK 0.11199995857540535\n",
      "EDUCD 0.11048437651301812\n",
      "EDUC 0.1061655886594568\n",
      "DEGFIELDD 0.08860226672501026\n",
      "DEGFIELD 0.08855555915460855\n",
      "OCC1950 0.06414893004732869\n",
      "OCC2010 0.06372903051841838\n",
      "OCC 0.0636359416576765\n",
      "WKSWORK2 0.0532750175079012\n",
      "MARST 0.04386789805130986\n",
      "YRMARR 0.03649606243173387\n",
      "BIRTHYR 0.025007780903928523\n",
      "AGE 0.025007780903928523\n",
      "RELATE 0.02327870652017694\n",
      "RELATED 0.023180286995274968\n",
      "SEX 0.02257473842728086\n",
      "PERNUM 0.022048491705418782\n",
      "SCHOOL 0.020978971589079354\n",
      "GRADEATTD 0.019105692154608\n",
      "GRADEATT 0.018800505725589556\n",
      "SCHLTYPE 0.017102367913148342\n",
      "FERTYR 0.014770756185099265\n",
      "ELDCH 0.012902016601617938\n",
      "YNGCH 0.012567804309799868\n",
      "TRANTIME 0.010623289160095473\n",
      "NCHILD 0.008986469177179046\n",
      "DEGFIELD2D 0.008543979192768503\n",
      "DEGFIELD2 0.00854383507123635\n",
      "PWTYPE 0.008036622759191259\n",
      "MET2013 0.007912271440267737\n",
      "PWMET13 0.0076320801358478185\n",
      "GQ 0.007177302371058292\n",
      "CLASSWKR 0.006746274172095612\n",
      "METRO 0.006444195303833888\n",
      "DEPARTS 0.005595768042912619\n",
      "CLASSWKRD 0.005316013006822162\n",
      "HISPAN 0.00460403278100574\n",
      "HISPAND 0.0043486934760109675\n",
      "ARRIVES 0.00403105756250155\n",
      "MET2013ERR 0.0035942780825914955\n",
      "NFAMS 0.0031115149977931633\n",
      "DIFFREM 0.0025856778019804905\n",
      "HOMELAND 0.0025464064804123776\n",
      "SPEAKENG 0.002195684397738984\n",
      "DIFFMOB 0.0016068225570309291\n",
      "PERWT 0.001541059517654264\n",
      "DIFFPHYS 0.001309578265184408\n",
      "NCHLT5 0.0012808586752547368\n",
      "FTOTINC 0.0011463479607697336\n",
      "RACE 0.0010865321746682532\n",
      "RACED 0.0010628695738263971\n",
      "EMPSTATD 0.0010592680943570798\n",
      "PWCOUNTY 0.0010329434095721624\n",
      "IND 0.0008733003052481259\n",
      "COUNTYFIP 0.0006590208107281059\n",
      "COUNTYICP 0.0006552306357022752\n",
      "YRSUSA1 0.0005958116839767102\n",
      "VETDISAB 0.0005452588508270129\n",
      "DIFFSENS 0.0005101442474013673\n",
      "CITYPOP 0.0004971741926400597\n",
      "DIFFEYE 0.0004446432702776004\n",
      "DIFFCARE 0.00038778384548454614\n",
      "PUMA 0.0003646229464738804\n",
      "PWPUMA00 0.000324581886758879\n",
      "CITY 0.0003107040829400942\n",
      "FARM 0.0002979900166174554\n",
      "SERIAL 0.00026725002735916714\n",
      "IND1990 0.0002250465477792174\n",
      "CPUMA0010 0.0002062274779820461\n",
      "DIFFHEAR 0.0002022067869678068\n",
      "STATEFIP 0.00018977862131630552\n",
      "HHWT 0.00017883149381980878\n",
      "REGION 0.0001633308498616426\n",
      "CITIZEN 6.536730216377684e-05\n",
      "STATEICP 5.571289797456913e-05\n",
      "TRANWORK 2.2169943586392016e-05\n",
      "PWSTATE2 2.0433919168949544e-05\n",
      "CITYERR 8.889287866908901e-07\n"
     ]
    }
   ],
   "source": [
    "t.sort(reverse=True)\n",
    "for mse, name in t[:-1]:\n",
    "    print(name, mse)"
   ]
  },
  {
   "cell_type": "markdown",
   "metadata": {},
   "source": [
    "### Blinder–Oaxaca decomposition"
   ]
  },
  {
   "cell_type": "code",
   "execution_count": 19,
   "metadata": {},
   "outputs": [],
   "source": [
    "temp = work_force.copy()\n",
    "temp['INCWAGE'].replace([0, 999999, 999998], np.nan, inplace=True)\n",
    "temp['INCWAGE'] = np.log(temp['INCWAGE'])\n",
    "temp = temp.dropna()\n",
    "dependent = 'INCWAGE'"
   ]
  },
  {
   "cell_type": "code",
   "execution_count": 20,
   "metadata": {},
   "outputs": [
    {
     "data": {
      "text/plain": [
       "count    1.405825e+06\n",
       "mean     1.483197e+00\n",
       "std      4.997177e-01\n",
       "min      1.000000e+00\n",
       "25%      1.000000e+00\n",
       "50%      1.000000e+00\n",
       "75%      2.000000e+00\n",
       "max      2.000000e+00\n",
       "Name: SEX, dtype: float64"
      ]
     },
     "execution_count": 20,
     "metadata": {},
     "output_type": "execute_result"
    }
   ],
   "source": [
    "temp['SEX'].describe()"
   ]
  },
  {
   "cell_type": "code",
   "execution_count": 21,
   "metadata": {},
   "outputs": [],
   "source": [
    "## Quite confused by this!!!\n",
    "\n",
    "# Variables to drop\n",
    "# work_force_clean = temp.copy().drop(columns=['YEAR', 'DATANUM', 'SERIAL', 'CBSERIAL', 'INCEARN', 'INCTOT', 'OCCSCORE', \n",
    "#                                              'SEI', 'EDUC', 'DEGFIELD', 'OCC1950', 'OCC', 'GRADEATT', 'DEGFIELD2', \n",
    "#                                              'HISPAND', 'RACED', 'WKSWORK2', 'UHRSWORK'])"
   ]
  },
  {
   "cell_type": "code",
   "execution_count": 22,
   "metadata": {},
   "outputs": [],
   "source": [
    "# Variables to keep\n",
    "work_force_clean = temp[[dependent, 'EDUCD', 'DEGFIELDD', 'OCC2010', 'MARST', 'AGE', 'SEX', 'WKSWORK2', 'UHRSWORK',\n",
    "                        'METRO', 'RACE', 'HISPAN', 'IND1990', 'PWTYPE']]"
   ]
  },
  {
   "cell_type": "code",
   "execution_count": 38,
   "metadata": {},
   "outputs": [],
   "source": [
    "def run_regression(df, dependent):\n",
    "    formula = dependent + ' ~ '\n",
    "    for i in range(len(df.columns)):\n",
    "        name = df.columns[i]\n",
    "        try:\n",
    "            if df[name].var() < 1e-7 or name == dependent or name == 'SEX':\n",
    "                continue\n",
    "\n",
    "            formula += name\n",
    "            if i != len(df.columns) - 1:\n",
    "                formula += ' + '\n",
    "\n",
    "        except (ValueError, TypeError):\n",
    "            continue\n",
    "\n",
    "    model = smf.ols(formula, data=df)\n",
    "    results = model.fit()\n",
    "    return results"
   ]
  },
  {
   "cell_type": "code",
   "execution_count": 39,
   "metadata": {},
   "outputs": [],
   "source": [
    "work_force_male = work_force_clean[work_force_clean['SEX'] == 1]\n",
    "work_force_female = work_force_clean[work_force_clean['SEX'] == 2]"
   ]
  },
  {
   "cell_type": "code",
   "execution_count": 40,
   "metadata": {},
   "outputs": [],
   "source": [
    "results_male = run_regression(work_force_male, dependent)\n",
    "results_female = run_regression(work_force_female, dependent)"
   ]
  },
  {
   "cell_type": "code",
   "execution_count": 41,
   "metadata": {},
   "outputs": [
    {
     "data": {
      "text/plain": [
       "0.3875618852347138"
      ]
     },
     "execution_count": 41,
     "metadata": {},
     "output_type": "execute_result"
    }
   ],
   "source": [
    "total_log_pts = work_force_male[dependent].mean() - work_force_female[dependent].mean()\n",
    "total_log_pts"
   ]
  },
  {
   "cell_type": "code",
   "execution_count": 42,
   "metadata": {},
   "outputs": [
    {
     "name": "stdout",
     "output_type": "stream",
     "text": [
      "EDUCD -7.736066355562847\n",
      "DEGFIELDD -0.883001490895001\n",
      "OCC2010 -8.65415011926756\n",
      "MARST 3.4807210959947015\n",
      "AGE 0.385006439974509\n",
      "WKSWORK2 13.146855500158486\n",
      "UHRSWORK 38.8895565656722\n",
      "METRO 0.04241135521710955\n",
      "RACE 0.00014968356658429067\n",
      "HISPAN -0.0532287915999084\n",
      "IND1990 10.217957742897516\n",
      "PWTYPE -0.1505892028225454\n"
     ]
    },
    {
     "data": {
      "text/plain": [
       "48.68562242333325"
      ]
     },
     "execution_count": 42,
     "metadata": {},
     "output_type": "execute_result"
    }
   ],
   "source": [
    "explained = 0\n",
    "for key, val in results_male.params.iteritems():\n",
    "    if key == 'Intercept':\n",
    "        continue\n",
    "\n",
    "    percent = val*(work_force_male[key].mean() - work_force_female[key].mean())/total_log_pts*100\n",
    "    explained += percent\n",
    "    print(key, percent)\n",
    "\n",
    "explained"
   ]
  },
  {
   "cell_type": "code",
   "execution_count": 50,
   "metadata": {},
   "outputs": [
    {
     "name": "stdout",
     "output_type": "stream",
     "text": [
      "0.04615535256600591\n",
      "-0.01097044299163115\n",
      "0.04567336044572637\n",
      "-0.09235833827080386\n",
      "-0.010771654122708575\n",
      "0.155293574508504\n",
      "-0.3103805218937031\n",
      "-7.978208509149528e-05\n",
      "-0.01117786011448956\n",
      "-0.00103162275400146\n",
      "-0.05134563552663475\n",
      "-0.0058874762988043354\n"
     ]
    },
    {
     "data": {
      "text/plain": [
       "-63.70106451208864"
      ]
     },
     "execution_count": 50,
     "metadata": {},
     "output_type": "execute_result"
    }
   ],
   "source": [
    "# Unexplained factors\n",
    "unexplained = 0\n",
    "for key, val in results_female.params.iteritems():\n",
    "    if key == 'Intercept':\n",
    "        continue\n",
    "    print(work_force_female[key].mean()*(results_male.params[key] - results_female.params[key]))\n",
    "    unexplained += work_force_female[key].mean()*(results_male.params[key] - results_female.params[key])\n",
    "\n",
    "unexplained = unexplained/total_log_pts*100\n",
    "unexplained"
   ]
  },
  {
   "cell_type": "code",
   "execution_count": 49,
   "metadata": {},
   "outputs": [
    {
     "data": {
      "text/plain": [
       "-15.015442088755393"
      ]
     },
     "execution_count": 49,
     "metadata": {},
     "output_type": "execute_result"
    }
   ],
   "source": [
    "explained + unexplained"
   ]
  },
  {
   "cell_type": "markdown",
   "metadata": {},
   "source": [
    "This is bogus: https://github.com/chrisdfong/Gender-Pay-Gap-Analysis/blob/master/Project.ipynb"
   ]
  }
 ],
 "metadata": {
  "kernelspec": {
   "display_name": "Python 3",
   "language": "python",
   "name": "python3"
  },
  "language_info": {
   "codemirror_mode": {
    "name": "ipython",
    "version": 3
   },
   "file_extension": ".py",
   "mimetype": "text/x-python",
   "name": "python",
   "nbconvert_exporter": "python",
   "pygments_lexer": "ipython3",
   "version": "3.6.8"
  }
 },
 "nbformat": 4,
 "nbformat_minor": 2
}
