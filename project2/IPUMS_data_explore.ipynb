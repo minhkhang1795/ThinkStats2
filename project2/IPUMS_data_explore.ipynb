{
 "cells": [
  {
   "cell_type": "code",
   "execution_count": 2,
   "metadata": {},
   "outputs": [],
   "source": [
    "import pandas as pd\n",
    "import numpy as np"
   ]
  },
  {
   "cell_type": "code",
   "execution_count": 16,
   "metadata": {},
   "outputs": [],
   "source": [
    "df = pd.read_csv('usa_00002.csv')"
   ]
  },
  {
   "cell_type": "code",
   "execution_count": 29,
   "metadata": {},
   "outputs": [
    {
     "data": {
      "text/plain": [
       "Index(['YEAR', 'DATANUM', 'SERIAL', 'CBSERIAL', 'HHWT', 'CPI99', 'GQ',\n",
       "       'PERNUM', 'PERWT', 'SEX', 'AGE', 'MARST', 'RACE', 'RACED', 'HISPAN',\n",
       "       'HISPAND', 'SCHOOL', 'EDUC', 'EDUCD', 'EMPSTAT', 'EMPSTATD', 'OCC1950',\n",
       "       'OCC1990', 'OCC2010', 'IND1950', 'IND1990', 'WKSWORK2', 'UHRSWORK',\n",
       "       'INCWAGE'],\n",
       "      dtype='object')"
      ]
     },
     "execution_count": 29,
     "metadata": {},
     "output_type": "execute_result"
    }
   ],
   "source": [
    "df.columns"
   ]
  },
  {
   "cell_type": "markdown",
   "metadata": {},
   "source": [
    "## Age\n",
    "AGE reports the person's age in years as of the last birthday."
   ]
  },
  {
   "cell_type": "code",
   "execution_count": 19,
   "metadata": {},
   "outputs": [
    {
     "data": {
      "text/plain": [
       "count    3.190040e+06\n",
       "mean     4.128723e+01\n",
       "std      2.363224e+01\n",
       "min      0.000000e+00\n",
       "25%      2.100000e+01\n",
       "50%      4.200000e+01\n",
       "75%      6.000000e+01\n",
       "max      9.600000e+01\n",
       "Name: AGE, dtype: float64"
      ]
     },
     "execution_count": 19,
     "metadata": {},
     "output_type": "execute_result"
    }
   ],
   "source": [
    "df['AGE'].describe()"
   ]
  },
  {
   "cell_type": "markdown",
   "metadata": {},
   "source": [
    "***\n",
    "## Household weight\n",
    "HHWT is a 6-digit numeric variable which indicates how many households in the U.S. population are represented by a given household in an IPUMS sample and has **two implied decimals**. For example, a HHWT value of 010461 should be interpreted as 104.61. HHWT specific variable codes for missing, edited, or unidentified observations, observations not applicable (N/A), observations not in universe (NIU), top and bottom value coding, etc. are provided below if applicable by Census year (and data sample if specified).\n",
    "\n",
    "**User Note:** Users should also be sure to select one person (e.g., PERNUM = 1) to represent the entire household when using HHWT."
   ]
  },
  {
   "cell_type": "code",
   "execution_count": 20,
   "metadata": {},
   "outputs": [
    {
     "data": {
      "text/plain": [
       "0    206\n",
       "1     45\n",
       "2    136\n",
       "3    136\n",
       "4    136\n",
       "Name: HHWT, dtype: int64"
      ]
     },
     "execution_count": 20,
     "metadata": {},
     "output_type": "execute_result"
    }
   ],
   "source": [
    "df['HHWT'].head()"
   ]
  },
  {
   "cell_type": "markdown",
   "metadata": {},
   "source": [
    "***\n",
    "## Group Quarters Status\n",
    "GQ classifies all housing units as falling into one of three main categories: households, group quarters, or vacant units. It also identifies fragmentary sample units for 1850-1930 (see below). In all years, the data available about a person and their co-residents depend on whether the person lives in a household or in group quarters. Households are sampled as units, meaning that everyone in the household is included in the sample, and most household-level variables are available. People living in group quarters are generally sampled as individuals; other people in their unit may or may not be included in the sample, and there is no way of linking co-residents' records to one another. If, however, a sampled person in group quarters was living with relatives, the related group was sampled for 1850-1930. Most household-level variables are not available for group quarters or for vacant units.\n",
    "\n",
    "Group quarters are largely institutions and other group living arrangements, such as rooming houses and military barracks. The definitions vary from year to year, but the pre-1940 samples have generally used a definition of group quarters that includes units with 10 or more individuals unrelated to the householder. See the comparability discussion below and \"Sample Designs\" for more details about changing definitions of group quarters. Group-quarters types are identified in further detail by GQTYPE and GQFUNDS.\n",
    "\n",
    "Codes: https://usa.ipums.org/usa-action/variables/GQ#codes_section"
   ]
  },
  {
   "cell_type": "code",
   "execution_count": 21,
   "metadata": {},
   "outputs": [
    {
     "data": {
      "text/plain": [
       "0    1\n",
       "1    1\n",
       "2    1\n",
       "3    1\n",
       "4    1\n",
       "Name: GQ, dtype: int64"
      ]
     },
     "execution_count": 21,
     "metadata": {},
     "output_type": "execute_result"
    }
   ],
   "source": [
    "df['GQ'].head()"
   ]
  },
  {
   "cell_type": "markdown",
   "metadata": {},
   "source": [
    "***\n",
    "## Person number in sample unit"
   ]
  },
  {
   "cell_type": "code",
   "execution_count": 22,
   "metadata": {},
   "outputs": [
    {
     "data": {
      "text/plain": [
       "0    1\n",
       "1    1\n",
       "2    1\n",
       "3    2\n",
       "4    3\n",
       "Name: PERNUM, dtype: int64"
      ]
     },
     "execution_count": 22,
     "metadata": {},
     "output_type": "execute_result"
    }
   ],
   "source": [
    "df['PERNUM'].head()"
   ]
  },
  {
   "cell_type": "markdown",
   "metadata": {},
   "source": [
    "***\n",
    "##  Person weight\n",
    "PERWT indicates how many persons in the U.S. population are represented by a given person in an IPUMS sample.\n",
    "\n",
    "It is generally a good idea to use PERWT when conducting a person-level analysis of any IPUMS sample. The use of PERWT is optional when analyzing one of the \"flat\" or unweighted IPUMS samples. Flat IPUMS samples include the 1% samples from 1850-1930, all samples from 1960, 1970, and 1980, the 1% unweighted samples from 1990 and 2000, the 10% 2010 sample, and any of the full count 100% census datasets. PERWT must be used to obtain nationally representative statistics for person-level analyses of any sample other than those."
   ]
  },
  {
   "cell_type": "code",
   "execution_count": 23,
   "metadata": {},
   "outputs": [
    {
     "data": {
      "text/plain": [
       "0    206\n",
       "1     45\n",
       "2    136\n",
       "3    121\n",
       "4    111\n",
       "Name: PERWT, dtype: int64"
      ]
     },
     "execution_count": 23,
     "metadata": {},
     "output_type": "execute_result"
    }
   ],
   "source": [
    "df['PERWT'].head()"
   ]
  },
  {
   "cell_type": "markdown",
   "metadata": {},
   "source": [
    "***\n",
    "## Sex\n",
    "SEX reports whether the person was male or female.\n",
    "\n",
    "1 = Male\n",
    "\n",
    "2 = Female\n",
    "\n",
    "Codes: https://usa.ipums.org/usa-action/variables/SEX#codes_section"
   ]
  },
  {
   "cell_type": "code",
   "execution_count": 24,
   "metadata": {},
   "outputs": [
    {
     "data": {
      "text/plain": [
       "count    3.190040e+06\n",
       "mean     1.510606e+00\n",
       "std      4.998876e-01\n",
       "min      1.000000e+00\n",
       "25%      1.000000e+00\n",
       "50%      2.000000e+00\n",
       "75%      2.000000e+00\n",
       "max      2.000000e+00\n",
       "Name: SEX, dtype: float64"
      ]
     },
     "execution_count": 24,
     "metadata": {},
     "output_type": "execute_result"
    }
   ],
   "source": [
    "df['SEX'].describe()"
   ]
  },
  {
   "cell_type": "markdown",
   "metadata": {},
   "source": [
    "***\n",
    "## Marital status\n",
    "MARST gives each person's current marital status.\n",
    "\n",
    "Codes: https://usa.ipums.org/usa-action/variables/MARST#codes_section"
   ]
  },
  {
   "cell_type": "code",
   "execution_count": 25,
   "metadata": {},
   "outputs": [
    {
     "data": {
      "text/plain": [
       "0    3\n",
       "1    6\n",
       "2    1\n",
       "3    1\n",
       "4    6\n",
       "Name: MARST, dtype: int64"
      ]
     },
     "execution_count": 25,
     "metadata": {},
     "output_type": "execute_result"
    }
   ],
   "source": [
    "df['MARST'].head()"
   ]
  },
  {
   "cell_type": "markdown",
   "metadata": {},
   "source": [
    "***\n",
    "## Race\n",
    "RACE provides the full detail given by the respondent and/or released by the Census Bureau; it is not always historically compatible\n",
    "\n",
    "Codes: https://usa.ipums.org/usa-action/variables/RACE#codes_section"
   ]
  },
  {
   "cell_type": "code",
   "execution_count": 26,
   "metadata": {},
   "outputs": [
    {
     "data": {
      "text/plain": [
       "0    2\n",
       "1    1\n",
       "2    1\n",
       "3    1\n",
       "4    1\n",
       "Name: RACE, dtype: int64"
      ]
     },
     "execution_count": 26,
     "metadata": {},
     "output_type": "execute_result"
    }
   ],
   "source": [
    "df['RACE'].head()"
   ]
  },
  {
   "cell_type": "markdown",
   "metadata": {},
   "source": [
    "***\n",
    "## Race: Single race identification\n",
    "RACESING assigns a single race to multiple-race people. Each multiple-race person is assigned to the single race response category deemed most likely, depending on the individual's age, sex, Hispanic origin, region and urbanization level of residence, and the racial diversity of their local area. \n",
    "\n",
    "Codes: https://usa.ipums.org/usa-action/variables/RACESING#codes_section"
   ]
  },
  {
   "cell_type": "code",
   "execution_count": 31,
   "metadata": {},
   "outputs": [
    {
     "data": {
      "text/plain": [
       "0    200\n",
       "1    100\n",
       "2    100\n",
       "3    100\n",
       "4    100\n",
       "Name: RACED, dtype: int64"
      ]
     },
     "execution_count": 31,
     "metadata": {},
     "output_type": "execute_result"
    }
   ],
   "source": [
    "df['RACED'].head()"
   ]
  },
  {
   "cell_type": "markdown",
   "metadata": {},
   "source": [
    "***\n",
    "## Hispanic origin\n",
    "HISPAN identifies persons of Hispanic/Spanish/Latino origin and classifies them according to their country of origin when possible. Origin is defined by the Census Bureau as ancestry, lineage, heritage, nationality group, or country of birth. People of Hispanic origin may be of any race; see RACE for a discussion of coding issues involved. Users should note that race questions were not asked in the Puerto Rican censuses of 1970, 1980 and 1990. They were asked in the 1910 and 1920 Puerto Rican censuses, and in the 2000 and 2010 Puerto Rican census and the PRCS. However, questions assessing Spanish/Hispanic origin were not asked in the Puerto Rican censuses prior to 2000.\n",
    "\n",
    "The HISPAN general code covers country-of-origin classifications common to all years; the detailed code distinguishes additional groups and subgroups. See [HISPRULE](https://usa.ipums.org/usa-action/variables/HISPRULE#description_section) for details on how country of origin information was assigned prior to 1980.\n",
    "\n",
    "Codes: https://usa.ipums.org/usa-action/variables/HISPAN#codes_section"
   ]
  },
  {
   "cell_type": "code",
   "execution_count": 32,
   "metadata": {},
   "outputs": [
    {
     "data": {
      "text/plain": [
       "0    0\n",
       "1    0\n",
       "2    1\n",
       "3    0\n",
       "4    1\n",
       "Name: HISPAN, dtype: int64"
      ]
     },
     "execution_count": 32,
     "metadata": {},
     "output_type": "execute_result"
    }
   ],
   "source": [
    "df['HISPAN'].head()"
   ]
  },
  {
   "cell_type": "code",
   "execution_count": 33,
   "metadata": {},
   "outputs": [
    {
     "data": {
      "text/plain": [
       "0      0\n",
       "1      0\n",
       "2    100\n",
       "3      0\n",
       "4    100\n",
       "Name: HISPAND, dtype: int64"
      ]
     },
     "execution_count": 33,
     "metadata": {},
     "output_type": "execute_result"
    }
   ],
   "source": [
    "df['HISPAND'].head()"
   ]
  },
  {
   "cell_type": "markdown",
   "metadata": {},
   "source": [
    "***\n",
    "## School Attendance\n",
    "SCHOOL indicates whether the respondent attended school during a specified period.\n",
    "\n",
    "0 =\tN/A\n",
    "\n",
    "1 =\tNo, not in school\n",
    "\n",
    "2 =\tYes, in school\n",
    "\n",
    "9 =\tMissing\n",
    "\n",
    "Codes: https://usa.ipums.org/usa-action/variables/SCHOOL#codes_section"
   ]
  },
  {
   "cell_type": "code",
   "execution_count": 34,
   "metadata": {},
   "outputs": [
    {
     "data": {
      "text/plain": [
       "0    1\n",
       "1    1\n",
       "2    1\n",
       "3    1\n",
       "4    2\n",
       "Name: SCHOOL, dtype: int64"
      ]
     },
     "execution_count": 34,
     "metadata": {},
     "output_type": "execute_result"
    }
   ],
   "source": [
    "df['SCHOOL'].head()"
   ]
  },
  {
   "cell_type": "markdown",
   "metadata": {},
   "source": [
    "***\n",
    "## Educational attainment\n",
    "EDUC indicates respondents' educational attainment, as measured by the highest year of school or degree completed. Note that completion differs from the highest year of school attendance; for example, respondents who attended 10th grade but did not finish were classified in EDUC as having completed 9th grade. For additional detail on grade attendance, see [GRADEATT](https://usa.ipums.org/usa-action/variables/GRADEATT#codes_section) as well as the detailed version of [HIGRADE](https://usa.ipums.org/usa-action/variables/HIGRADE#description_section).\n",
    "\n",
    "Codes: https://usa.ipums.org/usa-action/variables/EDUC#codes_section"
   ]
  },
  {
   "cell_type": "code",
   "execution_count": 35,
   "metadata": {},
   "outputs": [
    {
     "data": {
      "text/plain": [
       "0     2\n",
       "1    10\n",
       "2     6\n",
       "3     6\n",
       "4     4\n",
       "Name: EDUC, dtype: int64"
      ]
     },
     "execution_count": 35,
     "metadata": {},
     "output_type": "execute_result"
    }
   ],
   "source": [
    "df['EDUC'].head()"
   ]
  },
  {
   "cell_type": "markdown",
   "metadata": {},
   "source": [
    "***\n",
    "## Employment status\n",
    "\n",
    "EMPSTAT indicates whether the respondent was a part of the labor force -- working or seeking work -- and, if so, whether the person was currently unemployed. The second digit preserves additional related information available for some years but not others. See [LABFORCE](https://usa.ipums.org/usa-action/variables/LABFORCE#description_section) for a dichotomous variable that identifies whether a person participated in the labor force or not and is available for all years in the IPUMS.\n",
    "\n",
    "Codes: https://usa.ipums.org/usa-action/variables/EMPSTAT#codes_section"
   ]
  },
  {
   "cell_type": "code",
   "execution_count": 36,
   "metadata": {},
   "outputs": [
    {
     "data": {
      "text/plain": [
       "0    3\n",
       "1    1\n",
       "2    1\n",
       "3    3\n",
       "4    3\n",
       "Name: EMPSTAT, dtype: int64"
      ]
     },
     "execution_count": 36,
     "metadata": {},
     "output_type": "execute_result"
    }
   ],
   "source": [
    "df['EMPSTAT'].head()"
   ]
  },
  {
   "cell_type": "code",
   "execution_count": 37,
   "metadata": {},
   "outputs": [
    {
     "data": {
      "text/plain": [
       "0    30\n",
       "1    10\n",
       "2    10\n",
       "3    30\n",
       "4    30\n",
       "Name: EMPSTATD, dtype: int64"
      ]
     },
     "execution_count": 37,
     "metadata": {},
     "output_type": "execute_result"
    }
   ],
   "source": [
    "df['EMPSTATD'].head()"
   ]
  },
  {
   "cell_type": "markdown",
   "metadata": {},
   "source": [
    "***\n",
    "## Occupation, 2010 basis\n",
    "OCC2010 is a harmonized occupation coding scheme based on the Census Bureau's 2010 ACS occupation classification scheme. Similar variables are offered for the 1950 (OCC1950) and 1990 (OCC1990) classifications. OCC2010 offers researchers a consistent, long-term classification of occupations.\n",
    "\n",
    "Codes: https://usa.ipums.org/usa-action/variables/OCC2010#codes_section"
   ]
  },
  {
   "cell_type": "code",
   "execution_count": 38,
   "metadata": {},
   "outputs": [
    {
     "data": {
      "text/plain": [
       "0    9920\n",
       "1     350\n",
       "2    6260\n",
       "3    9920\n",
       "4    9920\n",
       "Name: OCC2010, dtype: int64"
      ]
     },
     "execution_count": 38,
     "metadata": {},
     "output_type": "execute_result"
    }
   ],
   "source": [
    "df['OCC2010'].head()"
   ]
  },
  {
   "cell_type": "markdown",
   "metadata": {},
   "source": [
    "***\n",
    "## Industry, 1990 basis\n",
    "IND1990 classifies industries from all years since 1950 into the 1990 Census Bureau industrial classification scheme. Like IND1950, IND1990 offers researchers a consistent long-term classification of industries.\n",
    "\n",
    "Codes: https://usa.ipums.org/usa-action/variables/IND1990#codes_section"
   ]
  },
  {
   "cell_type": "code",
   "execution_count": 39,
   "metadata": {},
   "outputs": [
    {
     "data": {
      "text/plain": [
       "0      0\n",
       "1    840\n",
       "2     60\n",
       "3      0\n",
       "4      0\n",
       "Name: IND1990, dtype: int64"
      ]
     },
     "execution_count": 39,
     "metadata": {},
     "output_type": "execute_result"
    }
   ],
   "source": [
    "df['IND1990'].head()"
   ]
  },
  {
   "cell_type": "markdown",
   "metadata": {},
   "source": [
    "***\n",
    "## Weeks worked last year, intervalled\n",
    "WKSWORK2, like WKSWORK1, reports the number of weeks that the respondent worked for profit, pay, or as an unpaid family worker during the previous year. For the census, the reference period is the previous calendar year; for the ACS, the reference period is the previous 12 months. WKSWORK2 differs from WKSWORK1 in that responses are given in intervals (1-13 weeks, 14-26 weeks, and so on), instead of the precise number of weeks. This is because the 1960 and 1970 samples recorded weeks worked only in intervals. For the other years contained in WKSWORK2 (the 1940-1950 and 1980-2000 censuses, the ACS, and the PRCS), the exact number of weeks worked is recorded in WKSWORK1.\n",
    "\n",
    "\n",
    "Codes: https://usa.ipums.org/usa-action/variables/WKSWORK2#codes_section"
   ]
  },
  {
   "cell_type": "code",
   "execution_count": 40,
   "metadata": {},
   "outputs": [
    {
     "data": {
      "text/plain": [
       "0    0\n",
       "1    6\n",
       "2    6\n",
       "3    0\n",
       "4    0\n",
       "Name: WKSWORK2, dtype: int64"
      ]
     },
     "execution_count": 40,
     "metadata": {},
     "output_type": "execute_result"
    }
   ],
   "source": [
    "df['WKSWORK2'].head()"
   ]
  },
  {
   "cell_type": "markdown",
   "metadata": {},
   "source": [
    "***\n",
    "## Usual hours worked per week\n",
    "UHRSWORK reports the number of hours per week that the respondent usually worked, if the person worked during the previous year. The census inquiry relates to the previous calendar year, while the ACS and the PRCS uses the previous 12 months as the reference period.\n",
    "\n",
    "Codes: https://usa.ipums.org/usa-action/variables/UHRSWORK#codes_section\n",
    "\n",
    "00 = N/A\n",
    "\n",
    "99 = 99 hours (top code)"
   ]
  },
  {
   "cell_type": "code",
   "execution_count": 41,
   "metadata": {},
   "outputs": [
    {
     "data": {
      "text/plain": [
       "0     0\n",
       "1    42\n",
       "2    42\n",
       "3     0\n",
       "4     0\n",
       "Name: UHRSWORK, dtype: int64"
      ]
     },
     "execution_count": 41,
     "metadata": {},
     "output_type": "execute_result"
    }
   ],
   "source": [
    "df['UHRSWORK'].head()"
   ]
  },
  {
   "cell_type": "markdown",
   "metadata": {},
   "source": [
    "***\n",
    "## Wage and salary income\n",
    "INCWAGE is a 7-digit numeric code reporting each respondent's total pre-tax wage and salary income - that is, money received as an employee - for the previous year. INCWAGE specific variable codes for missing, edited, or unidentified observations, observations not applicable (N/A), observations not in universe (NIU), top and bottom value coding, etc. are provided below by Census year (and data sample if specified).\n",
    "\n",
    "Codes: https://usa.ipums.org/usa-action/variables/INCWAGE#codes_section"
   ]
  },
  {
   "cell_type": "code",
   "execution_count": 42,
   "metadata": {},
   "outputs": [
    {
     "data": {
      "text/plain": [
       "0        0\n",
       "1    38500\n",
       "2    72000\n",
       "3        0\n",
       "4        0\n",
       "Name: INCWAGE, dtype: int64"
      ]
     },
     "execution_count": 42,
     "metadata": {},
     "output_type": "execute_result"
    }
   ],
   "source": [
    "df['INCWAGE'].head()"
   ]
  },
  {
   "cell_type": "markdown",
   "metadata": {},
   "source": [
    "***\n",
    "## CPI-U adjustment factor to 1999 dollars\n",
    "\n",
    "CPI99 provides the CPI-U multiplier available from the Bureau of Labor Statistics to convert dollar figures to constant 1999 dollars. This corresponds to the dollar amounts in the 2000 census, which inquired about income in 1999. Multiplying dollar amounts by CPI99 (which is constant within years) will render them comparable across time and thus suitable for multivariate analysis.\n",
    "\n",
    "CPI99 is a 5-digit numeric variable that provides the CPI-U multiplier available from the Bureau of Labor Statistics to convert dollar figures to constant 1999 dollars and has **three implied decimals**. For example, a CPI99 value of 15423 should be interpreted as 15.423. See the [IPUMS inflation adjustment page](https://usa.ipums.org/usa/cpi99.shtml) for more information on how to use CPI99. \n",
    "\n",
    "No Specific Variable Code: https://usa.ipums.org/usa-action/variables/CPI99#codes_section"
   ]
  },
  {
   "cell_type": "code",
   "execution_count": 43,
   "metadata": {},
   "outputs": [
    {
     "data": {
      "text/plain": [
       "0    0.679\n",
       "1    0.679\n",
       "2    0.679\n",
       "3    0.679\n",
       "4    0.679\n",
       "Name: CPI99, dtype: float64"
      ]
     },
     "execution_count": 43,
     "metadata": {},
     "output_type": "execute_result"
    }
   ],
   "source": [
    "df['CPI99'].head()"
   ]
  },
  {
   "cell_type": "code",
   "execution_count": null,
   "metadata": {},
   "outputs": [],
   "source": []
  },
  {
   "cell_type": "code",
   "execution_count": null,
   "metadata": {},
   "outputs": [],
   "source": []
  },
  {
   "cell_type": "code",
   "execution_count": null,
   "metadata": {},
   "outputs": [],
   "source": []
  },
  {
   "cell_type": "code",
   "execution_count": null,
   "metadata": {},
   "outputs": [],
   "source": []
  },
  {
   "cell_type": "code",
   "execution_count": null,
   "metadata": {},
   "outputs": [],
   "source": []
  },
  {
   "cell_type": "code",
   "execution_count": null,
   "metadata": {},
   "outputs": [],
   "source": []
  },
  {
   "cell_type": "code",
   "execution_count": null,
   "metadata": {},
   "outputs": [],
   "source": []
  },
  {
   "cell_type": "code",
   "execution_count": null,
   "metadata": {},
   "outputs": [],
   "source": []
  },
  {
   "cell_type": "code",
   "execution_count": null,
   "metadata": {},
   "outputs": [],
   "source": []
  },
  {
   "cell_type": "code",
   "execution_count": null,
   "metadata": {},
   "outputs": [],
   "source": []
  },
  {
   "cell_type": "code",
   "execution_count": null,
   "metadata": {},
   "outputs": [],
   "source": []
  }
 ],
 "metadata": {
  "kernelspec": {
   "display_name": "Python 3",
   "language": "python",
   "name": "python3"
  },
  "language_info": {
   "codemirror_mode": {
    "name": "ipython",
    "version": 3
   },
   "file_extension": ".py",
   "mimetype": "text/x-python",
   "name": "python",
   "nbconvert_exporter": "python",
   "pygments_lexer": "ipython3",
   "version": "3.6.8"
  }
 },
 "nbformat": 4,
 "nbformat_minor": 2
}
